{
 "cells": [
  {
   "cell_type": "markdown",
   "metadata": {},
   "source": [
    "# Sliding Window\n"
   ]
  },
  {
   "cell_type": "markdown",
   "metadata": {},
   "source": [
    "## Fixed size subarray\n"
   ]
  },
  {
   "cell_type": "code",
   "execution_count": 53,
   "metadata": {},
   "outputs": [
    {
     "name": "stdout",
     "output_type": "stream",
     "text": [
      "[3, 3, 4, 5, 5, 5, 6]\n"
     ]
    },
    {
     "data": {
      "text/plain": [
       "[3, 3, 3, 3, 2, 2, 2]"
      ]
     },
     "execution_count": 53,
     "metadata": {},
     "output_type": "execute_result"
    }
   ],
   "source": [
    "# Maximum of all subarrays of size k - medium\n",
    "from collections import deque\n",
    "\n",
    "def max_in_subarrays(arr, K):\n",
    "    # to store the maximum elements in each subarray.\n",
    "    result = []\n",
    "    # to store the indices of elements in the current window\n",
    "    window = deque()\n",
    "\n",
    "    for i, num in enumerate(arr):\n",
    "        # when window is not empty (and)\n",
    "        # last element in wndw is lesser than current element\n",
    "        while window and arr[window[-1]] <= num:\n",
    "            window.pop()\n",
    "            \n",
    "        # storing curr element as it can be candidate for the next window\n",
    "        window.append(i)\n",
    "\n",
    "        #  the front element is outside the current window, so remove it from the front of the window\n",
    "        # when a big element is in the front: and is followed by small elements \n",
    "        if window[0] <= i - K:\n",
    "            window.popleft()\n",
    "\n",
    "        # after processing k elements i can add maxi to the result\n",
    "        if i >= K - 1:\n",
    "            result.append(arr[window[0]])\n",
    "\n",
    "    return result\n",
    "\n",
    "max_in_subarrays([3, 3, 3, 3, 2, 2, 2, 2, 2], 3)"
   ]
  },
  {
   "cell_type": "markdown",
   "metadata": {},
   "source": [
    "## Variable size subarray\n"
   ]
  },
  {
   "cell_type": "code",
   "execution_count": 46,
   "metadata": {},
   "outputs": [
    {
     "data": {
      "text/plain": [
       "[1, 5]"
      ]
     },
     "execution_count": 46,
     "metadata": {},
     "output_type": "execute_result"
    }
   ],
   "source": [
    "# Subarray with given sum: easy\n",
    "\n",
    "def subArraySum(arr, n, s):\n",
    "    if s == 0:\n",
    "        return [-1]\n",
    "\n",
    "    left = 0\n",
    "    right = 0\n",
    "    current_sum = 0\n",
    "\n",
    "    while right < n:\n",
    "        current_sum += arr[right]\n",
    "\n",
    "        while current_sum > s:\n",
    "            current_sum -= arr[left]\n",
    "            left += 1\n",
    "\n",
    "        if current_sum == s:\n",
    "            return [left + 1, right + 1]\n",
    "\n",
    "        right += 1\n",
    "\n",
    "    return [-1]\n",
    "\n",
    "\n",
    "subArraySum([1, 2, 3, 7, 5], 5, 12)  # Output: 2 4\n",
    "subArraySum([1, 2, 3, 4, 5, 6, 7, 8, 9, 10], 10, 15)  # Output: 1 5"
   ]
  },
  {
   "cell_type": "code",
   "execution_count": 101,
   "metadata": {},
   "outputs": [
    {
     "ename": "IndexError",
     "evalue": "tuple index out of range",
     "output_type": "error",
     "traceback": [
      "\u001b[1;31m---------------------------------------------------------------------------\u001b[0m",
      "\u001b[1;31mIndexError\u001b[0m                                Traceback (most recent call last)",
      "\u001b[1;32m~\\AppData\\Local\\Temp/ipykernel_17316/3342671893.py\u001b[0m in \u001b[0;36m<module>\u001b[1;34m\u001b[0m\n\u001b[0;32m     24\u001b[0m \u001b[1;33m\u001b[0m\u001b[0m\n\u001b[0;32m     25\u001b[0m \u001b[1;33m\u001b[0m\u001b[0m\n\u001b[1;32m---> 26\u001b[1;33m \u001b[0mlongest\u001b[0m\u001b[1;33m(\u001b[0m\u001b[1;33m-\u001b[0m\u001b[1;36m13\u001b[0m\u001b[1;33m,\u001b[0m \u001b[1;36m0\u001b[0m\u001b[1;33m,\u001b[0m \u001b[1;36m6\u001b[0m\u001b[1;33m,\u001b[0m \u001b[1;36m15\u001b[0m\u001b[1;33m,\u001b[0m \u001b[1;36m16\u001b[0m\u001b[1;33m,\u001b[0m \u001b[1;36m2\u001b[0m\u001b[1;33m,\u001b[0m \u001b[1;36m15\u001b[0m\u001b[1;33m,\u001b[0m \u001b[1;33m-\u001b[0m\u001b[1;36m12\u001b[0m\u001b[1;33m,\u001b[0m \u001b[1;36m17\u001b[0m\u001b[1;33m,\u001b[0m \u001b[1;33m-\u001b[0m\u001b[1;36m16\u001b[0m\u001b[1;33m,\u001b[0m \u001b[1;36m0\u001b[0m\u001b[1;33m,\u001b[0m \u001b[1;33m-\u001b[0m\u001b[1;36m3\u001b[0m\u001b[1;33m,\u001b[0m \u001b[1;36m19\u001b[0m\u001b[1;33m,\u001b[0m \u001b[1;33m-\u001b[0m\u001b[1;36m3\u001b[0m\u001b[1;33m,\u001b[0m \u001b[1;36m2\u001b[0m\u001b[1;33m,\u001b[0m \u001b[1;33m-\u001b[0m\u001b[1;36m9\u001b[0m\u001b[1;33m,\u001b[0m \u001b[1;33m-\u001b[0m\u001b[1;36m6\u001b[0m\u001b[1;33m,\u001b[0m \u001b[0mk\u001b[0m\u001b[1;33m=\u001b[0m\u001b[1;36m15\u001b[0m\u001b[1;33m)\u001b[0m\u001b[1;33m\u001b[0m\u001b[1;33m\u001b[0m\u001b[0m\n\u001b[0m",
      "\u001b[1;32m~\\AppData\\Local\\Temp/ipykernel_17316/3342671893.py\u001b[0m in \u001b[0;36mlongest\u001b[1;34m(k, *arr)\u001b[0m\n\u001b[0;32m      7\u001b[0m     \u001b[0mlow\u001b[0m\u001b[1;33m,\u001b[0m \u001b[0mhigh\u001b[0m \u001b[1;33m=\u001b[0m \u001b[1;36m0\u001b[0m\u001b[1;33m,\u001b[0m \u001b[1;36m0\u001b[0m\u001b[1;33m\u001b[0m\u001b[1;33m\u001b[0m\u001b[0m\n\u001b[0;32m      8\u001b[0m     \u001b[1;32mwhile\u001b[0m \u001b[0mhigh\u001b[0m \u001b[1;33m<=\u001b[0m \u001b[0mlen\u001b[0m\u001b[1;33m(\u001b[0m\u001b[0marr\u001b[0m\u001b[1;33m)\u001b[0m\u001b[1;33m:\u001b[0m\u001b[1;33m\u001b[0m\u001b[1;33m\u001b[0m\u001b[0m\n\u001b[1;32m----> 9\u001b[1;33m         \u001b[0msum\u001b[0m \u001b[1;33m+=\u001b[0m \u001b[0marr\u001b[0m\u001b[1;33m[\u001b[0m\u001b[0mhigh\u001b[0m\u001b[1;33m]\u001b[0m\u001b[1;33m\u001b[0m\u001b[1;33m\u001b[0m\u001b[0m\n\u001b[0m\u001b[0;32m     10\u001b[0m \u001b[1;33m\u001b[0m\u001b[0m\n\u001b[0;32m     11\u001b[0m         \u001b[1;32mwhile\u001b[0m \u001b[0msum\u001b[0m \u001b[1;33m>\u001b[0m \u001b[0mk\u001b[0m\u001b[1;33m:\u001b[0m\u001b[1;33m\u001b[0m\u001b[1;33m\u001b[0m\u001b[0m\n",
      "\u001b[1;31mIndexError\u001b[0m: tuple index out of range"
     ]
    }
   ],
   "source": []
  },
  {
   "cell_type": "code",
   "execution_count": null,
   "metadata": {},
   "outputs": [],
   "source": [
    "    "
   ]
  },
  {
   "cell_type": "markdown",
   "metadata": {},
   "source": [
    "# Prefix Sum"
   ]
  },
  {
   "cell_type": "markdown",
   "metadata": {},
   "source": [
    "```\n",
    "Original array: [1, 2, 3, 4, 5]\n",
    "prefix_sum = [0] * len(orginal_Array)\n",
    "\n",
    "Calculate prefix sum:\n",
    "\n",
    "prefix_sum[0] = arr[0] = 1\n",
    "prefix_sum[1] = prefix_sum[0] + arr[1] = 1 + 2 = 3\n",
    "prefix_sum[2] = prefix_sum[1] + arr[2] = 3 + 3 = 6\n",
    "prefix_sum[3] = prefix_sum[2] + arr[3] = 6 + 4 = 10\n",
    "prefix_sum[4] = prefix_sum[3] + arr[4] = 10 + 5 = 15\n",
    "\n",
    "Resulting prefix sum array: [1, 3, 6, 10, 15]\n",
    "```"
   ]
  },
  {
   "cell_type": "code",
   "execution_count": 1,
   "metadata": {},
   "outputs": [
    {
     "data": {
      "text/plain": [
       "'YES'"
      ]
     },
     "execution_count": 1,
     "metadata": {},
     "output_type": "execute_result"
    }
   ],
   "source": [
    "# Subarray with 0 sum - easy\n",
    "\n",
    "# Find prefix sum\n",
    "# Check if the prefix sum is zero or has been seen before:\n",
    "# If prefix_sum is zero, there exists a subarray with a zero sum that starts from the beginning of the array\n",
    "# If prefix_sum currently found is already in the prefix_sum_set, there exists a subarray with a zero sum between the current index and the index where the same prefix sum was seen before.\n",
    "\n",
    "\n",
    "def sub_arr_sum_zero(*arr):\n",
    "    prefix_sum_set = set()\n",
    "    prefix_sum = 0\n",
    "    prefix_sum_set.add(prefix_sum)\n",
    "    \n",
    "    for i in arr:\n",
    "        prefix_sum += i\n",
    "        \n",
    "        if prefix_sum in prefix_sum_set:\n",
    "            return \"YES\"\n",
    "        \n",
    "        prefix_sum_set.add(prefix_sum)\n",
    "    \n",
    "    return \"NO\"\n",
    "\n",
    "sub_arr_sum_zero(4,2,-3,1,6)"
   ]
  },
  {
   "cell_type": "code",
   "execution_count": null,
   "metadata": {},
   "outputs": [],
   "source": [
    "# Longest Sub-Array with Sum K : medium \n",
    "\n",
    "def lenOfLongSubarr(self, arr, n, K):\n",
    "    prefix_sum = 0  # Initialize the prefix sum\n",
    "    max_length = 0  # Initialize the maximum subarray length\n",
    "    sum_index_map = {}  # Dictionary to store cumulative sums and their indices\n",
    "\n",
    "    for i, num in enumerate(arr):\n",
    "        prefix_sum += num  # Calculate the cumulative sum\n",
    "\n",
    "        # If the current prefix sum is equal to K, update max_length\n",
    "        if prefix_sum == K:\n",
    "            max_length = i + 1\n",
    "\n",
    "        # If prefix_sum - K has been seen before, update max_length\n",
    "        if prefix_sum - K in sum_index_map:\n",
    "            max_length = max(max_length, i - sum_index_map[prefix_sum - K])\n",
    "\n",
    "        # Store the index of the first occurrence of the prefix sum\n",
    "        if prefix_sum not in sum_index_map:\n",
    "            sum_index_map[prefix_sum] = i\n",
    "\n",
    "    return max_length"
   ]
  },
  {
   "cell_type": "markdown",
   "metadata": {},
   "source": [
    "# Stack in python"
   ]
  },
  {
   "cell_type": "markdown",
   "metadata": {},
   "source": [
    "implemnting stack in python"
   ]
  },
  {
   "cell_type": "code",
   "execution_count": null,
   "metadata": {},
   "outputs": [],
   "source": [
    "class Stack:\n",
    "    def __init__(self):\n",
    "        self.items = []\n",
    "\n",
    "    def is_empty(self):\n",
    "        return self.items == []\n",
    "\n",
    "    def push(self, item):\n",
    "        self.items.append(item)\n",
    "\n",
    "    def pop(self):\n",
    "        if not self.is_empty():\n",
    "            return self.items.pop()\n",
    "        else:\n",
    "            raise Exception(\"Stack is empty\")\n",
    "\n",
    "    def peek(self):\n",
    "        if not self.is_empty():\n",
    "            return self.items[-1]\n",
    "        else:\n",
    "            raise Exception(\"Stack is empty\")\n",
    "\n",
    "    def size(self):\n",
    "        return len(self.items)\n",
    "    \n",
    "# Create a stack\n",
    "stack = Stack()\n",
    "\n",
    "# Check if the stack is empty\n",
    "print(stack.is_empty())  # Output: True\n",
    "\n",
    "# Push elements onto the stack\n",
    "stack.push(1)\n",
    "stack.push(2)\n",
    "stack.push(3)\n",
    "\n",
    "# Check the top element without removing it\n",
    "print(stack.peek())  # Output: 3\n",
    "\n",
    "# Pop elements from the stack\n",
    "print(stack.pop())   # Output: 3\n",
    "print(stack.pop())   # Output: 2\n",
    "\n",
    "# Check the size of the stack\n",
    "print(stack.size())  # Output: 1\n",
    "\n",
    "# Pop the remaining element\n",
    "print(stack.pop())   # Output: 1\n",
    "\n",
    "# Try to pop from an empty stack (this will raise an exception)\n",
    "# stack.pop()\n"
   ]
  }
 ],
 "metadata": {
  "kernelspec": {
   "display_name": "Python 3",
   "language": "python",
   "name": "python3"
  },
  "language_info": {
   "codemirror_mode": {
    "name": "ipython",
    "version": 3
   },
   "file_extension": ".py",
   "mimetype": "text/x-python",
   "name": "python",
   "nbconvert_exporter": "python",
   "pygments_lexer": "ipython3",
   "version": "3.10.1"
  },
  "orig_nbformat": 4
 },
 "nbformat": 4,
 "nbformat_minor": 2
}
