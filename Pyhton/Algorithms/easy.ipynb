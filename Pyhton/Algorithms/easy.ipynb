{
 "cells": [
  {
   "cell_type": "markdown",
   "metadata": {},
   "source": [
    "Ask clarifying questions regarding the input, for example:\n",
    "\n",
    "Will the input only have integers, or could there be other types?\n",
    "Will the input be sorted or unsorted?\n",
    "Is the input guaranteed to have elements or could it be empty?\n",
    "What should I do if an invalid input is given?\n",
    "Ask about the expected input size. Sometimes, the interviewer will be vague, but if they do give you a range, it can be a clue. For example, if n is very small, it is likely backtracking. If n is around 100 - 1000, an O(n^2) solution might be optimal. If n is very large, then you might need to do better than O(n)"
   ]
  },
  {
   "cell_type": "markdown",
   "metadata": {},
   "source": [
    "https://leetcode.com/explore/interview/card/cheatsheets/720/resources/4723/"
   ]
  },
  {
   "cell_type": "markdown",
   "metadata": {},
   "source": [
    "# Leetcode\n"
   ]
  },
  {
   "cell_type": "markdown",
   "metadata": {},
   "source": [
    "Is Subsequence\n",
    "\n",
    "```\n",
    "Given two strings s and t, return true if s is a subsequence of t, or false otherwise.\n",
    "\n",
    "A subsequence of a string is a new string that is formed from the original string by deleting some (can be none) of the characters without disturbing the relative positions of the remaining characters. (i.e., \"ace\" is a subsequence of \"abcde\" while \"aec\" is not).\n",
    "```\n"
   ]
  },
  {
   "cell_type": "code",
   "execution_count": null,
   "metadata": {},
   "outputs": [],
   "source": [
    "def isSubsequence(s: str, t: str) -> bool:\n",
    "    if len(s) == 0:\n",
    "        return True\n",
    "\n",
    "    sp = 0\n",
    "    for i in t:\n",
    "        if s[sp] == i:\n",
    "            sp += 1\n",
    "            if sp == len(s):\n",
    "                return True\n",
    "\n",
    "    return False\n"
   ]
  },
  {
   "cell_type": "markdown",
   "metadata": {},
   "source": [
    "Two Sum\n",
    "\n",
    "```\n",
    "Input: nums = [2,7,11,15], target = 9\n",
    "Output: [0,1]\n",
    "Explanation: Because nums[0] + nums[1] == 9, we return [0, 1].\n",
    "\n",
    "Answer can be in any order\n",
    "```"
   ]
  },
  {
   "cell_type": "code",
   "execution_count": 2,
   "metadata": {},
   "outputs": [],
   "source": [
    "def twoSum(nums: list[int], target: int) -> list[int]:\n",
    "    ans = []\n",
    "    d = dict()\n",
    "\n",
    "    for i, v in enumerate(nums):\n",
    "        if target - v in d:\n",
    "            ans.append(i)\n",
    "            ans.append(d[target - v])\n",
    "        else:\n",
    "            d[v] = i\n",
    "\n",
    "    return ans"
   ]
  },
  {
   "cell_type": "markdown",
   "metadata": {},
   "source": [
    "Reverse a number"
   ]
  },
  {
   "cell_type": "code",
   "execution_count": null,
   "metadata": {},
   "outputs": [],
   "source": [
    "def isPalindrome(x: int) -> bool:\n",
    "    # -121 != 121-\n",
    "    if x < 0:\n",
    "        return False\n",
    "\n",
    "    store = x\n",
    "    new_num = 0\n",
    "    temp = 0\n",
    "\n",
    "    while x:\n",
    "        new_num = temp * 10 + (x % 10)\n",
    "        temp = new_num\n",
    "        x //= 10\n",
    "\n",
    "    if store == new_num:\n",
    "        return True\n",
    "    return False\n",
    "\n",
    "\n",
    "# part-1\n",
    "# while x:\n",
    "    # new_num = new_num * 10 + (x % 10)\n",
    "    # x //= 10\n",
    "# part-2\n",
    "# while x:\n",
    "#     new_num *= 10 + (x % 10)\n",
    "#     x //= 10"
   ]
  },
  {
   "cell_type": "markdown",
   "metadata": {},
   "source": [
    "Match Brackets"
   ]
  },
  {
   "cell_type": "code",
   "execution_count": null,
   "metadata": {},
   "outputs": [],
   "source": [
    "def isValid(s: str) -> bool:\n",
    "    if len(s) <= 1:\n",
    "        return False\n",
    "    st = []\n",
    "    for i in s:\n",
    "        if i == \")\" or i == \"}\" or i == \"]\":\n",
    "            if st:\n",
    "                if i == \")\" and st[-1] == \"(\":\n",
    "                    st.pop()\n",
    "                elif i == \"}\" and st[-1] == \"{\":\n",
    "                    st.pop()\n",
    "                elif i == \"]\" and st[-1] == \"[\":\n",
    "                    st.pop()\n",
    "                # when the brackets do not match\n",
    "                else:\n",
    "                    return False\n",
    "            # )(){}\n",
    "            else:\n",
    "                return False\n",
    "        else:\n",
    "            st.append(i)\n",
    "        \n",
    "    # if stack is not empty\n",
    "    if st:\n",
    "        return False\n",
    "    # if stack is not empty\n",
    "    return True\n",
    "\n",
    "print(isValid(')(){}'))"
   ]
  },
  {
   "cell_type": "markdown",
   "metadata": {},
   "source": [
    "Roman To Integer"
   ]
  },
  {
   "cell_type": "code",
   "execution_count": 31,
   "metadata": {},
   "outputs": [
    {
     "name": "stdout",
     "output_type": "stream",
     "text": [
      "9\n",
      "40\n",
      "4\n",
      "1994\n"
     ]
    }
   ],
   "source": [
    "def romanToInt(s: str) -> int:\n",
    "    d = {\"I\": 1, \"V\": 5, \"X\": 10, \"L\": 50, \"C\": 100, \"D\": 500, \"M\": 1000}\n",
    "\n",
    "    num = 0\n",
    "    switch = \"off\"\n",
    "\n",
    "    for i in range(len(s)):\n",
    "        if i + 1 < len(s) and d[s[i]] < d[s[i + 1]]:\n",
    "            switch = \"on\"\n",
    "            continue\n",
    "\n",
    "        num += d[s[i]]\n",
    "\n",
    "        if switch == \"on\":\n",
    "            switch = \"off\"\n",
    "            num -= d[s[i - 1]]\n",
    "\n",
    "    return num\n",
    "\n",
    "\n",
    "print(romanToInt('IX')) # 9\n",
    "print(romanToInt('XL')) # 40\n",
    "print(romanToInt('IV')) # 4\n",
    "print(romanToInt('MCMXCIV')) # 1994"
   ]
  },
  {
   "cell_type": "markdown",
   "metadata": {},
   "source": [
    "Plus One\n",
    "\n",
    "```\n",
    "Input: digits = [4,3,2,1]\n",
    "Output: [4,3,2,2]\n",
    "Explanation: The array represents the integer 4321.\n",
    "Incrementing by one gives 4321 + 1 = 4322.\n",
    "Thus, the result should be [4,3,2,2]\n",
    "\n",
    "Input: digits = [9]\n",
    "Output: [1,0]\n",
    "Explanation: The array represents the integer 9.\n",
    "Incrementing by one gives 9 + 1 = 10.\n",
    "Thus, the result should be [1,0].\n",
    "```"
   ]
  },
  {
   "cell_type": "code",
   "execution_count": null,
   "metadata": {},
   "outputs": [],
   "source": [
    "def plusOne(self, digits: list[int]) -> list[int]:\n",
    "    if digits[-1] < 9:\n",
    "        digits[-1] += 1\n",
    "    else:\n",
    "        i = len(digits) - 1\n",
    "        while digits[i] == 9:\n",
    "            digits[i] = 0\n",
    "            i -= 1\n",
    "\n",
    "        if i >= 0:\n",
    "            digits[i] += 1\n",
    "        else:\n",
    "            digits.insert(0, 1)\n",
    "\n",
    "    return digits"
   ]
  },
  {
   "cell_type": "markdown",
   "metadata": {},
   "source": [
    "First Letter to Appear Twice\n",
    "\n",
    "```\n",
    "input: ncwn\n",
    "output: n\n",
    "\n",
    "Input: s = \"abccbaacz\"\n",
    "Output: \"c\"\n",
    "```"
   ]
  },
  {
   "cell_type": "code",
   "execution_count": null,
   "metadata": {},
   "outputs": [],
   "source": [
    "def repeatedCharacter(s: str) -> str:\n",
    "    d = dict()\n",
    "    temp = \"_\"\n",
    "    for i in s:\n",
    "        if i in d:\n",
    "            return i\n",
    "        else:\n",
    "            d[i] = 1"
   ]
  },
  {
   "cell_type": "markdown",
   "metadata": {},
   "source": [
    "Aritnhmetic Triplets"
   ]
  },
  {
   "cell_type": "code",
   "execution_count": 1,
   "metadata": {},
   "outputs": [],
   "source": [
    "def arithmeticTriplets(nums: list[int], diff: int) -> int:\n",
    "    d = dict()\n",
    "\n",
    "    # Mark every elem presence in map.\n",
    "    for i in range(len(nums)):\n",
    "        d[nums[i]] = i\n",
    "\n",
    "    c = 0\n",
    "    # For every element say 'elm' check if there exist both numbers, (elm + diff) and (elm - diff) inside map. If yes then increment cnt\n",
    "    for j, v in enumerate(nums):\n",
    "        if (v - diff in d) and (diff + v in d):\n",
    "            c += 1\n",
    "\n",
    "    # Happy return :)\n",
    "    return c\n",
    "\n",
    "\n",
    "# my-soln = 2\n",
    "\n",
    "# since gvn arry is in increasing order:\n",
    "# get nums[k] and search for nums[j]\n",
    "# from nums[j] find nums[i]\n",
    "# hence we found 3-triplets so increment cout\n",
    "# nums[j] - nums[i] == diff, and\n",
    "# nums[k] - nums[j] == diff"
   ]
  },
  {
   "cell_type": "markdown",
   "metadata": {},
   "source": [
    "Find All K-Distant Indices in an Array"
   ]
  },
  {
   "cell_type": "code",
   "execution_count": null,
   "metadata": {},
   "outputs": [],
   "source": [
    "def findKDistantIndices(nums: list[int], key: int, k: int) -> list[int]:\n",
    "    ans = []\n",
    "    j = 0\n",
    "\n",
    "    for i in range(len(nums)):\n",
    "        if nums[i] == key:\n",
    "            j = max(j, i - k)\n",
    "            while j <= i + k and j < len(nums):\n",
    "                ans.append(j)\n",
    "                j += 1\n",
    "\n",
    "    return ans"
   ]
  },
  {
   "cell_type": "markdown",
   "metadata": {},
   "source": [
    "# GFG\n"
   ]
  },
  {
   "cell_type": "code",
   "execution_count": 27,
   "metadata": {},
   "outputs": [
    {
     "name": "stdout",
     "output_type": "stream",
     "text": [
      "9\n",
      "40\n",
      "4\n",
      "6\n",
      "8\n",
      "1994\n"
     ]
    }
   ],
   "source": [
    "def removeElement(nums: list[int], val: int) -> int:\n",
    "    k = 0\n",
    "    for i in range(len(nums)):\n",
    "        if nums[i] == val:\n",
    "            nums[] , nums[] = nums[],'_'\n",
    "            k += 1\n",
    "    return len(nums) - k"
   ]
  }
 ],
 "metadata": {
  "kernelspec": {
   "display_name": "Python 3",
   "language": "python",
   "name": "python3"
  },
  "language_info": {
   "codemirror_mode": {
    "name": "ipython",
    "version": 3
   },
   "file_extension": ".py",
   "mimetype": "text/x-python",
   "name": "python",
   "nbconvert_exporter": "python",
   "pygments_lexer": "ipython3",
   "version": "3.10.1"
  },
  "orig_nbformat": 4
 },
 "nbformat": 4,
 "nbformat_minor": 2
}
