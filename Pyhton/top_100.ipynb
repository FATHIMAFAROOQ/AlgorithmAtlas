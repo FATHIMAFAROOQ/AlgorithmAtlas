{
 "cells": [
  {
   "cell_type": "markdown",
   "metadata": {},
   "source": [
    "# TOP 100 Codes\n",
    "\n",
    "[Top 100 codes](https://prepinsta.com/top-100-codes/)\n"
   ]
  },
  {
   "cell_type": "markdown",
   "metadata": {},
   "source": [
    "## Getting Started\n"
   ]
  },
  {
   "cell_type": "markdown",
   "metadata": {},
   "source": [
    "Positive or Negative number:"
   ]
  },
  {
   "cell_type": "code",
   "execution_count": null,
   "metadata": {},
   "outputs": [],
   "source": [
    "num = int(input(\"Enter a number\"))\n",
    "\n",
    "if num == 0:\n",
    "    print(\"Zero\")\n",
    "elif num > 0:\n",
    "    print(\"Positive\")\n",
    "else:\n",
    "    print(\"Negative\")\n"
   ]
  },
  {
   "cell_type": "markdown",
   "metadata": {},
   "source": [
    "Even or Odd number:"
   ]
  },
  {
   "cell_type": "code",
   "execution_count": null,
   "metadata": {},
   "outputs": [],
   "source": [
    "num = int(input(\"Enter a number\"))\n",
    "\n",
    "# if else\n",
    "if num % 2 == 0:\n",
    "    print(\"Even\")\n",
    "else:\n",
    "    print(\"Odd\")\n",
    "\n",
    "\n",
    "# Bitwise\n",
    "def isEven(num):\n",
    "    return not num & 1\n",
    "\n",
    "\n",
    "if __name__ == \"__main__\":\n",
    "    if isEven(num):\n",
    "        print(\"Even\")\n",
    "    else:\n",
    "        print(\"Odd\")"
   ]
  },
  {
   "cell_type": "markdown",
   "metadata": {},
   "source": [
    "sums of First N Natural numbers:"
   ]
  },
  {
   "cell_type": "code",
   "execution_count": null,
   "metadata": {},
   "outputs": [],
   "source": [
    "num = int(input(\"Enter a number\"))\n",
    "sums = 0\n",
    "\n",
    "# if else\n",
    "for n in range(1, num + 1):\n",
    "    sums += n\n",
    "print(sums)\n",
    "\n",
    "# formula\n",
    "print(num * (num + 1) / 2)\n",
    "\n",
    "\n",
    "# using recursion\n",
    "def rec(num):\n",
    "    if num == 1:\n",
    "        return num\n",
    "    return num + rec(num - 1)\n",
    "\n",
    "\n",
    "print(rec(num))\n",
    "\n",
    "\"\"\" \n",
    "f(4) -> 4 + f(3) [6] -> 10\n",
    "f(3) -> 3 + f(2) [3] -> 6\n",
    "f(2) -> 2 + f(1) [1] -> 3\n",
    "f(1) -> 1 + f(0) [0] -> 1\n",
    "f(0) -> num == 0 -> 0 \n",
    "\"\"\""
   ]
  },
  {
   "cell_type": "markdown",
   "metadata": {},
   "source": [
    "sums of numbers in a given range"
   ]
  },
  {
   "cell_type": "code",
   "execution_count": null,
   "metadata": {},
   "outputs": [],
   "source": [
    "start = int(input(\"Enter a start number\"))\n",
    "end = int(input(\"Enter a end number\"))\n",
    "sums = 0\n",
    "\n",
    "# for loop: brute force\n",
    "for n in range(start, end + 1):\n",
    "    sums += n\n",
    "print(sums)\n",
    "\n",
    "# formula\n",
    "print((end * (end + 1) / 2) - (start * (start + 1) / 2) + start)\n",
    "\n",
    "\n",
    "# recursion\n",
    "def rec(start, end, sums):\n",
    "    if start > end:\n",
    "        return sums\n",
    "    return start + rec(start + 1, end, sums)\n",
    "\n",
    "\n",
    "print(rec(start, end, 0))\n",
    "\n",
    "\"\"\" 4 + 5 + 6\n",
    "f(4) -> 4 + f(5) [11] -> 15\n",
    "f(5) -> 5 + f(6) [6] -> 11\n",
    "f(6) -> 6 + f(7) [0] -> 6\n",
    "f(7) -> 0 -> 0\n",
    "\"\"\""
   ]
  },
  {
   "cell_type": "markdown",
   "metadata": {},
   "source": [
    "Greatest of two numbers:\n"
   ]
  },
  {
   "cell_type": "code",
   "execution_count": null,
   "metadata": {},
   "outputs": [],
   "source": [
    "a, b = 23, 45\n",
    "\n",
    "# if else\n",
    "if a > b:\n",
    "    print(f\"{a} is grater than {b}\")\n",
    "elif a < b:\n",
    "    print(f\"{a} is smaller than {b}\")\n",
    "else:\n",
    "    print(f\"{a} and {b} are equal\")\n",
    "\n",
    "# in - built function\n",
    "print(max(a, b))"
   ]
  },
  {
   "cell_type": "markdown",
   "metadata": {},
   "source": [
    "Greatest of three numbers:"
   ]
  },
  {
   "cell_type": "code",
   "execution_count": null,
   "metadata": {},
   "outputs": [],
   "source": [
    "a, b, c = 1, 4, 100\n",
    "\n",
    "# if else\n",
    "if a > b and a > c:\n",
    "    print(f\"{a} is grater than {b} and {c}\")\n",
    "elif a < b and b > c:\n",
    "    print(f\"{b} is grater than {a} and {c}\")\n",
    "elif a == b == c:\n",
    "    print(f\"{a} {b} and {c} are equal\")\n",
    "else:\n",
    "    print(f\"{c} is greater than {a} and {b}\")\n",
    "\n",
    "# in - built function\n",
    "print(max(a, b, c))"
   ]
  },
  {
   "cell_type": "markdown",
   "metadata": {},
   "source": [
    "Leap year or not:"
   ]
  },
  {
   "cell_type": "code",
   "execution_count": null,
   "metadata": {},
   "outputs": [],
   "source": [
    "lp_year, century_but_not_leap, century_and_leap_year = 1896, 1900, 1600\n",
    "year = int(input(\"Enter the year: \"))\n",
    "\n",
    "# if else\n",
    "if (year % 400 == 0) or (year % 4 == 0 and year % 100 != 0):\n",
    "    print(\"Leap Year\")\n",
    "else:\n",
    "    print(\"Not a Leap Year\")\n",
    "\n",
    "# caleandar module\n",
    "import calendar\n",
    "\n",
    "if calendar.isleap(year):\n",
    "    print(year, \"is a leap year\")\n",
    "else:\n",
    "    print(year, \"is not a leap year.\")\n",
    "\n",
    "# All leap years are divisible by 4\n",
    "# all century years(leap and non leap century) are divisible by 100\n",
    "# some `century years` are leap years(div by 400 & 4)\n",
    "# non leap century years are (div by 4 but not 400)"
   ]
  },
  {
   "cell_type": "markdown",
   "metadata": {},
   "source": [
    "Prime number:"
   ]
  },
  {
   "cell_type": "code",
   "execution_count": null,
   "metadata": {},
   "outputs": [],
   "source": [
    "# brute force\n",
    "num = 11\n",
    "isprime = True\n",
    "\n",
    "for i in range(2, num):\n",
    "    if num % i == 0:\n",
    "        print(\"Not prime\")\n",
    "        isprime = False\n",
    "        break\n",
    "\n",
    "if isprime:\n",
    "    print(\"Prime\")\n",
    "\n",
    "# better\n",
    "for i in range(2, int(num/2)+1):\n",
    "    pass\n",
    "# best\n",
    "for i in range(2, int(pow(num, 0.5)+1)):\n",
    "    pass\n",
    "# the best: by skipping even iterations\n",
    "# we add +1 to include the sqrt 9^(1/2) = 3(3 shld not be skipped by range())\n",
    "for i in range(3, int(pow(num, 0.5)+1), 2):\n",
    "\n",
    "    # eg: 12/2 => 6 (but 12 is div by 2,3,4,6 in that range)\n",
    "    # eg: 12^(1/2) => 3.smtg (the range is decreased hence this is efficient)\n"
   ]
  },
  {
   "cell_type": "markdown",
   "metadata": {},
   "source": [
    "Prime number within a given range:"
   ]
  },
  {
   "cell_type": "code",
   "execution_count": null,
   "metadata": {},
   "outputs": [],
   "source": [
    "low, high = 100, 120\n",
    "ans = []\n",
    "\n",
    "for i in range(low, high + 1):\n",
    "    isprime = True\n",
    "    if i == 2 or i == 3:\n",
    "        ans.append(i)\n",
    "    elif (\n",
    "        i == 1 or i % 2 == 0\n",
    "    ):  # if this is first statemnt then 2 can get ignored as 2%2 == 0\n",
    "        continue\n",
    "    else:\n",
    "        for j in range(3, int(pow(i, 0.5)) + 1, 2):\n",
    "            if i % j == 0:\n",
    "                isprime = False\n",
    "                break\n",
    "        if isprime:\n",
    "            ans.append(i)\n",
    "\n",
    "print(ans)"
   ]
  },
  {
   "cell_type": "markdown",
   "metadata": {},
   "source": [
    "sums of digits of a number:\n"
   ]
  },
  {
   "cell_type": "code",
   "execution_count": null,
   "metadata": {},
   "outputs": [],
   "source": [
    "n = 1234\n",
    "sums = 0\n",
    "\n",
    "while n:\n",
    "    sums += n % 10\n",
    "    n //= 10\n",
    "\n",
    "print(sums)\n",
    "\n",
    "# using string\n",
    "s = 0\n",
    "for i in str(12345):\n",
    "    s += int(i)\n",
    "print(s)"
   ]
  },
  {
   "cell_type": "markdown",
   "metadata": {},
   "source": [
    "Reverse of a number :\n",
    "\n",
    "Don't get confused btw this code and Replace 0's with 1's in a number (coz that code does not work for the number 10(ka reverse))\n"
   ]
  },
  {
   "cell_type": "code",
   "execution_count": 1,
   "metadata": {},
   "outputs": [
    {
     "name": "stdout",
     "output_type": "stream",
     "text": [
      "67989\n",
      "321\n"
     ]
    }
   ],
   "source": [
    "n = 98976\n",
    "reverse = 0\n",
    "temp = 0\n",
    "# 1234\n",
    "# 0 * 10 + 4 = 4 | 4 * 10 + 3 -> 43 | 43 * 10 + 2 -> 432 | 432 * 10 + 1 -> 4321\n",
    "\n",
    "while n:\n",
    "    reverse = temp * 10 + (\n",
    "        n % 10\n",
    "    )  # reverse = reverse * 10 + (n % 10)  (temp not needed)\n",
    "    temp = reverse\n",
    "    n //= 10\n",
    "print(reverse)\n",
    "\n",
    "# using string\n",
    "print(str(123)[::-1])"
   ]
  },
  {
   "cell_type": "markdown",
   "metadata": {},
   "source": [
    "Palindrome number:"
   ]
  },
  {
   "cell_type": "code",
   "execution_count": null,
   "metadata": {},
   "outputs": [],
   "source": [
    "# get reverse of the num and match it with the original num\n",
    "original_num = 11211\n",
    "store = 11211\n",
    "reverse_num = 0\n",
    "\n",
    "while original_num > 0:\n",
    "    remainder = original_num % 10\n",
    "    reverse_num = (reverse_num * 10) + remainder\n",
    "    original_num = original_num // 10\n",
    "\n",
    "if store == reverse_num:\n",
    "    print(\"The number is palindrome!\")\n",
    "\n",
    "# string method to the rescue\n",
    "print(str(11211)[::-1] == str(11211))"
   ]
  },
  {
   "cell_type": "markdown",
   "metadata": {},
   "source": [
    "Armstrong number :\n",
    "\n",
    "```\n",
    "371 -> [3^3 + 7^3 + 1^3] = [27 + 343 + 1] = 371\n",
    "1634 -> [1^4 + 6^4 + 3^4 + 4^4] = [1 + 1296 + 81 + 256] = 1634\n",
    "```"
   ]
  },
  {
   "cell_type": "code",
   "execution_count": null,
   "metadata": {},
   "outputs": [],
   "source": [
    "# iterative method\n",
    "n = 1634\n",
    "save = n\n",
    "cube = 0\n",
    "length = len(str(n))\n",
    "\n",
    "while n:\n",
    "    cube += (n % 10) ** length\n",
    "    n //= 10\n",
    "\n",
    "if save == cube:\n",
    "    print(f\"{save} is an amstrong number\")\n",
    "else:\n",
    "    print(f\"{save} is not an amstrong number\")"
   ]
  },
  {
   "cell_type": "markdown",
   "metadata": {},
   "source": [
    "Armstrong number in a given range :\n"
   ]
  },
  {
   "cell_type": "code",
   "execution_count": null,
   "metadata": {},
   "outputs": [],
   "source": [
    "low, high = 150, 10000\n",
    "\n",
    "\n",
    "def isAmstrong(val):\n",
    "    sums = 0\n",
    "\n",
    "    # [1, 5, 3]\n",
    "    digits = [int(d) for d in str(val)]\n",
    "    for i in digits:\n",
    "        sums += pow(i, len(digits))\n",
    "\n",
    "    if sums == val:\n",
    "        print(val, end=\" \")\n",
    "\n",
    "\n",
    "for i in range(low, high + 1):\n",
    "    isAmstrong(i)"
   ]
  },
  {
   "cell_type": "markdown",
   "metadata": {},
   "source": [
    "Fibonacci Series upto nth term : 0, 1, 1, 2, 3, 5, 8, 13, 21, 34, and so on forever.\n"
   ]
  },
  {
   "cell_type": "code",
   "execution_count": 5,
   "metadata": {},
   "outputs": [
    {
     "name": "stdout",
     "output_type": "stream",
     "text": [
      "Fibonacci Series: 0 1 1 2 3 5 8 13 21 34 55 89 \n",
      " 1\n"
     ]
    }
   ],
   "source": [
    "num = int(input(\"Enter the Number:\"))\n",
    "n1, n2 = 0, 1\n",
    "print(\"Fibonacci Series:\", n1, n2, end=\" \")\n",
    "\n",
    "# iterative method\n",
    "for i in range(2, num):\n",
    "    n3 = n1 + n2\n",
    "    n1 = n2\n",
    "    n2 = n3\n",
    "    print(n3, end=\" \")\n",
    "\n",
    "\n",
    "# recursive method\n",
    "def fib(n):\n",
    "    if n<0:\n",
    "        print(\"Incorrect input\")\n",
    "#1st Fibonacci number is 0\n",
    "#2nd Fibonacci number is 1\n",
    "    elif n <= 1:\n",
    "        return n\n",
    "    else:\n",
    "        return fib(n - 1) + fib(n - 2)\n",
    "\n",
    "print(\"\\n\", fib(2))"
   ]
  },
  {
   "cell_type": "markdown",
   "metadata": {},
   "source": [
    "Find the Nth Term of the Fibonacci Series :\n",
    "\n",
    "`Formula to find nth term of a fib series: Fn = {[(√5 + 1)/2] ^ n} / √5`"
   ]
  },
  {
   "cell_type": "code",
   "execution_count": null,
   "metadata": {},
   "outputs": [],
   "source": [
    "print(pow(((pow(5, 0.5) + 1) / 2), n) / pow(5, 0.5))"
   ]
  },
  {
   "cell_type": "markdown",
   "metadata": {},
   "source": [
    "Factorial of a number :\n"
   ]
  },
  {
   "cell_type": "code",
   "execution_count": null,
   "metadata": {},
   "outputs": [],
   "source": [
    "num = 3\n",
    "\n",
    "# iterative\n",
    "for i in range(1, num):\n",
    "    num = num * i\n",
    "print(num)\n",
    "\n",
    "\n",
    "# recursiv\n",
    "def factorial(n):\n",
    "    if n == 1:\n",
    "        return n\n",
    "    else:\n",
    "        return n * factorial(n - 1)\n",
    "\n",
    "\n",
    "print(factorial(3))"
   ]
  },
  {
   "cell_type": "markdown",
   "metadata": {},
   "source": [
    "Power of a number :\n"
   ]
  },
  {
   "cell_type": "code",
   "execution_count": null,
   "metadata": {},
   "outputs": [],
   "source": [
    "n = 2\n",
    "power = 3\n",
    "\n",
    "print(n**power)\n",
    "print(pow(n, power))\n",
    "\n",
    "# iterative\n",
    "otp = 1\n",
    "for i in range(power):\n",
    "    otp *= n\n",
    "print(otp)"
   ]
  },
  {
   "cell_type": "markdown",
   "metadata": {},
   "source": [
    "Factor of a number :\n"
   ]
  },
  {
   "cell_type": "code",
   "execution_count": null,
   "metadata": {},
   "outputs": [],
   "source": [
    "num = 100\n",
    "\n",
    "# Using [1, number] as the range: TC: O(N) | SC: O(1)\n",
    "for i in range(1, 100 + 1):\n",
    "    if 100 % i == 0:\n",
    "        print(i, end=\" \")\n",
    "\n",
    "# Using [1, sqrt(number)] as the range\n",
    "import math\n",
    "\n",
    "\n",
    "# method to print the divisors\n",
    "def printDivisors(n):\n",
    "    # Note that this loop runs till square root\n",
    "    i = 1\n",
    "    while i <= math.sqrt(n):\n",
    "        if n % i == 0:\n",
    "            # 100/2 = 50 so 50 x 2 = 100\n",
    "            # If divisors are equal, print only one\n",
    "            if n / i == i:\n",
    "                print(i, end=\"\\n\")\n",
    "            else:\n",
    "                # Otherwise print both\n",
    "                print(i, int(n / i), sep=\"-\", end=\" \")\n",
    "        i = i + 1\n",
    "\n",
    "\n",
    "# Driver method\n",
    "print(\"The divisors of 100 are: \")\n",
    "printDivisors(100)"
   ]
  },
  {
   "cell_type": "markdown",
   "metadata": {},
   "source": [
    "Finding Prime Factors of a number :\n"
   ]
  },
  {
   "cell_type": "code",
   "execution_count": null,
   "metadata": {},
   "outputs": [],
   "source": [
    "\"\"\"\n",
    "Run a while loop with condition n>1.\n",
    "Run a nested for loop until (2+n//2).\n",
    "if i == ( 1+ n//2), append the n value and shorten the number by n = n//n.\n",
    "if n%1==0, append the i value and short the n as n= n//i.\n",
    "Return the array and print it.\n",
    "\"\"\"\n",
    "\n",
    "\n",
    "def Prime_Factorial(n):\n",
    "    if n < 4:\n",
    "        return n\n",
    "    arr = []\n",
    "    while n > 1:\n",
    "        for i in range(2, int(2 + n // 2)):\n",
    "            if i == (1 + n // 2):\n",
    "                arr.append(n)\n",
    "                n = n // n\n",
    "            if n % i == 0:\n",
    "                arr.append(i)\n",
    "                n = n // i\n",
    "                break\n",
    "    return arr\n",
    "\n",
    "\n",
    "n = 210\n",
    "print(Prime_Factorial(n))"
   ]
  },
  {
   "cell_type": "markdown",
   "metadata": {},
   "source": [
    "Strong number :\n",
    "\n",
    "```\n",
    "Input : 145\n",
    "Output : It's a Strong Number.\n",
    "Explanation : Number = 145\n",
    "145 = 1! + 4! + 5!\n",
    "145 = 1 + 24 + 120\n",
    "```"
   ]
  },
  {
   "cell_type": "code",
   "execution_count": null,
   "metadata": {},
   "outputs": [],
   "source": [
    "n = 145\n",
    "s = 0\n",
    "save = n\n",
    "l = len(str(n))\n",
    "\n",
    "\n",
    "def fact(val):\n",
    "    f = 1\n",
    "    for i in range(1, val + 1):\n",
    "        f *= i\n",
    "    return f\n",
    "\n",
    "\n",
    "while n:\n",
    "    s += fact(n % 10)\n",
    "    n //= 10\n",
    "\n",
    "print(s == save)"
   ]
  },
  {
   "cell_type": "markdown",
   "metadata": {},
   "source": [
    "Perfect number :\n",
    "```\n",
    "Input : 28\n",
    "Divisors : [1, 2, 4, 7, 14]\n",
    "sums = 1 + 2 + 4 + 7 + 14 = 28\n",
    "Output : It's a Perfect Number\n",
    "```"
   ]
  },
  {
   "cell_type": "code",
   "execution_count": null,
   "metadata": {},
   "outputs": [],
   "source": [
    "n = 28\n",
    "sump = 0\n",
    "\n",
    "for i in range(1, int(pow(n, 0.5))):\n",
    "    if n % i == 0:\n",
    "        # For n : (1, n) will always be pair of divisor\n",
    "        # acc to def., we must ignore adding num itself as divisor\n",
    "        # when calculating for perfect number\n",
    "        if i == 1:\n",
    "            sump += i\n",
    "\n",
    "        # Example For 100 (10,10)  will be one pair\n",
    "        # But, we should add value to the sums just once\n",
    "        elif i == n / i:\n",
    "            sump += i\n",
    "\n",
    "        # add both pairs as divisors\n",
    "        # For any divisor i, n/i will also be a divisor\n",
    "        else:\n",
    "            sump += i + n / i\n",
    "\n",
    "if sump == n:\n",
    "    print(\"The number is a Perfect number\")\n",
    "else:\n",
    "    print(\"The number is not a Perfect number\")\n",
    "\n",
    "# Time complexity: O(sqrt(N))\n",
    "# Space complexity: O(1)\n",
    "\n",
    "\"\"\"another way: range[1, num/2 + 1]\"\"\"\n"
   ]
  },
  {
   "cell_type": "markdown",
   "metadata": {},
   "source": [
    "Perfect Square :\n",
    "```\n",
    "n = 42 | floor(sqrt(42)) = 6 | ceil(sqrt(42)) = 7 (not a perfect square)\n",
    "n = 81 | floor(sqrt(81)) = 9 | ceil(sqrt(81)) = 9 (perfect square)\n",
    "```"
   ]
  },
  {
   "cell_type": "code",
   "execution_count": null,
   "metadata": {},
   "outputs": [],
   "source": [
    "import math\n",
    "\n",
    "n = 49\n",
    "if math.ceil(math.sqrt(n)) == math.floor(math.sqrt(n)):\n",
    "    print(\"True\")\n",
    "else:\n",
    "    print(\"False\")"
   ]
  },
  {
   "cell_type": "markdown",
   "metadata": {},
   "source": [
    "Automorphic number :\n",
    "```\n",
    "Input : number = 5   -  Output : It's an Automorphic number.\n",
    "Square of number = 25\n",
    "as the square of the number ends with the number itself, It's an Automorphic number.\n",
    "```"
   ]
  },
  {
   "cell_type": "code",
   "execution_count": null,
   "metadata": {},
   "outputs": [],
   "source": [
    "number = 7\n",
    "if str(pow(number, 2)).endswith(str(number)):\n",
    "    print(f\"{number} is a automorphic number\")\n",
    "else:\n",
    "    print(f\"{number} is not a automorphic number\")"
   ]
  },
  {
   "cell_type": "markdown",
   "metadata": {},
   "source": [
    "Harshad number :\n",
    "```\n",
    "Input : 21\n",
    "Output : Yes ' It's a Harshad Number.\n",
    "Explanation : The sums of the digits of 21 is 3 i.e 2 + 1. As the number 21 is divisible by 3, It's a Harshad Number.\n",
    "```"
   ]
  },
  {
   "cell_type": "code",
   "execution_count": null,
   "metadata": {},
   "outputs": [],
   "source": [
    "n = 99\n",
    "sums = 0\n",
    "save = n  # as n gets updated: we need to preserv it's initial value\n",
    "\n",
    "while n > 0:\n",
    "    sums += n % 10\n",
    "    n //= 10\n",
    "\n",
    "if save % sums == 0:\n",
    "    print(\"Harshad number\")\n",
    "else:\n",
    "    print(\"Not Harshad number\")"
   ]
  },
  {
   "cell_type": "markdown",
   "metadata": {},
   "source": [
    "Abundant number :  A Number that is smaller than the sums of all it's factors except the number itself is known as an Abundant number.\n",
    "```\n",
    "num = 12 => factors = 1 2 3 4 6\n",
    "1 + 2 + 3 + 4 + 6 = 16\n",
    "as the number 16 > 12 , the number itself.\n",
    "It's an abundant number.\n",
    "```"
   ]
  },
  {
   "cell_type": "code",
   "execution_count": null,
   "metadata": {},
   "outputs": [],
   "source": [
    "n = 89\n",
    "sums = 0\n",
    "# for range[1, number]\n",
    "for i in range(1, n):\n",
    "    if n % i == 0:\n",
    "        sums += i\n",
    "if n < sums:\n",
    "    print(f\"{n} is a Abundant number\")\n",
    "\n",
    "\n",
    "# for range[1, sqrt(number)]\n",
    "import math\n",
    "\n",
    "sums = 1  # 1 can divide any number\n",
    "\n",
    "for i in range(2, int(math.sqrt(n)) + 1):\n",
    "    if n % i == 0:\n",
    "        # if number is divisible by i add the number\n",
    "        if n // i == i:\n",
    "            # if quotient is equal to divisor add only one of them\n",
    "            sums = sums + i\n",
    "        else:\n",
    "            sums = sums + i + n / i\n",
    "\n",
    "if sums > n:\n",
    "    print(n, \"is Abundant Number\")\n",
    "else:\n",
    "    print(n, \"is not Abundant Number\")"
   ]
  },
  {
   "cell_type": "markdown",
   "metadata": {},
   "source": [
    "Friendly pair :"
   ]
  },
  {
   "cell_type": "code",
   "execution_count": null,
   "metadata": {},
   "outputs": [],
   "source": [
    "\"\"\" \n",
    "Input : 6 28\n",
    "Output : Yes, they are a friendly pair\n",
    "Explanation : The factors of 6 and 28 except the numbers themselves are 1, 2, 3 and 1, 2, 4, 7, 14 respectively.\n",
    "Now the sum of factors of both the numbers are 6 and 28 respectively. \n",
    "When we divide the sums with their respective numbers we get 1 and 1 respectively. (6/6) == (28/28)\n",
    "As the ratio of both the number match, they are considered as a friendly pair.\"\"\"\n",
    "\n",
    "\n",
    "def printDivisors(n, factors):\n",
    "    # Note that this loop runs till square root\n",
    "    i = 1\n",
    "    while i <= pow(n, 0.5):\n",
    "        if n % i == 0:\n",
    "            # If divisors are equal, print only one\n",
    "            if n / i == i:\n",
    "                factors.append(i)\n",
    "            else:\n",
    "                # Otherwise print both\n",
    "                factors.append(i)\n",
    "                factors.append(int(n / i))\n",
    "        i = i + 1\n",
    "    return sum(factors) - n\n",
    "\n",
    "\n",
    "if __name__ == \"__main__\":\n",
    "    number1, number2 = 6, 28\n",
    "    if int(printDivisors(number1, []) / number1) == int(\n",
    "        printDivisors(number2, []) / number2\n",
    "    ):\n",
    "        print(\"Friendly pair\")\n",
    "    else:\n",
    "        print(\"Not a Friendly Pair\")"
   ]
  },
  {
   "cell_type": "markdown",
   "metadata": {},
   "source": [
    "## Working with Numbers\n"
   ]
  },
  {
   "cell_type": "markdown",
   "metadata": {},
   "source": [
    "Highest Common Factor(HCF) or Greatest Common Divisor(GCD):\n"
   ]
  },
  {
   "cell_type": "code",
   "execution_count": 41,
   "metadata": {},
   "outputs": [
    {
     "name": "stdout",
     "output_type": "stream",
     "text": [
      "9\n",
      "lcm of 9 and 18 is: 9, 9\n"
     ]
    }
   ],
   "source": [
    "# 9  - 1,    3,    9\n",
    "# 12 - 1, 2, 3, 6, 12\n",
    "# Ans hcf(9, 12) = 3\n",
    "# HCF <= min(a, b)\n",
    "\n",
    "# Method 1 : Linear Quest\n",
    "# Initialize HCF = 1\n",
    "# Run a loop in the iteration of (i) between [1, min(num1, num2)]\n",
    "# Note down the highest number that divides both num1 & num2\n",
    "# If i satisfies (num1 % i == 0 and num2 % i == 0) then new value of HCF is i\n",
    "# Print value of HCF\n",
    "\n",
    "a , b = 9, 18\n",
    "# a , b = abs(-36), 60\n",
    "hcf = 1\n",
    "for i in range(1, min(a, b)+1):\n",
    "    if(a % i == 0 and b % i == 0):\n",
    "        hcf = i\n",
    "        \n",
    "print(hcf)\n",
    "\n",
    "# Method 2 : Repeated Subtraction\n",
    "# Run a while loop until num1 is not equals to num2\n",
    "# If num1>num2 then num1 = num1 – num2\n",
    "# Else num2 = num2 – num1\n",
    "# After the loop ends both num1 & num2 stores HCF\n",
    "\n",
    "a , b = 9, 18\n",
    "while a != b:\n",
    "    if a > b:\n",
    "        a -= b\n",
    "    elif b > a:\n",
    "        b -= a\n",
    "\n",
    "print(f\"lcm of 9 and 18 is: {a}, {b}\")\n"
   ]
  },
  {
   "cell_type": "markdown",
   "metadata": {},
   "source": [
    "Lowest Common Multiple (LCM) :\n"
   ]
  },
  {
   "cell_type": "code",
   "execution_count": 77,
   "metadata": {},
   "outputs": [
    {
     "name": "stdout",
     "output_type": "stream",
     "text": [
      "LCM of 3 and 12 is 12\n",
      "LCM of 3 and 12 is 36\n"
     ]
    }
   ],
   "source": [
    "# LCM (3, 12): 24\n",
    "# 24 is the first least number to be divisible by 3 and 12\n",
    "# LCM >= max(a, b)\n",
    "\n",
    "# Linear way:\n",
    "# For a input num1 and num2. This method uses two following observations:\n",
    "# LCM of two numbers will at least be equal or greater than max(num1, num2)\n",
    "# Largest possibility of LCM will be num1 * num2\n",
    "\n",
    "# a, b = 2, 5\n",
    "a, b = 3, 12\n",
    "lcm = 0\n",
    "for i in range(max(a, b), (a * b) + 1):\n",
    "    if i % a == 0 and i % b == 0:\n",
    "        # lcm (3, 12) = 24 if i don't put break it will go beyond 24 and print 36\n",
    "        lcm = i\n",
    "        break\n",
    "\n",
    "print(\"LCM of\", a, \"and\", b, \"is\", lcm)\n",
    "\n",
    "# Method 2 :\n",
    "# HCF (a, b) x LCM (a, b) = a x b\n",
    "\n",
    "n1, n2 = a, b\n",
    "hcf = 1\n",
    "while n1 != n2:\n",
    "    if n1 > n2:\n",
    "        n1 -= n2\n",
    "    elif n2 > n1:\n",
    "        n2 -= n1\n",
    "\n",
    "print(\"LCM of\", a, \"and\", b, \"is\", a*b//hcf)"
   ]
  },
  {
   "cell_type": "markdown",
   "metadata": {},
   "source": [
    "Binary to Decimal\n"
   ]
  },
  {
   "cell_type": "code",
   "execution_count": 8,
   "metadata": {},
   "outputs": [
    {
     "name": "stdout",
     "output_type": "stream",
     "text": [
      "100\n",
      "100\n",
      "100\n"
     ]
    }
   ],
   "source": [
    "# 10\n",
    "# 0 x 2^0 + 1 x 2^1 = 2\n",
    "\n",
    "binary = \"1100100\"\n",
    "dec = 0\n",
    "p = len(binary) - 1\n",
    "\n",
    "for c in range(len(binary)):\n",
    "    dec += (int(binary[c]) * pow(2, p))\n",
    "    p -= 1\n",
    "    \n",
    "print(dec)\n",
    "\n",
    "# shrtcut\n",
    "print(int(\"0b1100100\",2)) # 100\n",
    "print(int(\"1100100\",2)) # 100"
   ]
  },
  {
   "cell_type": "markdown",
   "metadata": {},
   "source": [
    "Octal to Decimal conversion :\n"
   ]
  },
  {
   "cell_type": "code",
   "execution_count": 75,
   "metadata": {},
   "outputs": [
    {
     "name": "stdout",
     "output_type": "stream",
     "text": [
      "1234\n",
      "1234\n",
      "10\n"
     ]
    }
   ],
   "source": [
    "# 12\n",
    "# 2 x 8^0 + 1 x 8^1 = 10\n",
    "\n",
    "octal = \"2322\"\n",
    "dec = 0\n",
    "p = len(octal) - 1\n",
    "\n",
    "for c in range(len(octal)):\n",
    "    dec += (int(octal[c]) * pow(8, p))\n",
    "    p -= 1\n",
    "    \n",
    "print(dec)\n",
    "\n",
    "# shrtct\n",
    "print(int(\"0o2322\", 8))\n",
    "print(int(\"2322\", 8))"
   ]
  },
  {
   "cell_type": "markdown",
   "metadata": {},
   "source": [
    "Hexadecimal to Decimal conversion:\n"
   ]
  },
  {
   "cell_type": "code",
   "execution_count": 79,
   "metadata": {},
   "outputs": [
    {
     "name": "stdout",
     "output_type": "stream",
     "text": [
      "189\n",
      "189\n",
      "290\n"
     ]
    }
   ],
   "source": [
    "# 122\n",
    "# 2 x 16^0 + 2 x 16^1 + 1 x 16^2 = 2 + 32 + 256 = 290\n",
    "\n",
    "hexa = \"bd\".upper()\n",
    "dec = 0\n",
    "p = len(hexa) - 1\n",
    "d = dict(A=10, B=11, C=12, D=13, E=14, F=15)\n",
    "\n",
    "for c in range(len(hexa)):\n",
    "    if hexa[c] in d:\n",
    "        dec +=  d[hexa[c]] * pow(16, p)\n",
    "    else:\n",
    "        dec += int(hexa[c]) * pow(16, p)\n",
    "    p -= 1\n",
    "\n",
    "print(dec)\n",
    "\n",
    "# shrtct\n",
    "print(int(\"0xbd\", 16))\n",
    "print(int(\"122\", 16))"
   ]
  },
  {
   "cell_type": "markdown",
   "metadata": {},
   "source": [
    "Decimal to Binary to conversion :\n"
   ]
  },
  {
   "cell_type": "code",
   "execution_count": 31,
   "metadata": {},
   "outputs": [
    {
     "name": "stdout",
     "output_type": "stream",
     "text": [
      "1100100\n",
      "0b1100100\n",
      "1100100\n"
     ]
    }
   ],
   "source": [
    "# 2 | 100\n",
    "# 2 | 50 - 0\n",
    "# 2 | 25 - 0\n",
    "# 2 | 12 - 1\n",
    "# 2 | 6 - 0\n",
    "# 2 | 3 - 0\n",
    "# 2 | 1 - 1\n",
    "# Ans: 1100100\n",
    "\n",
    "dec = 100\n",
    "st = \"\"\n",
    "while dec > 0:\n",
    "    # generate remainder for 100\n",
    "    # nxt: generate remainder for 50\n",
    "    n = dec % 2\n",
    "    # reduce 100 to 50\n",
    "    # nxt: reduce 50 to 25\n",
    "    dec //= 2\n",
    "    st += str(n)\n",
    "\n",
    "print(*reversed(st), sep=\"\")\n",
    "\n",
    "# shortcut\n",
    "print(bin(100))\n",
    "print(bin(100)[2:])"
   ]
  },
  {
   "cell_type": "markdown",
   "metadata": {},
   "source": [
    "Decimal to Octal Conversion:\n"
   ]
  },
  {
   "cell_type": "code",
   "execution_count": 43,
   "metadata": {},
   "outputs": [
    {
     "name": "stdout",
     "output_type": "stream",
     "text": [
      "130\n",
      "130\n"
     ]
    }
   ],
   "source": [
    "# 8 | 88\n",
    "# 8 | 11 - 0\n",
    "# 8 | 1  - 3\n",
    "# Ans: 130\n",
    "\n",
    "dec = 88\n",
    "st = \"\"\n",
    "while dec > 0:\n",
    "    # generate remainder for 88\n",
    "    # nxt: generate remainder for 11\n",
    "    n = dec % 8\n",
    "    # reduce 88 to 11\n",
    "    # nxt: reduce 11 to 1\n",
    "    dec //= 8\n",
    "    st += str(n)\n",
    "    \n",
    "print(*reversed(st), sep=\"\")\n",
    "\n",
    "# shrtcut\n",
    "print(oct(88)[2:])\n",
    "# '0o2322' - > '2322'"
   ]
  },
  {
   "cell_type": "markdown",
   "metadata": {},
   "source": [
    "Decimal to Hexadecimal Conversion:\n"
   ]
  },
  {
   "cell_type": "code",
   "execution_count": 53,
   "metadata": {},
   "outputs": [
    {
     "name": "stdout",
     "output_type": "stream",
     "text": [
      "38E\n",
      "0x38e\n"
     ]
    }
   ],
   "source": [
    "# 16 | 910\n",
    "# 16 | 56 - E\n",
    "# 16 | 3  - 8\n",
    "# Ans: 38E\n",
    "\n",
    "# better visulaization\n",
    "# 16 | 910 - E\n",
    "# 16 | 56  - 8\n",
    "# 16 | 3   - 3\n",
    "# 16 | 0\n",
    "# Ans: 38E\n",
    "\n",
    "dec = 910\n",
    "st = \"\"\n",
    "d = dict(A=10, B=11, C=12, D=13, E=14, F=15)\n",
    "di = {v:k for k, v in d.items()}\n",
    "\n",
    "while dec > 0:\n",
    "    n = dec % 16\n",
    "    dec //= 16\n",
    "    if n in di:\n",
    "        n = di[n]\n",
    "    st += str(n)\n",
    "    \n",
    "print(*reversed(st), sep=\"\")\n",
    "\n",
    "# shrtcut\n",
    "print(hex(910))  # 0x38e"
   ]
  },
  {
   "cell_type": "markdown",
   "metadata": {},
   "source": [
    "Binary to Octal conversion : \n"
   ]
  },
  {
   "cell_type": "code",
   "execution_count": 74,
   "metadata": {},
   "outputs": [
    {
     "name": "stdout",
     "output_type": "stream",
     "text": [
      "0o275\n"
     ]
    }
   ],
   "source": [
    "# Method 1\n",
    "# Binary to Decimal Conversion\n",
    "# Decimal to Octal Conversion\n",
    "\n",
    "# Method 2\n",
    "# 010-101-111 = 2-5-7\n",
    "# make 3-bit groups\n",
    "# and convert each group to their respective octal number(0-7)\n",
    "\n",
    "binary = \"0b10111101\"\n",
    "dec = int(binary, 2)\n",
    "print(oct(dec))"
   ]
  },
  {
   "cell_type": "markdown",
   "metadata": {},
   "source": [
    "Octal to Binary conversion : \n"
   ]
  },
  {
   "cell_type": "code",
   "execution_count": 73,
   "metadata": {},
   "outputs": [
    {
     "name": "stdout",
     "output_type": "stream",
     "text": [
      "0b10111101\n"
     ]
    },
    {
     "data": {
      "text/plain": [
       "0"
      ]
     },
     "execution_count": 73,
     "metadata": {},
     "output_type": "execute_result"
    }
   ],
   "source": [
    "# Method 1:-\n",
    "# Accept octal number\n",
    "# Convert it into decimal Equivalent\n",
    "# Convert this decimal value into Binary\n",
    "\n",
    "# Method 2:\n",
    "# 2-5-7 = 010-101-111\n",
    "# take each digit\n",
    "# replace each digit with theri 3-bit binary number\n",
    "\n",
    "octal = '0o275'\n",
    "decimal = int(octal, 8)\n",
    "print(bin(decimal))"
   ]
  },
  {
   "cell_type": "markdown",
   "metadata": {},
   "source": [
    "Replace all 0’s with 1 in a given integer :\n"
   ]
  },
  {
   "cell_type": "code",
   "execution_count": null,
   "metadata": {},
   "outputs": [],
   "source": [
    "num = 10\n",
    "# 91111\n",
    "# (9 x 10^4) + (1 x 10^3) + (1 x 10^2) + (1 x 10^1) + (1 x 10^0)\n",
    "new_num = 0\n",
    "place_value = 0\n",
    "\n",
    "while num:\n",
    "    rem = num % 10\n",
    "    if rem == 0:\n",
    "        new_num += 10 ** place_value * 1\n",
    "    else:\n",
    "        new_num += 10 ** place_value * rem\n",
    "\n",
    "    num //= 10\n",
    "    place_value += 1\n",
    "\n",
    "print(new_num)"
   ]
  },
  {
   "cell_type": "markdown",
   "metadata": {},
   "source": [
    "Convert digit/number to words :"
   ]
  },
  {
   "cell_type": "code",
   "execution_count": null,
   "metadata": {},
   "outputs": [],
   "source": [
    "from num2words import num2words\n",
    "\n",
    "# Most common usage.\n",
    "print(num2words(11098))\n",
    "\n",
    "# can also specify this for -th format\n",
    "print(num2words(11098, to=\"ordinal\")) "
   ]
  },
  {
   "cell_type": "code",
   "execution_count": 3,
   "metadata": {},
   "outputs": [
    {
     "name": "stdout",
     "output_type": "stream",
     "text": [
      "1110 : one thousand one hundred ten\n"
     ]
    }
   ],
   "source": [
    "def convert_to_words(num):\n",
    "    l = len(num)\n",
    "\n",
    "    # Base cases\n",
    "    if l == 0:\n",
    "        print(\"empty string\")\n",
    "        return\n",
    "\n",
    "    if l > 4:\n",
    "        print(\"Length more than 4 is not supported\")\n",
    "        return\n",
    "\n",
    "    single_digits = [\n",
    "        \"zero\",\n",
    "        \"one\",\n",
    "        \"two\",\n",
    "        \"three\",\n",
    "        \"four\",\n",
    "        \"five\",\n",
    "        \"six\",\n",
    "        \"seven\",\n",
    "        \"eight\",\n",
    "        \"nine\",\n",
    "    ]\n",
    "\n",
    "    two_digits = [\n",
    "        \"\",\n",
    "        \"ten\",\n",
    "        \"eleven\",\n",
    "        \"twelve\",\n",
    "        \"thirteen\",\n",
    "        \"fourteen\",\n",
    "        \"fifteen\",\n",
    "        \"sixteen\",\n",
    "        \"seventeen\",\n",
    "        \"eighteen\",\n",
    "        \"nineteen\",\n",
    "    ]\n",
    "\n",
    "    tens_multiple = [\n",
    "        \"\",\n",
    "        \"\",\n",
    "        \"twenty\",\n",
    "        \"thirty\",\n",
    "        \"forty\",\n",
    "        \"fifty\",\n",
    "        \"sixty\",\n",
    "        \"seventy\",\n",
    "        \"eighty\",\n",
    "        \"ninety\",\n",
    "    ]\n",
    "\n",
    "    tens_power = [\"hundred\", \"thousand\"]\n",
    "\n",
    "    print(num, \":\", end=\" \")\n",
    "\n",
    "    if l == 1:\n",
    "        print(single_digits[ord(num[0]) - 48])\n",
    "        return\n",
    "\n",
    "    x = 0\n",
    "    while x < len(num):\n",
    "        if l >= 3:\n",
    "            if ord(num[x]) - 48 != 0:\n",
    "                print(single_digits[ord(num[x]) - 48], end=\" \")\n",
    "                print(tens_power[l - 3], end=\" \")\n",
    "\n",
    "            l -= 1\n",
    "\n",
    "        else:\n",
    "            if ord(num[x]) - 48 == 1:\n",
    "                sum = ord(num[x]) - 48 + ord(num[x + 1]) - 48\n",
    "                print(two_digits[sum])\n",
    "                return\n",
    "\n",
    "            elif ord(num[x]) - 48 == 2 and ord(num[x + 1]) - 48 == 0:\n",
    "                print(\"twenty\")\n",
    "                return\n",
    "\n",
    "            else:\n",
    "                i = ord(num[x]) - 48\n",
    "                if i > 0:\n",
    "                    print(tens_multiple[i], end=\" \")\n",
    "                else:\n",
    "                    print(\"\", end=\"\")\n",
    "                x += 1\n",
    "                if ord(num[x]) - 48 != 0:\n",
    "                    print(single_digits[ord(num[x]) - 48])\n",
    "        x += 1\n",
    "\n",
    "\n",
    "# Driver Code\n",
    "convert_to_words(\"1110\")"
   ]
  },
  {
   "cell_type": "markdown",
   "metadata": {},
   "source": [
    "Find the prime numbers between 1 to 100\n"
   ]
  },
  {
   "cell_type": "code",
   "execution_count": 53,
   "metadata": {},
   "outputs": [
    {
     "name": "stdout",
     "output_type": "stream",
     "text": [
      "2 3 5 7 11 13 17 19 23 29 31 37 41 43 47 53 59 61 67 71 73 79 83 89 97 \n",
      "2 5 7 3 11 13 17 19 23 29 31 37 41 43 47 53 59 61 67 71 73 79 83 89 97 "
     ]
    }
   ],
   "source": [
    "print(2, 3, end=\" \")\n",
    "for i in range(5, 101, 2):\n",
    "    isprime = True\n",
    "    # start from 3 coz there are many numbers which are divisible by 3\n",
    "    for j in range(3, int(pow(i, 0.5) + 1), 2):\n",
    "        if i % j == 0:\n",
    "            break\n",
    "    else:\n",
    "        print(i , end=\" \")\n",
    "        \n",
    "print()\n",
    "\n",
    "# All prime number > 2,3: prime^2 - 1 % 24 == 0\n",
    "\"\"\" print(2,5,7, end=\" \")\n",
    "for i in range(3, 101, 2):\n",
    "    if i == 2 or i == 3:\n",
    "        print(i, end=\" \")\n",
    "    elif (pow(i, 2) - 1) % 24 == 0 and i % 2 != 0 and i % 3 != 0 and i % 5 != 0 and i % 7 != 0:\n",
    "        print(i, end=\" \") \"\"\""
   ]
  },
  {
   "cell_type": "code",
   "execution_count": null,
   "metadata": {},
   "outputs": [],
   "source": [
    "Calculate the number of digits in an integer :\n"
   ]
  },
  {
   "cell_type": "code",
   "execution_count": 3,
   "metadata": {},
   "outputs": [
    {
     "name": "stdout",
     "output_type": "stream",
     "text": [
      "7\n"
     ]
    }
   ],
   "source": [
    "num = 9000100\n",
    "c = 0\n",
    "\n",
    "while num:\n",
    "    c += 1\n",
    "    num //= 10\n",
    "    \n",
    "print(c)"
   ]
  },
  {
   "cell_type": "markdown",
   "metadata": {},
   "source": [
    "Counting number of days in a given month of a year:"
   ]
  },
  {
   "cell_type": "markdown",
   "metadata": {},
   "source": [
    "Finding Number of times x digit occurs in a given input :\n"
   ]
  },
  {
   "cell_type": "code",
   "execution_count": 6,
   "metadata": {},
   "outputs": [
    {
     "name": "stdout",
     "output_type": "stream",
     "text": [
      "5\n"
     ]
    }
   ],
   "source": [
    "num = 9000100\n",
    "c = 0\n",
    "x = 0\n",
    "\n",
    "while num:\n",
    "    if num % 10 == x:\n",
    "        c += 1\n",
    "    num //= 10\n",
    "    \n",
    "print(c)"
   ]
  },
  {
   "cell_type": "markdown",
   "metadata": {},
   "source": [
    "Finding number of integers which has exactly x divisors: "
   ]
  },
  {
   "cell_type": "markdown",
   "metadata": {},
   "source": [
    "Quadrants in which a given coordinate lies :"
   ]
  },
  {
   "cell_type": "markdown",
   "metadata": {},
   "source": [
    "Finding Roots of a quadratic equation :"
   ]
  },
  {
   "cell_type": "markdown",
   "metadata": {},
   "source": [
    "Permutations in which n people can occupy r seats in a classroom :"
   ]
  },
  {
   "cell_type": "markdown",
   "metadata": {},
   "source": [
    "Maximum number of handshakes:"
   ]
  },
  {
   "cell_type": "markdown",
   "metadata": {},
   "source": [
    "Addition of two fractions: "
   ]
  },
  {
   "cell_type": "markdown",
   "metadata": {},
   "source": [
    "Can a number be expressed as a sum of two prime numbers :"
   ]
  },
  {
   "cell_type": "markdown",
   "metadata": {},
   "source": [
    "Count possible decoding of a given digit sequence : "
   ]
  },
  {
   "cell_type": "markdown",
   "metadata": {},
   "source": [
    "Calculate the area of a circle : \n"
   ]
  },
  {
   "cell_type": "code",
   "execution_count": 57,
   "metadata": {},
   "outputs": [
    {
     "name": "stdout",
     "output_type": "stream",
     "text": [
      "78.53981633974483\n"
     ]
    }
   ],
   "source": [
    "import math\n",
    "\n",
    "radius = 5\n",
    "\n",
    "print(math.pi * radius * radius)"
   ]
  },
  {
   "cell_type": "markdown",
   "metadata": {},
   "source": [
    "## Codes for Recursion\n"
   ]
  },
  {
   "cell_type": "code",
   "execution_count": null,
   "metadata": {},
   "outputs": [],
   "source": []
  },
  {
   "cell_type": "markdown",
   "metadata": {},
   "source": [
    "## Strings\n"
   ]
  },
  {
   "cell_type": "code",
   "execution_count": null,
   "metadata": {},
   "outputs": [],
   "source": [
    "# These characters are differentiated on the basis of ASCII values :\n",
    "\n",
    "# between 65 and 90 for upper case(A, B, C…)\n",
    "\n",
    "# between 97 and 122 for lower case(a, b, c…)\n",
    "\n",
    "# 65 + 32 = 97 'a'\n",
    "# 97 - 32 = 65 'A'\n",
    "\n",
    "# There are 26 alphabets\n",
    "# 65 + 25 = 90      (25 coz 65 is order of A so remaining 25 character B to Z)\n",
    "# 97 + 25 = 122     (25 coz 97 is order of a so remaining 25 character b to z)\n",
    "\n",
    "\n",
    "# since string is immutable all operations on it cannot be done in-place\n",
    "\n",
    "\n",
    "# /////////////////////////////////////////////////////////////////\n",
    "# There are 10 numbers: 0 to 9\n",
    "# ascii of 0 = 48 \n",
    "# ascii of 1 = 49 \n",
    "# ascii of 9 = 57\n",
    "\n",
    "# to convert character to digit\n",
    "'0' - 48 = 0\n",
    "'1' - 48 = 1\n",
    "'2' - 48 = 2\n",
    "...\n",
    "'9' - 48 = 9"
   ]
  },
  {
   "cell_type": "code",
   "execution_count": 8,
   "metadata": {},
   "outputs": [
    {
     "name": "stdout",
     "output_type": "stream",
     "text": [
      "65\n",
      "A\n",
      "97\n",
      "a\n"
     ]
    },
    {
     "data": {
      "text/plain": [
       "'0'"
      ]
     },
     "execution_count": 8,
     "metadata": {},
     "output_type": "execute_result"
    }
   ],
   "source": [
    "print(ord(\"A\"))  # 65\n",
    "print(chr(65))  # A\n",
    "\n",
    "\n",
    "print(ord(\"a\"))  # 97\n",
    "print(chr(65+32))  # a\n",
    "\n",
    "\n",
    "# 65 + 32 -> a\n",
    "# 66 + 32 -> b\n",
    "\n",
    "type(chr(90))\n",
    "# str\n",
    "\n",
    "ord('0') # 48\n",
    "ord('9') # 57\n",
    "chr(48) # '0'"
   ]
  },
  {
   "cell_type": "markdown",
   "metadata": {},
   "source": [
    "check whether a character is a vowel or consonant\n"
   ]
  },
  {
   "cell_type": "code",
   "execution_count": null,
   "metadata": {},
   "outputs": [],
   "source": [
    "ch = \"l\"\n",
    "\n",
    "l = [\"a\", \"e\", \"i\", \"o\", \"u\", \"A\", \"E\", \"I\", \"O\", \"U\"]\n",
    "\n",
    "print(\"vowel\" if ch in l else \"consonant\")\n"
   ]
  },
  {
   "cell_type": "markdown",
   "metadata": {},
   "source": [
    "Check whether a character is a alphabet or not\n"
   ]
  },
  {
   "cell_type": "code",
   "execution_count": 18,
   "metadata": {},
   "outputs": [
    {
     "name": "stdout",
     "output_type": "stream",
     "text": [
      "alphabet\n",
      "True\n",
      "The  character a is an Alphabet\n"
     ]
    }
   ],
   "source": [
    "ch = \"a\"\n",
    "ascii = ord(ch)\n",
    "\n",
    "if (ascii >= 65 and ascii <= 65 + 25) or (ascii >= 65 + 32 and ascii <= 65 + 32 + 25):\n",
    "    print(\"alphabet\")\n",
    "\n",
    "else:\n",
    "    print(\"not alphabet\")\n",
    "\n",
    "# easy way\n",
    "print(ch.isalpha())\n",
    "\n",
    "# compare direct\n",
    "if \"a\" <= ch <= \"z\" or \"A\" <= ch <= \"Z\":\n",
    "    print(\"The  character\", ch, \"is an Alphabet\")\n",
    "else:\n",
    "    print(\"The  character\", ch, \"is not an Alphabet\")"
   ]
  },
  {
   "cell_type": "markdown",
   "metadata": {},
   "source": [
    "Find the ASCII value of a character\n"
   ]
  },
  {
   "cell_type": "code",
   "execution_count": null,
   "metadata": {},
   "outputs": [],
   "source": [
    "ch = \"l\"\n",
    "\n",
    "print(ord(ch))"
   ]
  },
  {
   "cell_type": "markdown",
   "metadata": {},
   "source": [
    "Calculating the length of the string without using length() function\n"
   ]
  },
  {
   "cell_type": "code",
   "execution_count": 19,
   "metadata": {},
   "outputs": [
    {
     "data": {
      "text/plain": [
       "7"
      ]
     },
     "execution_count": 19,
     "metadata": {},
     "output_type": "execute_result"
    }
   ],
   "source": [
    "st = \"samreen\"\n",
    "c = 0\n",
    "\n",
    "for ch in st:\n",
    "    c += 1\n",
    "\n",
    "c"
   ]
  },
  {
   "cell_type": "markdown",
   "metadata": {},
   "source": [
    "Toggle each character in a string\n"
   ]
  },
  {
   "cell_type": "code",
   "execution_count": 22,
   "metadata": {},
   "outputs": [
    {
     "name": "stdout",
     "output_type": "stream",
     "text": [
      "gUddUbhAIYa\n",
      "gUddUbhAIYa"
     ]
    }
   ],
   "source": [
    "st = \"GuDDuBHaiyA\"\n",
    "\n",
    "# easy\n",
    "print(st.swapcase())\n",
    "\n",
    "# old-fashion\n",
    "for ch in st:\n",
    "    if ord(ch) >= 97:\n",
    "        print(chr(ord(ch) - 32), end=\"\")\n",
    "    else:\n",
    "        print(chr(ord(ch) + 32), end=\"\")\n",
    "\n",
    "# GuDDuBHaiyA after changing gUddUbhAIYa"
   ]
  },
  {
   "cell_type": "markdown",
   "metadata": {},
   "source": [
    "Count the number of vowels\n"
   ]
  },
  {
   "cell_type": "code",
   "execution_count": 25,
   "metadata": {},
   "outputs": [
    {
     "name": "stdout",
     "output_type": "stream",
     "text": [
      "0\n"
     ]
    }
   ],
   "source": [
    "st = \"pppp\"\n",
    "c = 0\n",
    "\n",
    "for ch in st:\n",
    "    if (\n",
    "        ch == \"a\"\n",
    "        or ch == \"A\"\n",
    "        or ch == \"e\"\n",
    "        or ch == \"E\"\n",
    "        or ch == \"i\"\n",
    "        or ch == \"I\"\n",
    "        or ch == \"o\"\n",
    "        or ch == \"O\"\n",
    "        or ch == \"u\"\n",
    "        or ch == \"U\"\n",
    "    ):\n",
    "        c += 1\n",
    "\n",
    "c"
   ]
  },
  {
   "cell_type": "markdown",
   "metadata": {},
   "source": [
    "Remove the vowels from a String\n"
   ]
  },
  {
   "cell_type": "code",
   "execution_count": 36,
   "metadata": {},
   "outputs": [
    {
     "name": "stdout",
     "output_type": "stream",
     "text": [
      "After removing vowels :  cccccc\n"
     ]
    }
   ],
   "source": [
    "st = \"umberala\"\n",
    "ans = str()\n",
    "\n",
    "l = [\"a\", \"e\", \"i\", \"o\", \"u\"]\n",
    "\n",
    "for ch in st.lower():\n",
    "    if ch in l:\n",
    "        continue\n",
    "    else:\n",
    "        ans += ch\n",
    "\n",
    "# another way\n",
    "st = \"aaaaaccccccaaaaaaaa\"\n",
    "for x in st.lower():\n",
    "    if x in l:\n",
    "        st = st.replace(x, \"\")\n",
    "\n",
    "print(\"After removing vowels : \", st)"
   ]
  },
  {
   "cell_type": "markdown",
   "metadata": {},
   "source": [
    "Check if the given string is Palindrome or not \n"
   ]
  },
  {
   "cell_type": "code",
   "execution_count": 9,
   "metadata": {},
   "outputs": [
    {
     "name": "stdout",
     "output_type": "stream",
     "text": [
      "pallindrome\n",
      "not pallindrome\n",
      "Palindrome\n"
     ]
    }
   ],
   "source": [
    "st = \"civic\"\n",
    "\n",
    "print(\"pallindrome\" if st[:] == st[::-1] else \"not pallindrome\")\n",
    "print(\"pallindrome\" if st == reversed(st) else \"not pallindrome\")\n",
    "\n",
    "# old-fashion: Matching ith character from front-back\n",
    "def isPalindrome(input_str):\n",
    "\n",
    "    for i in range(0, len(input_str)):\n",
    "\n",
    "        if input_str[i] != input_str[len(input_str) - i - 1]:\n",
    "            return False\n",
    "\n",
    "    return True\n",
    "\n",
    "print(\"Palindrome\") if isPalindrome(st) else print(\"Not Palindrome\")\n",
    "\n",
    "# improved: Matching ith character from front-back(updated)\n",
    "mid = int(len(st) / 2)\n",
    "for i in range(0, mid):\n",
    "    ..."
   ]
  },
  {
   "cell_type": "markdown",
   "metadata": {},
   "source": [
    "Print the given string in reverse order\n"
   ]
  },
  {
   "cell_type": "code",
   "execution_count": 1,
   "metadata": {},
   "outputs": [
    {
     "name": "stdout",
     "output_type": "stream",
     "text": [
      "tae\n",
      "tae\n",
      "t-a-e\n"
     ]
    }
   ],
   "source": [
    "input = \"eat\"\n",
    "\n",
    "# mind-blown\n",
    "rev = \"\"\n",
    "for ch in input:\n",
    "    rev = ch + rev\n",
    "print(rev)\n",
    "\n",
    "# easy\n",
    "print(input[::-1])\n",
    "print(\"\".join(list(reversed(input))))"
   ]
  },
  {
   "cell_type": "markdown",
   "metadata": {},
   "source": [
    "Remove all characters from string except alphabets\n"
   ]
  },
  {
   "cell_type": "code",
   "execution_count": 22,
   "metadata": {},
   "outputs": [
    {
     "data": {
      "text/plain": [
       "'JusticeForChutki'"
      ]
     },
     "execution_count": 22,
     "metadata": {},
     "output_type": "execute_result"
    }
   ],
   "source": [
    "st = \"#Justice!For@Chutki123\"\n",
    "ans = str()\n",
    "\n",
    "for ch in st:\n",
    "    ascii = ord(ch)\n",
    "    if ascii >= 65 and ascii <= 65+26 or ascii >= 65+32 and ascii <= 65+32+26:\n",
    "        ans += ch\n",
    "ans"
   ]
  },
  {
   "cell_type": "markdown",
   "metadata": {},
   "source": [
    "Remove spaces from a string"
   ]
  },
  {
   "cell_type": "code",
   "execution_count": 25,
   "metadata": {},
   "outputs": [
    {
     "name": "stdout",
     "output_type": "stream",
     "text": [
      "PrepInstaisfabulous\n",
      "PrepInstaisfabulous\n"
     ]
    },
    {
     "data": {
      "text/plain": [
       "'PrepInstaisfabulous'"
      ]
     },
     "execution_count": 25,
     "metadata": {},
     "output_type": "execute_result"
    }
   ],
   "source": [
    "st = \"PrepInsta is fabulous\"\n",
    "\n",
    "print(st.replace(\" \", \"\"))\n",
    "print(\"\".join(st.split()))\n",
    "\n",
    "# old-fashion\n",
    "ans = str()\n",
    "ascii_of_space = ord(\" \")\n",
    "for ch in st:\n",
    "    if ord(ch) == ascii_of_space:\n",
    "        continue\n",
    "    else:\n",
    "        ans += ch\n",
    "\n",
    "# 'PrepInstaisfabulous'\n",
    "ans"
   ]
  },
  {
   "cell_type": "markdown",
   "metadata": {},
   "source": [
    "Remove brackets from an algebraic expression\n"
   ]
  },
  {
   "cell_type": "code",
   "execution_count": 31,
   "metadata": {},
   "outputs": [
    {
     "data": {
      "text/plain": [
       "'a-b+c*d+e/f'"
      ]
     },
     "execution_count": 31,
     "metadata": {},
     "output_type": "execute_result"
    }
   ],
   "source": [
    "st = \"(a-b)+[c*d]+{e/f}\"\n",
    "l = [\"(\", \")\", \"{\", \"}\", \"[\", \"]\"]\n",
    "ans = str()\n",
    "\n",
    "for ch in st:\n",
    "    if ch in l:\n",
    "        continue\n",
    "    else:\n",
    "        ans += ch\n",
    "        \n",
    "ans"
   ]
  },
  {
   "cell_type": "markdown",
   "metadata": {},
   "source": [
    "Count the sum of numbers in a string\n"
   ]
  },
  {
   "cell_type": "code",
   "execution_count": 34,
   "metadata": {},
   "outputs": [
    {
     "data": {
      "text/plain": [
       "12"
      ]
     },
     "execution_count": 34,
     "metadata": {},
     "output_type": "execute_result"
    }
   ],
   "source": [
    "st = \"4-PREP2-INSTAA-6\"\n",
    "c = 0\n",
    "\n",
    "for ch in st:\n",
    "    if ch.isnumeric():\n",
    "        c += int(ch)\n",
    "\n",
    "c"
   ]
  },
  {
   "cell_type": "markdown",
   "metadata": {},
   "source": [
    "Capitalize the first and last character of each word of a string\n"
   ]
  },
  {
   "cell_type": "code",
   "execution_count": 44,
   "metadata": {},
   "outputs": [
    {
     "data": {
      "text/plain": [
       "'SammU'"
      ]
     },
     "execution_count": 44,
     "metadata": {},
     "output_type": "execute_result"
    }
   ],
   "source": [
    "st = \"sammu\"\n",
    "\n",
    "s = st[0:1].upper() + st[1:len(st)-1] + st[len(st)-1:len(st)].upper()\n",
    "s"
   ]
  },
  {
   "cell_type": "markdown",
   "metadata": {},
   "source": [
    "Calculate frequency of characters in a string\n"
   ]
  },
  {
   "cell_type": "code",
   "execution_count": 45,
   "metadata": {},
   "outputs": [
    {
     "name": "stdout",
     "output_type": "stream",
     "text": [
      "'h' occurs 1 times\n",
      "'e' occurs 1 times\n",
      "'l' occurs 2 times\n",
      "'o' occurs 1 times\n"
     ]
    }
   ],
   "source": [
    "def calculate_frequency(text):\n",
    "    frequency = {}\n",
    "\n",
    "    for char in text:\n",
    "        if char in frequency:\n",
    "            frequency[char] += 1\n",
    "        else:\n",
    "            frequency[char] = 1\n",
    "\n",
    "    return frequency\n",
    "\n",
    "text = \"hello\"\n",
    "frequency = calculate_frequency(text)\n",
    "\n",
    "for char, count in frequency.items():\n",
    "    print(f\"'{char}' occurs {count} times\")\n"
   ]
  },
  {
   "cell_type": "markdown",
   "metadata": {},
   "source": [
    "Find non-repeating characters in a string\n"
   ]
  },
  {
   "cell_type": "code",
   "execution_count": 49,
   "metadata": {},
   "outputs": [
    {
     "name": "stdout",
     "output_type": "stream",
     "text": [
      "'h' occurs 1 times\n",
      "'e' occurs 1 times\n",
      "'o' occurs 1 times\n"
     ]
    }
   ],
   "source": [
    "def calculate_frequency(text):\n",
    "    frequency = {}\n",
    "\n",
    "    for char in text:\n",
    "        if char in frequency:\n",
    "            frequency[char] += 1\n",
    "        else:\n",
    "            frequency[char] = 1\n",
    "\n",
    "    return frequency\n",
    "\n",
    "frequency = calculate_frequency(\"hello\")\n",
    "\n",
    "for char, count in frequency.items():\n",
    "    if count == 1:\n",
    "        print(f\"'{char}' occurs {count} times\")"
   ]
  },
  {
   "cell_type": "markdown",
   "metadata": {},
   "source": [
    "Check if two strings are Anagram or not\n"
   ]
  },
  {
   "cell_type": "code",
   "execution_count": 55,
   "metadata": {},
   "outputs": [
    {
     "name": "stdout",
     "output_type": "stream",
     "text": [
      "Anagram st = 'Silent' & st2 = 'Listen'\n",
      "Counter({'s': 1, 'i': 1, 'l': 1, 'e': 1, 'n': 1, 't': 1})\n",
      "Counter({'l': 1, 'i': 1, 's': 1, 't': 1, 'e': 1, 'n': 1})\n",
      "The strings are anagrams.\n"
     ]
    }
   ],
   "source": [
    "from collections import Counter\n",
    "# silent & listen are anagrams by rearranging the word 'silent' we get 'listen' and vice-versa\n",
    "\n",
    "st = \"Silent\"\n",
    "st2 = \"Listen\"\n",
    "\n",
    "print(f\"Anagram {st = } & {st2 = }\" if sorted(st.lower()) == sorted(st2.lower()) else \"Not an Anagram\")\n",
    "\n",
    "print(Counter(st.lower()))\n",
    "print(Counter(st2.lower()))\n",
    "if Counter(st.lower()) == Counter(st2.lower()):\n",
    "        print(\"The strings are anagrams.\")\n",
    "else:\n",
    "    print(\"The strings aren't anagrams.\")"
   ]
  },
  {
   "cell_type": "markdown",
   "metadata": {},
   "source": [
    "Replace a sub-string in a string\n"
   ]
  },
  {
   "cell_type": "code",
   "execution_count": 57,
   "metadata": {},
   "outputs": [
    {
     "name": "stdout",
     "output_type": "stream",
     "text": [
      "PrepSter\n"
     ]
    }
   ],
   "source": [
    "st = \"PrepInsta\"\n",
    "\n",
    "print(st.replace(\"Insta\", \"Ster\"))"
   ]
  },
  {
   "cell_type": "markdown",
   "metadata": {},
   "source": [
    "Count common sub-sequence in two strings"
   ]
  },
  {
   "cell_type": "markdown",
   "metadata": {},
   "source": [
    "Check if two strings match where one string contains wildcard characters"
   ]
  },
  {
   "cell_type": "markdown",
   "metadata": {},
   "source": [
    "Print all permutations of a given string in lexicographically sorted order"
   ]
  },
  {
   "cell_type": "markdown",
   "metadata": {},
   "source": [
    "## Array\n"
   ]
  },
  {
   "cell_type": "markdown",
   "metadata": {},
   "source": [
    "Find Largest element in an array\n"
   ]
  },
  {
   "cell_type": "code",
   "execution_count": null,
   "metadata": {},
   "outputs": [],
   "source": [
    "a = [10, 89, 9, 56, 4, 80, 8]\n",
    "max_element = a[0]\n",
    "\n",
    "# for-loop\n",
    "for i in a:\n",
    "    if i > max_element:\n",
    "        max_element = i\n",
    "print(max_element)\n",
    "\n",
    "# sort()\n",
    "a.sort()\n",
    "print(a[len(a) - 1])\n",
    "\n",
    "# max()\n",
    "print(max(a))"
   ]
  },
  {
   "cell_type": "markdown",
   "metadata": {},
   "source": [
    "Find Smallest element in an array\n"
   ]
  },
  {
   "cell_type": "code",
   "execution_count": null,
   "metadata": {},
   "outputs": [],
   "source": [
    "a = [10, 89, 9, 56, 4, 80, 8]\n",
    "min_element = a[0]\n",
    "\n",
    "# for-loop\n",
    "for i in a:\n",
    "    if i < min_element:\n",
    "        min_element = i\n",
    "print(min_element)\n",
    "\n",
    "# sort()\n",
    "a.sort()\n",
    "print(a[0])\n",
    "\n",
    "# max()\n",
    "print(min(a))\n"
   ]
  },
  {
   "cell_type": "markdown",
   "metadata": {},
   "source": [
    "Find the Smallest and largest element in an array\n"
   ]
  },
  {
   "cell_type": "code",
   "execution_count": null,
   "metadata": {},
   "outputs": [],
   "source": [
    "a = [10, 89, 9, 56, 4, 80, 8]\n",
    "print(min(a))\n",
    "print(max(a))\n",
    "\n",
    "# sort\n",
    "a.sort()\n",
    "print(a[0])\n",
    "print(a[len(a) - 1])"
   ]
  },
  {
   "cell_type": "markdown",
   "metadata": {},
   "source": [
    "Find Second Smallest Element in an Array\n"
   ]
  },
  {
   "cell_type": "code",
   "execution_count": null,
   "metadata": {},
   "outputs": [],
   "source": [
    "arr = [10, 13, 17, 11, 34, 21]\n",
    "\n",
    "# two-for-loop\n",
    "first = math.inf\n",
    "second = math.inf\n",
    "for i in range(0, len(arr)):\n",
    "    if arr[i] < first:\n",
    "        first = arr[i]\n",
    "for i in range(0, len(arr)):\n",
    "    if arr[i] != first and arr[i] < second:\n",
    "        second = arr[i]\n",
    "print(second)\n",
    "\n",
    "# one-for-loop\n",
    "first = second = math.inf\n",
    "for i in range(0, len(arr)):\n",
    "    if arr[i] < first:\n",
    "        second = first\n",
    "        first = arr[i]\n",
    "    elif arr[i] < second and arr[i] != first:\n",
    "        second = arr[i]\n",
    "print(second)\n",
    "\n",
    "# sort\n",
    "arr.sort()\n",
    "print(arr[1])"
   ]
  },
  {
   "cell_type": "code",
   "execution_count": null,
   "metadata": {},
   "outputs": [],
   "source": []
  },
  {
   "cell_type": "markdown",
   "metadata": {},
   "source": [
    "## Advanced Arrays\n"
   ]
  },
  {
   "cell_type": "code",
   "execution_count": null,
   "metadata": {},
   "outputs": [],
   "source": []
  },
  {
   "cell_type": "markdown",
   "metadata": {},
   "source": [
    "## Matrix\n"
   ]
  },
  {
   "cell_type": "code",
   "execution_count": 14,
   "metadata": {},
   "outputs": [
    {
     "name": "stdout",
     "output_type": "stream",
     "text": [
      "1 2 3 4 "
     ]
    },
    {
     "ename": "KeyboardInterrupt",
     "evalue": "",
     "output_type": "error",
     "traceback": [
      "\u001b[1;31m---------------------------------------------------------------------------\u001b[0m",
      "\u001b[1;31mKeyboardInterrupt\u001b[0m                         Traceback (most recent call last)",
      "\u001b[1;32m~\\AppData\\Local\\Temp/ipykernel_11728/4054614033.py\u001b[0m in \u001b[0;36m<module>\u001b[1;34m\u001b[0m\n\u001b[0;32m      6\u001b[0m \u001b[1;33m\u001b[0m\u001b[0m\n\u001b[0;32m      7\u001b[0m \u001b[0ml\u001b[0m\u001b[1;33m,\u001b[0m \u001b[0mr\u001b[0m \u001b[1;33m=\u001b[0m \u001b[1;36m0\u001b[0m \u001b[1;33m,\u001b[0m \u001b[1;36m0\u001b[0m\u001b[1;33m\u001b[0m\u001b[1;33m\u001b[0m\u001b[0m\n\u001b[1;32m----> 8\u001b[1;33m \u001b[1;32mwhile\u001b[0m \u001b[0ml\u001b[0m \u001b[1;33m>=\u001b[0m \u001b[1;36m0\u001b[0m \u001b[1;32mand\u001b[0m \u001b[0mr\u001b[0m \u001b[1;33m<=\u001b[0m \u001b[0mc\u001b[0m\u001b[1;33m:\u001b[0m\u001b[1;33m\u001b[0m\u001b[1;33m\u001b[0m\u001b[0m\n\u001b[0m\u001b[0;32m      9\u001b[0m     \u001b[1;32mif\u001b[0m \u001b[0mr\u001b[0m \u001b[1;33m<=\u001b[0m \u001b[0mc\u001b[0m \u001b[1;33m-\u001b[0m\u001b[1;36m1\u001b[0m \u001b[1;33m:\u001b[0m\u001b[1;33m\u001b[0m\u001b[1;33m\u001b[0m\u001b[0m\n\u001b[0;32m     10\u001b[0m         \u001b[0mprint\u001b[0m\u001b[1;33m(\u001b[0m\u001b[0ma\u001b[0m\u001b[1;33m[\u001b[0m\u001b[0ml\u001b[0m\u001b[1;33m]\u001b[0m\u001b[1;33m[\u001b[0m\u001b[0mr\u001b[0m\u001b[1;33m]\u001b[0m\u001b[1;33m,\u001b[0m \u001b[0mend\u001b[0m\u001b[1;33m=\u001b[0m\u001b[1;34m\" \"\u001b[0m\u001b[1;33m)\u001b[0m\u001b[1;33m\u001b[0m\u001b[1;33m\u001b[0m\u001b[0m\n",
      "\u001b[1;31mKeyboardInterrupt\u001b[0m: "
     ]
    }
   ],
   "source": [
    "# Spiral traversal on a Matrix\n",
    "r = 4\n",
    "c = 4\n",
    "\n",
    "a = [[1, 2, 3, 4], [5, 6, 7, 8], [9, 10, 11, 12], [13, 14, 15, 16]]\n",
    "\n",
    "l, r = 0 , 0\n",
    "while l >= 0 and r <= c:\n",
    "    if mode := \"rf\":\n",
    "    # row front\n",
    "        print(a[l][r], end=\" \")\n",
    "        r += 1\n",
    "    # col down\n",
    "        print(a[l][r], end=\" \")\n",
    "        l += 1\n",
    "    # row back\n",
    "        print(a[l][r], end=\" \")\n",
    "        r -= 1\n",
    "    # col up\n",
    "        print(a[l][r], end=\" \")\n",
    "        l -= 1"
   ]
  },
  {
   "cell_type": "markdown",
   "metadata": {},
   "source": [
    "Search an element in a matrix\n"
   ]
  },
  {
   "cell_type": "markdown",
   "metadata": {},
   "source": [
    "Find median in a row wise sorted matrix – C | C++ | Java | Python\n"
   ]
  },
  {
   "cell_type": "markdown",
   "metadata": {},
   "source": [
    "Find row with maximum no. of 1’s – C | C++ | Java | Python\n"
   ]
  },
  {
   "cell_type": "markdown",
   "metadata": {},
   "source": [
    "Print elements in sorted order using row-column wise sorted matrix – C | C++ | Java | Python\n"
   ]
  },
  {
   "cell_type": "markdown",
   "metadata": {},
   "source": [
    "Find a specific pair in matrix – C | C++ | Java | Python\n"
   ]
  },
  {
   "cell_type": "markdown",
   "metadata": {},
   "source": [
    "Rotate matrix by 90 degrees – C | C++ | Java | Python\n"
   ]
  },
  {
   "cell_type": "markdown",
   "metadata": {},
   "source": [
    "Kth smallest element in a row-column wise sorted matrix – C | C++ | Java | Python\n"
   ]
  },
  {
   "cell_type": "markdown",
   "metadata": {},
   "source": [
    "Common elements in all rows of a given matrix\n"
   ]
  },
  {
   "cell_type": "markdown",
   "metadata": {},
   "source": [
    "## Pattern\n"
   ]
  },
  {
   "cell_type": "code",
   "execution_count": null,
   "metadata": {},
   "outputs": [],
   "source": [
    "\"\"\"     ****\n",
    "        ****\n",
    "        ****\n",
    "        **** \n",
    "square star pattern\"\"\"\n",
    "\n",
    "n = 4\n",
    "for r in range(n):\n",
    "    for c in range(n):\n",
    "        print(\"*\", end=\"\")\n",
    "    print(\"\")  # print(end=\"\\n\")"
   ]
  },
  {
   "cell_type": "code",
   "execution_count": null,
   "metadata": {},
   "outputs": [],
   "source": [
    "\"\"\" \n",
    "****\n",
    "*  *\n",
    "*  *\n",
    "****\n",
    "Hollow Square Star Pattern \"\"\"\n",
    "n = 4\n",
    "for r in range(n):\n",
    "    for c in range(n):\n",
    "        if r == 0 or r == n - 1:\n",
    "            print(\"*\", end=\"\")\n",
    "        elif c == 0 or c == n - 1:\n",
    "            print(\"*\", end=\"\")\n",
    "        else:\n",
    "            print(\" \", end=\"\")\n",
    "    print(\"\")  # print(end=\"\\n\")"
   ]
  },
  {
   "cell_type": "code",
   "execution_count": null,
   "metadata": {},
   "outputs": [],
   "source": [
    "\"\"\"        \n",
    "****\n",
    " ****\n",
    "  ****\n",
    "   ****\n",
    "Rhombus Star Pattern\"\"\"\n",
    "\n",
    "n = 4\n",
    "for r in range(n):\n",
    "    for c in range(n + r):\n",
    "        if c < r:\n",
    "            print(\" \", end=\"\")\n",
    "        else:\n",
    "            print(\"*\", end=\"\")\n",
    "    print(\"\")  # print(end=\"\\n\")"
   ]
  },
  {
   "cell_type": "code",
   "execution_count": null,
   "metadata": {},
   "outputs": [],
   "source": [
    "\"\"\" ******\n",
    "    ******\n",
    "    ******\n",
    "    ******\n",
    "Rectangle Star Pattern\"\"\"\n",
    "l = 4\n",
    "b = 6\n",
    "for r in range(l):\n",
    "    for c in range(b):\n",
    "        print(\"*\", end=\"\")\n",
    "    print(\"\")  # print(end=\"\\n\")"
   ]
  },
  {
   "cell_type": "code",
   "execution_count": null,
   "metadata": {},
   "outputs": [],
   "source": [
    "\"\"\"        ******\n",
    "           *    *\n",
    "           *    *\n",
    "           ******\n",
    "Hollow Rectangle Star Pattern \"\"\"\n",
    "l = 4\n",
    "b = 6\n",
    "for r in range(l):\n",
    "    for c in range(b):\n",
    "        if r == 0 or r == l - 1:\n",
    "            print(\"*\", end=\"\")\n",
    "        elif c == 0 or c == b - 1:\n",
    "            print(\"*\", end=\"\")\n",
    "        else:\n",
    "            print(\" \", end=\"\")\n",
    "    print(\"\")  # print(end=\"\\n\")"
   ]
  },
  {
   "cell_type": "code",
   "execution_count": null,
   "metadata": {},
   "outputs": [],
   "source": [
    "\"\"\"        \n",
    "******\n",
    " ******\n",
    "  ******\n",
    "   ******\n",
    "Parallelogram Star Pattern \"\"\"\n",
    "l = 4\n",
    "b = 6\n",
    "for r in range(l):\n",
    "    for c in range(b + r):\n",
    "        if c < r:\n",
    "            print(\" \", end=\"\")\n",
    "        else:\n",
    "            print(\"*\", end=\"\")\n",
    "    print(\"\")  # print(end=\"\\n\")"
   ]
  },
  {
   "cell_type": "code",
   "execution_count": null,
   "metadata": {},
   "outputs": [],
   "source": [
    "\"\"\" \n",
    "*\n",
    "**\n",
    "***\n",
    "****\n",
    "Triangle Star Pattern\"\"\"\n",
    "\n",
    "n = 4\n",
    "for r in range(n):\n",
    "    for c in range(r + 1):\n",
    "        print(\"*\", end=\"\")\n",
    "    print(\"\")  # print(end=\"\\n\")"
   ]
  },
  {
   "cell_type": "code",
   "execution_count": null,
   "metadata": {},
   "outputs": [],
   "source": [
    "\"\"\"     \n",
    "   * ->3-spaces\n",
    "  *** ->2\n",
    " ***** ->1\n",
    "******* ->0\n",
    "Pyramid Star Pattern \"\"\"\n",
    "n = 5\n",
    "odd = 1\n",
    "\n",
    "for r in range(n - 1, -1, -1):\n",
    "    for c in range(r + odd):\n",
    "        if c >= r:\n",
    "            print(\"*\", end=\"\")\n",
    "        else:\n",
    "            print(\" \", end=\"\")\n",
    "    odd += 2\n",
    "    print(\"\")  # print(end=\"\\n\")"
   ]
  },
  {
   "cell_type": "code",
   "execution_count": null,
   "metadata": {},
   "outputs": [],
   "source": [
    "\"\"\" \n",
    "   *\n",
    "  * *\n",
    " *   *\n",
    "*******\n",
    "Hollow Pyramid Star Pattern\"\"\"\n",
    "n = 4\n",
    "odd = 1\n",
    "\n",
    "for r in range(n - 1, -1, -1):\n",
    "    for c in range(r + odd):\n",
    "        if c >= r:\n",
    "            if r == 0 or c == r or c == r + odd - 1:\n",
    "                print(\"*\", end=\"\")\n",
    "            else:\n",
    "                print(\" \", end=\"\")\n",
    "        else:\n",
    "            print(\" \", end=\"\")\n",
    "    odd += 2\n",
    "    print(\"\")  # print(end=\"\\n\")"
   ]
  },
  {
   "cell_type": "code",
   "execution_count": null,
   "metadata": {},
   "outputs": [],
   "source": [
    "\"\"\" \n",
    "*******\n",
    " *****\n",
    "  ***\n",
    "   *\n",
    "Inverted Pyramid Star Pattern \"\"\"  # 1 3 5 7\n",
    "\n",
    "n = 4\n",
    "# generate odd no. from reverse using 2-tables: 4*2 = 8 - 1\n",
    "odd = n * 2 - 1\n",
    "\n",
    "for r in range(0, n, 1):\n",
    "    for c in range(r + odd):\n",
    "        if c >= r:\n",
    "            print(\"*\", end=\"\")\n",
    "        else:\n",
    "            print(\" \", end=\"\")\n",
    "    odd -= 2\n",
    "    print(\"\")  # print(end=\"\\n\")"
   ]
  },
  {
   "cell_type": "code",
   "execution_count": null,
   "metadata": {},
   "outputs": [],
   "source": [
    "\"\"\"\n",
    "           *******\n",
    "            *   *\n",
    "             * *\n",
    "              *\n",
    "Inverted Hollow Pyramid Star Pattern \"\"\"\n",
    "n = 4\n",
    "odd = n * 2 - 1\n",
    "\n",
    "for r in range(0, n, 1):\n",
    "    for c in range(r + odd):\n",
    "        if c >= r:\n",
    "            if r == 0 or c == r or c == r + odd - 1:\n",
    "                print(\"*\", end=\"\")\n",
    "            else:\n",
    "                print(\" \", end=\"\")\n",
    "        else:\n",
    "            print(\" \", end=\"\")\n",
    "    odd -= 2\n",
    "    print(\"\")  # print(end=\"\\n\")"
   ]
  },
  {
   "cell_type": "code",
   "execution_count": null,
   "metadata": {},
   "outputs": [],
   "source": [
    "\"\"\" \n",
    "*\n",
    "**\n",
    "***\n",
    "****\n",
    "***\n",
    "**\n",
    "*\n",
    "Half Diamond Star Pattern\"\"\"\n",
    "\n",
    "n = 4\n",
    "\n",
    "for r in range(n):\n",
    "    for c in range(r + 1):\n",
    "        if r < n:\n",
    "            print(\"*\", end=\"\")\n",
    "    print(\"\")\n",
    "\n",
    "for r in range(n - 1, 0, -1):\n",
    "    for c in range(r):\n",
    "        print(\"*\", end=\"\")\n",
    "    print(\"\")"
   ]
  },
  {
   "cell_type": "code",
   "execution_count": null,
   "metadata": {},
   "outputs": [],
   "source": [
    "\"\"\" \n",
    "   *\n",
    "  **\n",
    " ***\n",
    "****\n",
    " ***\n",
    "  **\n",
    "   *\n",
    "Half Diamond Star Pattern Inverted \"\"\"\n",
    "\n",
    "n = 4\n",
    "\n",
    "for r in range(1, n + 1):\n",
    "    for c in range(1, n + 1):\n",
    "        if c > n - r:\n",
    "            print(\"*\", end=\"\")\n",
    "        else:\n",
    "            print(\" \", end=\"\")\n",
    "    print(\"\")\n",
    "\n",
    "for r in range(1, n):\n",
    "    for c in range(n):\n",
    "        if c < r:\n",
    "            print(\" \", end=\"\")\n",
    "        else:\n",
    "            print(\"*\", end=\"\")\n",
    "    print(\"\")"
   ]
  },
  {
   "cell_type": "code",
   "execution_count": null,
   "metadata": {},
   "outputs": [],
   "source": [
    "\"\"\" \n",
    "   *\n",
    "  ***\n",
    " *****\n",
    "*******\n",
    " *****\n",
    "  ***\n",
    "   *\n",
    "Diamond Star Pattern \"\"\"\n",
    "\n",
    "n = 5\n",
    "odd = 1\n",
    "\n",
    "for r in range(n - 1, 0, -1):\n",
    "    for c in range(r + odd):\n",
    "        if c >= r:\n",
    "            print(\"*\", end=\"\")\n",
    "        else:\n",
    "            print(\" \", end=\"\")\n",
    "    odd += 2\n",
    "    print(\"\")  # print(end=\"\\n\")\n",
    "\n",
    "# generate odd no. from reverse using 2-tables: 4*2 = 8 - 1\n",
    "odd = n * 2 - 1\n",
    "\n",
    "for r in range(0, n, 1):\n",
    "    for c in range(r + odd):\n",
    "        if c >= r:\n",
    "            print(\"*\", end=\"\")\n",
    "        else:\n",
    "            print(\" \", end=\"\")\n",
    "    odd -= 2\n",
    "    print(\"\")  # print(end=\"\\n\")"
   ]
  },
  {
   "cell_type": "markdown",
   "metadata": {},
   "source": [
    "## Number Pattern\n"
   ]
  },
  {
   "cell_type": "code",
   "execution_count": null,
   "metadata": {},
   "outputs": [],
   "source": [
    "\"\"\"\n",
    "           1111\n",
    "           1111\n",
    "           1111\n",
    "           1111\n",
    "Basic Square 1 Pattern \"\"\"\n",
    "\n",
    "pattern = 1\n",
    "\n",
    "for i in range(1, 5):\n",
    "    for j in range(1, 5):\n",
    "        print(pattern, end=\"\")\n",
    "    print()"
   ]
  },
  {
   "cell_type": "code",
   "execution_count": null,
   "metadata": {},
   "outputs": [],
   "source": [
    "\"\"\"         \n",
    "           1111\n",
    "           2222\n",
    "           3333\n",
    "           4444\n",
    "Basic Square incrementing Pattern \"\"\"\n",
    "pattern = 1\n",
    "\n",
    "for i in range(1, 5):\n",
    "    for j in range(1, 5):\n",
    "        print(pattern, end=\"\")\n",
    "    pattern += 1\n",
    "    print()"
   ]
  },
  {
   "cell_type": "code",
   "execution_count": null,
   "metadata": {},
   "outputs": [],
   "source": [
    "\"\"\"        \n",
    "           333\n",
    "           313\n",
    "           323\n",
    "           333\n",
    "Internal varsity square Pattern \"\"\""
   ]
  },
  {
   "cell_type": "code",
   "execution_count": null,
   "metadata": {},
   "outputs": [],
   "source": [
    "\"\"\" \n",
    "           1\n",
    "           23\n",
    "           456\n",
    "           78910\n",
    "Basic Right Triangle Number Pattern\"\"\"\n",
    "\n",
    "n = 1\n",
    "rows = 4\n",
    "for r in range(1, rows + 1):\n",
    "    for c in range(r):\n",
    "        print(n, end=\"\")\n",
    "        n += 1\n",
    "    print(\"\")"
   ]
  },
  {
   "cell_type": "code",
   "execution_count": null,
   "metadata": {},
   "outputs": [],
   "source": [
    "\"\"\" \n",
    "10987\n",
    "456\n",
    "32\n",
    "1\n",
    "Basic Right Triangle Number Pattern (Inverted)\"\"\"\n",
    "\n",
    "num = int(input(\"Enter the Number: \"))\n",
    "\n",
    "count = 0\n",
    "for i in range(num, 0, -1):\n",
    "    count += i\n",
    "\n",
    "for i in range(0, num):\n",
    "    for j in range(0, num - i):\n",
    "        print(count, end=\"\")\n",
    "        count -= 1\n",
    "    print()"
   ]
  },
  {
   "cell_type": "markdown",
   "metadata": {},
   "source": [
    "## Number Start Mix PAttern\n"
   ]
  },
  {
   "cell_type": "code",
   "execution_count": null,
   "metadata": {},
   "outputs": [],
   "source": []
  },
  {
   "cell_type": "code",
   "execution_count": null,
   "metadata": {},
   "outputs": [],
   "source": []
  },
  {
   "cell_type": "code",
   "execution_count": null,
   "metadata": {},
   "outputs": [],
   "source": []
  },
  {
   "cell_type": "code",
   "execution_count": null,
   "metadata": {},
   "outputs": [],
   "source": []
  },
  {
   "cell_type": "code",
   "execution_count": null,
   "metadata": {},
   "outputs": [],
   "source": []
  }
 ],
 "metadata": {
  "kernelspec": {
   "display_name": "Python 3",
   "language": "python",
   "name": "python3"
  },
  "language_info": {
   "codemirror_mode": {
    "name": "ipython",
    "version": 3
   },
   "file_extension": ".py",
   "mimetype": "text/x-python",
   "name": "python",
   "nbconvert_exporter": "python",
   "pygments_lexer": "ipython3",
   "version": "3.10.1"
  },
  "orig_nbformat": 4
 },
 "nbformat": 4,
 "nbformat_minor": 2
}
