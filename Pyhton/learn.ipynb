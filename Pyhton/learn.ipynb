{
 "cells": [
  {
   "cell_type": "code",
   "execution_count": 23,
   "metadata": {},
   "outputs": [
    {
     "name": "stdout",
     "output_type": "stream",
     "text": [
      "None\n"
     ]
    }
   ],
   "source": [
    "# when there is no return value -> None\n",
    "print([32, 12, 65].sort())\n"
   ]
  },
  {
   "cell_type": "code",
   "execution_count": 16,
   "metadata": {},
   "outputs": [
    {
     "name": "stdout",
     "output_type": "stream",
     "text": [
      "Help on class int in module builtins:\n",
      "\n",
      "class int(object)\n",
      " |  int([x]) -> integer\n",
      " |  int(x, base=10) -> integer\n",
      " |  \n",
      " |  Convert a number or string to an integer, or return 0 if no arguments\n",
      " |  are given.  If x is a number, return x.__int__().  For floating point\n",
      " |  numbers, this truncates towards zero.\n",
      " |  \n",
      " |  If x is not a number or if base is given, then x must be a string,\n",
      " |  bytes, or bytearray instance representing an integer literal in the\n",
      " |  given base.  The literal can be preceded by '+' or '-' and be surrounded\n",
      " |  by whitespace.  The base defaults to 10.  Valid bases are 0 and 2-36.\n",
      " |  Base 0 means to interpret the base from the string as an integer literal.\n",
      " |  >>> int('0b100', base=0)\n",
      " |  4\n",
      " |  \n",
      " |  Built-in subclasses:\n",
      " |      bool\n",
      " |  \n",
      " |  Methods defined here:\n",
      " |  \n",
      " |  __abs__(self, /)\n",
      " |      abs(self)\n",
      " |  \n",
      " |  __add__(self, value, /)\n",
      " |      Return self+value.\n",
      " |  \n",
      " |  __and__(self, value, /)\n",
      " |      Return self&value.\n",
      " |  \n",
      " |  __bool__(self, /)\n",
      " |      self != 0\n",
      " |  \n",
      " |  __ceil__(...)\n",
      " |      Ceiling of an Integral returns itself.\n",
      " |  \n",
      " |  __divmod__(self, value, /)\n",
      " |      Return divmod(self, value).\n",
      " |  \n",
      " |  __eq__(self, value, /)\n",
      " |      Return self==value.\n",
      " |  \n",
      " |  __float__(self, /)\n",
      " |      float(self)\n",
      " |  \n",
      " |  __floor__(...)\n",
      " |      Flooring an Integral returns itself.\n",
      " |  \n",
      " |  __floordiv__(self, value, /)\n",
      " |      Return self//value.\n",
      " |  \n",
      " |  __format__(self, format_spec, /)\n",
      " |      Default object formatter.\n",
      " |  \n",
      " |  __ge__(self, value, /)\n",
      " |      Return self>=value.\n",
      " |  \n",
      " |  __getattribute__(self, name, /)\n",
      " |      Return getattr(self, name).\n",
      " |  \n",
      " |  __getnewargs__(self, /)\n",
      " |  \n",
      " |  __gt__(self, value, /)\n",
      " |      Return self>value.\n",
      " |  \n",
      " |  __hash__(self, /)\n",
      " |      Return hash(self).\n",
      " |  \n",
      " |  __index__(self, /)\n",
      " |      Return self converted to an integer, if self is suitable for use as an index into a list.\n",
      " |  \n",
      " |  __int__(self, /)\n",
      " |      int(self)\n",
      " |  \n",
      " |  __invert__(self, /)\n",
      " |      ~self\n",
      " |  \n",
      " |  __le__(self, value, /)\n",
      " |      Return self<=value.\n",
      " |  \n",
      " |  __lshift__(self, value, /)\n",
      " |      Return self<<value.\n",
      " |  \n",
      " |  __lt__(self, value, /)\n",
      " |      Return self<value.\n",
      " |  \n",
      " |  __mod__(self, value, /)\n",
      " |      Return self%value.\n",
      " |  \n",
      " |  __mul__(self, value, /)\n",
      " |      Return self*value.\n",
      " |  \n",
      " |  __ne__(self, value, /)\n",
      " |      Return self!=value.\n",
      " |  \n",
      " |  __neg__(self, /)\n",
      " |      -self\n",
      " |  \n",
      " |  __or__(self, value, /)\n",
      " |      Return self|value.\n",
      " |  \n",
      " |  __pos__(self, /)\n",
      " |      +self\n",
      " |  \n",
      " |  __pow__(self, value, mod=None, /)\n",
      " |      Return pow(self, value, mod).\n",
      " |  \n",
      " |  __radd__(self, value, /)\n",
      " |      Return value+self.\n",
      " |  \n",
      " |  __rand__(self, value, /)\n",
      " |      Return value&self.\n",
      " |  \n",
      " |  __rdivmod__(self, value, /)\n",
      " |      Return divmod(value, self).\n",
      " |  \n",
      " |  __repr__(self, /)\n",
      " |      Return repr(self).\n",
      " |  \n",
      " |  __rfloordiv__(self, value, /)\n",
      " |      Return value//self.\n",
      " |  \n",
      " |  __rlshift__(self, value, /)\n",
      " |      Return value<<self.\n",
      " |  \n",
      " |  __rmod__(self, value, /)\n",
      " |      Return value%self.\n",
      " |  \n",
      " |  __rmul__(self, value, /)\n",
      " |      Return value*self.\n",
      " |  \n",
      " |  __ror__(self, value, /)\n",
      " |      Return value|self.\n",
      " |  \n",
      " |  __round__(...)\n",
      " |      Rounding an Integral returns itself.\n",
      " |      \n",
      " |      Rounding with an ndigits argument also returns an integer.\n",
      " |  \n",
      " |  __rpow__(self, value, mod=None, /)\n",
      " |      Return pow(value, self, mod).\n",
      " |  \n",
      " |  __rrshift__(self, value, /)\n",
      " |      Return value>>self.\n",
      " |  \n",
      " |  __rshift__(self, value, /)\n",
      " |      Return self>>value.\n",
      " |  \n",
      " |  __rsub__(self, value, /)\n",
      " |      Return value-self.\n",
      " |  \n",
      " |  __rtruediv__(self, value, /)\n",
      " |      Return value/self.\n",
      " |  \n",
      " |  __rxor__(self, value, /)\n",
      " |      Return value^self.\n",
      " |  \n",
      " |  __sizeof__(self, /)\n",
      " |      Returns size in memory, in bytes.\n",
      " |  \n",
      " |  __sub__(self, value, /)\n",
      " |      Return self-value.\n",
      " |  \n",
      " |  __truediv__(self, value, /)\n",
      " |      Return self/value.\n",
      " |  \n",
      " |  __trunc__(...)\n",
      " |      Truncating an Integral returns itself.\n",
      " |  \n",
      " |  __xor__(self, value, /)\n",
      " |      Return self^value.\n",
      " |  \n",
      " |  as_integer_ratio(self, /)\n",
      " |      Return integer ratio.\n",
      " |      \n",
      " |      Return a pair of integers, whose ratio is exactly equal to the original int\n",
      " |      and with a positive denominator.\n",
      " |      \n",
      " |      >>> (10).as_integer_ratio()\n",
      " |      (10, 1)\n",
      " |      >>> (-10).as_integer_ratio()\n",
      " |      (-10, 1)\n",
      " |      >>> (0).as_integer_ratio()\n",
      " |      (0, 1)\n",
      " |  \n",
      " |  bit_count(self, /)\n",
      " |      Number of ones in the binary representation of the absolute value of self.\n",
      " |      \n",
      " |      Also known as the population count.\n",
      " |      \n",
      " |      >>> bin(13)\n",
      " |      '0b1101'\n",
      " |      >>> (13).bit_count()\n",
      " |      3\n",
      " |  \n",
      " |  bit_length(self, /)\n",
      " |      Number of bits necessary to represent self in binary.\n",
      " |      \n",
      " |      >>> bin(37)\n",
      " |      '0b100101'\n",
      " |      >>> (37).bit_length()\n",
      " |      6\n",
      " |  \n",
      " |  conjugate(...)\n",
      " |      Returns self, the complex conjugate of any int.\n",
      " |  \n",
      " |  to_bytes(self, /, length, byteorder, *, signed=False)\n",
      " |      Return an array of bytes representing an integer.\n",
      " |      \n",
      " |      length\n",
      " |        Length of bytes object to use.  An OverflowError is raised if the\n",
      " |        integer is not representable with the given number of bytes.\n",
      " |      byteorder\n",
      " |        The byte order used to represent the integer.  If byteorder is 'big',\n",
      " |        the most significant byte is at the beginning of the byte array.  If\n",
      " |        byteorder is 'little', the most significant byte is at the end of the\n",
      " |        byte array.  To request the native byte order of the host system, use\n",
      " |        `sys.byteorder' as the byte order value.\n",
      " |      signed\n",
      " |        Determines whether two's complement is used to represent the integer.\n",
      " |        If signed is False and a negative integer is given, an OverflowError\n",
      " |        is raised.\n",
      " |  \n",
      " |  ----------------------------------------------------------------------\n",
      " |  Class methods defined here:\n",
      " |  \n",
      " |  from_bytes(bytes, byteorder, *, signed=False) from builtins.type\n",
      " |      Return the integer represented by the given array of bytes.\n",
      " |      \n",
      " |      bytes\n",
      " |        Holds the array of bytes to convert.  The argument must either\n",
      " |        support the buffer protocol or be an iterable object producing bytes.\n",
      " |        Bytes and bytearray are examples of built-in objects that support the\n",
      " |        buffer protocol.\n",
      " |      byteorder\n",
      " |        The byte order used to represent the integer.  If byteorder is 'big',\n",
      " |        the most significant byte is at the beginning of the byte array.  If\n",
      " |        byteorder is 'little', the most significant byte is at the end of the\n",
      " |        byte array.  To request the native byte order of the host system, use\n",
      " |        `sys.byteorder' as the byte order value.\n",
      " |      signed\n",
      " |        Indicates whether two's complement is used to represent the integer.\n",
      " |  \n",
      " |  ----------------------------------------------------------------------\n",
      " |  Static methods defined here:\n",
      " |  \n",
      " |  __new__(*args, **kwargs) from builtins.type\n",
      " |      Create and return a new object.  See help(type) for accurate signature.\n",
      " |  \n",
      " |  ----------------------------------------------------------------------\n",
      " |  Data descriptors defined here:\n",
      " |  \n",
      " |  denominator\n",
      " |      the denominator of a rational number in lowest terms\n",
      " |  \n",
      " |  imag\n",
      " |      the imaginary part of a complex number\n",
      " |  \n",
      " |  numerator\n",
      " |      the numerator of a rational number in lowest terms\n",
      " |  \n",
      " |  real\n",
      " |      the real part of a complex number\n",
      "\n"
     ]
    }
   ],
   "source": [
    "# trying to access the docstring\n",
    "help(int)\n"
   ]
  },
  {
   "cell_type": "code",
   "execution_count": 18,
   "metadata": {},
   "outputs": [
    {
     "data": {
      "text/plain": [
       "['__add__',\n",
       " '__class__',\n",
       " '__class_getitem__',\n",
       " '__contains__',\n",
       " '__delattr__',\n",
       " '__delitem__',\n",
       " '__dir__',\n",
       " '__doc__',\n",
       " '__eq__',\n",
       " '__format__',\n",
       " '__ge__',\n",
       " '__getattribute__',\n",
       " '__getitem__',\n",
       " '__gt__',\n",
       " '__hash__',\n",
       " '__iadd__',\n",
       " '__imul__',\n",
       " '__init__',\n",
       " '__init_subclass__',\n",
       " '__iter__',\n",
       " '__le__',\n",
       " '__len__',\n",
       " '__lt__',\n",
       " '__mul__',\n",
       " '__ne__',\n",
       " '__new__',\n",
       " '__reduce__',\n",
       " '__reduce_ex__',\n",
       " '__repr__',\n",
       " '__reversed__',\n",
       " '__rmul__',\n",
       " '__setattr__',\n",
       " '__setitem__',\n",
       " '__sizeof__',\n",
       " '__str__',\n",
       " '__subclasshook__',\n",
       " 'append',\n",
       " 'clear',\n",
       " 'copy',\n",
       " 'count',\n",
       " 'extend',\n",
       " 'index',\n",
       " 'insert',\n",
       " 'pop',\n",
       " 'remove',\n",
       " 'reverse',\n",
       " 'sort']"
      ]
     },
     "execution_count": 18,
     "metadata": {},
     "output_type": "execute_result"
    }
   ],
   "source": [
    "# viewing all tools\n",
    "dir(list)\n"
   ]
  },
  {
   "cell_type": "code",
   "execution_count": 19,
   "metadata": {},
   "outputs": [
    {
     "name": "stdout",
     "output_type": "stream",
     "text": [
      "Sam's age is 20\n",
      "name = 'Sam''s age is age = 20\n"
     ]
    }
   ],
   "source": [
    "# f(formatted) strings\n",
    "\n",
    "name = \"Sam\"\n",
    "age = 20\n",
    "\n",
    "print(f\"{name}'s age is {age}\")\n",
    "\n",
    "# the '='  helps to assign it's value with the name\n",
    "print(f\"{name = }'s age is {age = }\")\n"
   ]
  },
  {
   "cell_type": "code",
   "execution_count": 43,
   "metadata": {},
   "outputs": [],
   "source": [
    "# ellipsis\n",
    "def cube():\n",
    "    ...\n",
    "\n",
    "\n",
    "# alternative\n",
    "def square():\n",
    "    pass\n"
   ]
  },
  {
   "cell_type": "markdown",
   "metadata": {},
   "source": [
    "# Input\n"
   ]
  },
  {
   "cell_type": "code",
   "execution_count": 4,
   "metadata": {},
   "outputs": [
    {
     "name": "stdout",
     "output_type": "stream",
     "text": [
      "\n"
     ]
    }
   ],
   "source": [
    "# \"samreen fathima farooq\"\n",
    "i = input()\n",
    "print(i)\n"
   ]
  },
  {
   "cell_type": "code",
   "execution_count": 2,
   "metadata": {},
   "outputs": [
    {
     "name": "stdout",
     "output_type": "stream",
     "text": [
      "13\n",
      "89\n"
     ]
    }
   ],
   "source": [
    "# \"12.0\" -> throws error\n",
    "# \"12\" -> works\n",
    "i = int(input())\n",
    "print(i + 1)\n",
    "\n",
    "# works\n",
    "print(int(89.1))\n",
    "\n",
    "# why?\n",
    "# coz \"21.0\" from input() is a string and which is a float so python raises ValueError\n",
    "# in int(89.1) we directly give floating point number so type conversion takes place\n"
   ]
  },
  {
   "cell_type": "code",
   "execution_count": 1,
   "metadata": {},
   "outputs": [
    {
     "name": "stdout",
     "output_type": "stream",
     "text": [
      "22.0\n"
     ]
    }
   ],
   "source": [
    "# 21 -> 21.0\n",
    "i = float(input())\n",
    "print(i + 1)\n"
   ]
  },
  {
   "cell_type": "code",
   "execution_count": 5,
   "metadata": {},
   "outputs": [
    {
     "name": "stdout",
     "output_type": "stream",
     "text": [
      "['a', ',', 'b', ',', 'c', ',', 'd']\n"
     ]
    }
   ],
   "source": [
    "# abcde -> ['a', 'b', 'c', 'd', 'e']\n",
    "# a,b,c,d,e -> ['a', ',', 'b', ',', 'c', ',', 'd']\n",
    "i = list(input())\n",
    "print(i)\n"
   ]
  },
  {
   "cell_type": "code",
   "execution_count": 44,
   "metadata": {},
   "outputs": [
    {
     "data": {
      "text/plain": [
       "[2, 3, 45, 65]"
      ]
     },
     "execution_count": 44,
     "metadata": {},
     "output_type": "execute_result"
    }
   ],
   "source": [
    "l = list(map(int, input().split()))\n",
    "l\n"
   ]
  },
  {
   "cell_type": "code",
   "execution_count": 3,
   "metadata": {},
   "outputs": [
    {
     "data": {
      "text/plain": [
       "str"
      ]
     },
     "execution_count": 3,
     "metadata": {},
     "output_type": "execute_result"
    }
   ],
   "source": [
    "type(\"a\")  # single and double quotes are same in python\n",
    "# str\n",
    "\n",
    "# type(chr('a'))\n",
    "# error\n",
    "\n",
    "type(chr(65))\n",
    "# str\n",
    "\n",
    "# chr(ascii_value)\n"
   ]
  },
  {
   "cell_type": "code",
   "execution_count": 10,
   "metadata": {},
   "outputs": [
    {
     "name": "stdout",
     "output_type": "stream",
     "text": [
      "65\n",
      "97\n",
      "66\n",
      "98\n",
      "A\n"
     ]
    },
    {
     "data": {
      "text/plain": [
       "str"
      ]
     },
     "execution_count": 10,
     "metadata": {},
     "output_type": "execute_result"
    }
   ],
   "source": [
    "print(ord(\"A\"))  # 65\n",
    "print(ord(\"a\"))  # 97\n",
    "\n",
    "print(ord(\"B\"))  # 66\n",
    "print(ord(\"b\"))  # 98\n",
    "\n",
    "# 65 + 32 -> a\n",
    "# 66 + 32 -> b\n",
    "\n",
    "print(chr(65))  # A\n",
    "\n",
    "type(chr(66))\n",
    "# str\n"
   ]
  },
  {
   "cell_type": "markdown",
   "metadata": {},
   "source": [
    "# Wierd pythonic behaviour\n"
   ]
  },
  {
   "cell_type": "markdown",
   "metadata": {},
   "source": [
    "tuple unpacking\n"
   ]
  },
  {
   "cell_type": "code",
   "execution_count": 10,
   "metadata": {},
   "outputs": [
    {
     "name": "stdout",
     "output_type": "stream",
     "text": [
      "3 2\n"
     ]
    }
   ],
   "source": [
    "a = 2\n",
    "b = 3\n",
    "# this works because of tuple unpacking\n",
    "a, b = b, a\n",
    "print(a, b)"
   ]
  },
  {
   "cell_type": "code",
   "execution_count": 1,
   "metadata": {},
   "outputs": [
    {
     "name": "stdout",
     "output_type": "stream",
     "text": [
      "(1, 2, 3)\n"
     ]
    }
   ],
   "source": [
    "# the left side is first made into a single tuple and then assigned to the right side\n",
    "a = 1, 2, 3\n",
    "print(a)\n",
    "# (1, 2, 3)"
   ]
  },
  {
   "cell_type": "code",
   "execution_count": 5,
   "metadata": {},
   "outputs": [
    {
     "data": {
      "text/plain": [
       "'hello hello hello '"
      ]
     },
     "execution_count": 5,
     "metadata": {},
     "output_type": "execute_result"
    }
   ],
   "source": [
    "st = \"hello \" * 3\n",
    "st\n",
    "# 'hello hello hello '"
   ]
  },
  {
   "cell_type": "code",
   "execution_count": 7,
   "metadata": {},
   "outputs": [
    {
     "name": "stdout",
     "output_type": "stream",
     "text": [
      "samsah\n",
      "samsah\n"
     ]
    }
   ],
   "source": [
    "# samsah\n",
    "print(\"sam\" \"sah\")\n",
    "\n",
    "# samsah\n",
    "print(\"sam\" + \"sah\")\n"
   ]
  },
  {
   "cell_type": "code",
   "execution_count": 4,
   "metadata": {},
   "outputs": [
    {
     "data": {
      "text/plain": [
       "[0, 0, 0, 0, 0, 0, 0]"
      ]
     },
     "execution_count": 4,
     "metadata": {},
     "output_type": "execute_result"
    }
   ],
   "source": [
    "ar = [0] * 7\n",
    "ar\n",
    "# [0, 0, 0, 0, 0, 0, 0]"
   ]
  },
  {
   "cell_type": "code",
   "execution_count": 15,
   "metadata": {},
   "outputs": [
    {
     "data": {
      "text/plain": [
       "[0, 0, 0, 0, 1, 2, 3, [4]]"
      ]
     },
     "execution_count": 15,
     "metadata": {},
     "output_type": "execute_result"
    }
   ],
   "source": [
    "# [0, 0, 0, 0, 1, 2, 3, [4]]\n",
    "ar = [0, 0, 0, 0] + [1, 2, 3, [4]]\n",
    "ar\n"
   ]
  },
  {
   "cell_type": "markdown",
   "metadata": {},
   "source": [
    "list unpacking\n"
   ]
  },
  {
   "cell_type": "code",
   "execution_count": 7,
   "metadata": {},
   "outputs": [
    {
     "name": "stdout",
     "output_type": "stream",
     "text": [
      "range(0, 3)\n",
      "0 1 2\n",
      "0 1\n",
      "0 1 [2, 3, 4, 5]\n"
     ]
    },
    {
     "ename": "SyntaxError",
     "evalue": "starred assignment target must be in a list or tuple (Temp/ipykernel_4380/3989815403.py, line 23)",
     "output_type": "error",
     "traceback": [
      "\u001b[1;36m  File \u001b[1;32m\"C:\\Users\\SAMREEN\\AppData\\Local\\Temp/ipykernel_4380/3989815403.py\"\u001b[1;36m, line \u001b[1;32m23\u001b[0m\n\u001b[1;33m    *e = [1,2]\u001b[0m\n\u001b[1;37m    ^\u001b[0m\n\u001b[1;31mSyntaxError\u001b[0m\u001b[1;31m:\u001b[0m starred assignment target must be in a list or tuple\n"
     ]
    }
   ],
   "source": [
    "l = range(3)\n",
    "\n",
    "# range(0, 3)\n",
    "print(l)\n",
    "\n",
    "# 0 1 2\n",
    "print(*l)\n",
    "\n",
    "# [0, 1, 2, 3, 4, 5]\n",
    "l = [*range(6)]\n",
    "\n",
    "# 0 1\n",
    "a, b = range(2)\n",
    "print(a, b)\n",
    "\n",
    "# 0 1 [2, 3, 4, 5]\n",
    "a, b, *c = range(6)\n",
    "print(a, b, c)\n",
    "\n",
    "[*d] = 1, 2, 3, 4\n",
    "# d => [1, 2, 3, 4]\n"
   ]
  },
  {
   "cell_type": "code",
   "execution_count": 13,
   "metadata": {},
   "outputs": [
    {
     "data": {
      "text/plain": [
       "120"
      ]
     },
     "execution_count": 13,
     "metadata": {},
     "output_type": "execute_result"
    }
   ],
   "source": [
    "__import__(\"math\").factorial(5)\n",
    "__import__(\"importlib\").import_module(\"math\").factorial(5)\n"
   ]
  },
  {
   "cell_type": "code",
   "execution_count": 2,
   "metadata": {},
   "outputs": [
    {
     "name": "stdout",
     "output_type": "stream",
     "text": [
      "1\n",
      "0\n"
     ]
    }
   ],
   "source": [
    "print(1 % 8)  # 1\n",
    "\n",
    "print(8 % 8)  # 0"
   ]
  },
  {
   "cell_type": "code",
   "execution_count": 11,
   "metadata": {},
   "outputs": [
    {
     "name": "stdout",
     "output_type": "stream",
     "text": [
      "10.5\n",
      "10\n",
      "1\n",
      "(10, 1)\n"
     ]
    }
   ],
   "source": [
    "print(21 / 2)  # 10.5\n",
    "\n",
    "print(21 // 2)  # 10\n",
    "\n",
    "print(21 % 2)  # 1\n",
    "\n",
    "print(divmod(21, 2))"
   ]
  },
  {
   "cell_type": "code",
   "execution_count": null,
   "metadata": {},
   "outputs": [],
   "source": [
    "# for redability of big numbers\n",
    "10_0_0\n"
   ]
  },
  {
   "cell_type": "code",
   "execution_count": 4,
   "metadata": {},
   "outputs": [
    {
     "name": "stdout",
     "output_type": "stream",
     "text": [
      "{'s': 1, 'a': 1, 'm': 1, 'r': 1, 'e': 2, 'n': 1}\n"
     ]
    },
    {
     "ename": "KeyError",
     "evalue": "'z'",
     "output_type": "error",
     "traceback": [
      "\u001b[1;31m---------------------------------------------------------------------------\u001b[0m",
      "\u001b[1;31mKeyError\u001b[0m                                  Traceback (most recent call last)",
      "\u001b[1;32m~\\AppData\\Local\\Temp/ipykernel_21312/2999676184.py\u001b[0m in \u001b[0;36m<module>\u001b[1;34m\u001b[0m\n\u001b[0;32m     14\u001b[0m \u001b[1;33m\u001b[0m\u001b[0m\n\u001b[0;32m     15\u001b[0m \u001b[1;31m# Key error\u001b[0m\u001b[1;33m\u001b[0m\u001b[1;33m\u001b[0m\u001b[0m\n\u001b[1;32m---> 16\u001b[1;33m \u001b[0md\u001b[0m\u001b[1;33m[\u001b[0m\u001b[1;34m\"z\"\u001b[0m\u001b[1;33m]\u001b[0m \u001b[1;33m+=\u001b[0m \u001b[1;36m1\u001b[0m\u001b[1;33m\u001b[0m\u001b[1;33m\u001b[0m\u001b[0m\n\u001b[0m",
      "\u001b[1;31mKeyError\u001b[0m: 'z'"
     ]
    }
   ],
   "source": [
    "# key's cannot be updated unless they are present in the dict\n",
    "\n",
    "d = dict()\n",
    "st = \"samreen\"\n",
    "\n",
    "for ch in st:\n",
    "    if ch in d:\n",
    "        d[ch] += 1\n",
    "    else:\n",
    "        d[ch] = 1\n",
    "\n",
    "# {'s': 1, 'a': 1, 'm': 1, 'r': 1, 'e': 2, 'n': 1}\n",
    "print(d)\n",
    "\n",
    "# Key error\n",
    "d[\"z\"] += 1\n",
    "\n",
    "# solution\n",
    "d[\"z\"] = 0\n",
    "d[\"z\"] += 1\n"
   ]
  },
  {
   "cell_type": "code",
   "execution_count": 10,
   "metadata": {},
   "outputs": [
    {
     "name": "stdout",
     "output_type": "stream",
     "text": [
      "Counter({'e': 2, 's': 1, 'a': 1, 'm': 1, 'r': 1, 'n': 1})\n"
     ]
    }
   ],
   "source": [
    "def your_function():\n",
    "    try:\n",
    "        from collections import Counter\n",
    "\n",
    "        print(Counter(\"samreen\"))\n",
    "    except ImportError:\n",
    "        print(\"error\")\n",
    "\n",
    "\n",
    "your_function()\n"
   ]
  },
  {
   "cell_type": "code",
   "execution_count": 3,
   "metadata": {},
   "outputs": [
    {
     "name": "stdout",
     "output_type": "stream",
     "text": [
      "mmmmmmas\n"
     ]
    }
   ],
   "source": [
    "st = \"sammmmmm\"\n",
    "print(*reversed(st), sep=\"\")"
   ]
  },
  {
   "cell_type": "markdown",
   "metadata": {},
   "source": [
    "walrus op\n"
   ]
  },
  {
   "cell_type": "code",
   "execution_count": 1,
   "metadata": {},
   "outputs": [
    {
     "ename": "SyntaxError",
     "evalue": "cannot assign to named expression (Temp/ipykernel_1492/2403813484.py, line 32)",
     "output_type": "error",
     "traceback": [
      "\u001b[1;36m  File \u001b[1;32m\"C:\\Users\\SAMREEN\\AppData\\Local\\Temp/ipykernel_1492/2403813484.py\"\u001b[1;36m, line \u001b[1;32m32\u001b[0m\n\u001b[1;33m    for (ch := ch.lower()) in st:\u001b[0m\n\u001b[1;37m         ^\u001b[0m\n\u001b[1;31mSyntaxError\u001b[0m\u001b[1;31m:\u001b[0m cannot assign to named expression\n"
     ]
    }
   ],
   "source": [
    "some_list = [*range(11)]\n",
    "\n",
    "# Without walrus operator\n",
    "if len(some_list) > 10:\n",
    "    print(f\"The list is too long: {len(some_list)} elements\")\n",
    "\n",
    "# With walrus operator\n",
    "if (length := len(some_list)) > 10:\n",
    "    print(f\"The list is too long: {length} elements\")\n",
    "\n",
    "\n",
    "def get_next_value():\n",
    "    ...\n",
    "\n",
    "\n",
    "def process(p):\n",
    "    ...\n",
    "\n",
    "\n",
    "# Without walrus operator\n",
    "while True:\n",
    "    x = get_next_value()\n",
    "    if x is None:\n",
    "        break\n",
    "    process(x)\n",
    "\n",
    "# With walrus operator\n",
    "while (x := get_next_value()) is not None:\n",
    "    process(x)\n",
    "\n",
    "\n",
    "# not possible\n",
    "st = \"Sam\"\n",
    "for (ch := ch.lower()) in st:\n",
    "    ...\n"
   ]
  },
  {
   "cell_type": "code",
   "execution_count": null,
   "metadata": {},
   "outputs": [],
   "source": [
    "Node = namedtuple(\"Node\", \"data key\")\n"
   ]
  },
  {
   "cell_type": "markdown",
   "metadata": {},
   "source": [
    "# List\n"
   ]
  },
  {
   "cell_type": "markdown",
   "metadata": {},
   "source": [
    "list creation\n"
   ]
  },
  {
   "cell_type": "code",
   "execution_count": 2,
   "metadata": {},
   "outputs": [
    {
     "name": "stdout",
     "output_type": "stream",
     "text": [
      "[10, 11, 23, 33, 74, 95]\n",
      "10 11 23 33 74 95\n",
      "[[10, 11, 23, 33, 74, 95]]\n"
     ]
    }
   ],
   "source": [
    "l = [10, 11, 23, 33, 74, 95]\n",
    "\n",
    "# [10, 11, 23, 33, 74, 95]\n",
    "print(l)\n",
    "\n",
    "# 10 11 23 33 74 95\n",
    "print(*l)"
   ]
  },
  {
   "cell_type": "code",
   "execution_count": 2,
   "metadata": {},
   "outputs": [
    {
     "data": {
      "text/plain": [
       "[-1, -2, -3, -4]"
      ]
     },
     "execution_count": 2,
     "metadata": {},
     "output_type": "execute_result"
    }
   ],
   "source": [
    "l = [*range(-1, -5, -1)]\n",
    "l\n",
    "# [-1, -2, -3, -4]\n"
   ]
  },
  {
   "cell_type": "markdown",
   "metadata": {},
   "source": [
    "list is empty or not\n"
   ]
  },
  {
   "cell_type": "code",
   "execution_count": 46,
   "metadata": {},
   "outputs": [
    {
     "name": "stdout",
     "output_type": "stream",
     "text": [
      "True\n",
      "False\n"
     ]
    }
   ],
   "source": [
    "# To check if list is empty or not\n",
    "\n",
    "print(not [])  # True\n",
    "\n",
    "print(not [1, 2])  # False\n"
   ]
  },
  {
   "cell_type": "markdown",
   "metadata": {},
   "source": [
    "membership operator\n"
   ]
  },
  {
   "cell_type": "code",
   "execution_count": 49,
   "metadata": {},
   "outputs": [
    {
     "name": "stdout",
     "output_type": "stream",
     "text": [
      "True\n",
      "True\n"
     ]
    }
   ],
   "source": [
    "l = [2, 21, 876, 987, 23, 12]\n",
    "\n",
    "print(2 in l)  # True\n",
    "\n",
    "print(22 not in l)  # True"
   ]
  },
  {
   "cell_type": "markdown",
   "metadata": {},
   "source": [
    "iterate over a list\n"
   ]
  },
  {
   "cell_type": "code",
   "execution_count": 12,
   "metadata": {},
   "outputs": [
    {
     "name": "stdout",
     "output_type": "stream",
     "text": [
      "2 21 876 987 23 12 \n",
      "(0, 2) (1, 21) (2, 876) (3, 987) (4, 23) (5, 12) \n",
      "index = 0 : item = 2\n",
      "index = 1 : item = 21\n",
      "index = 2 : item = 876\n",
      "index = 3 : item = 987\n",
      "index = 4 : item = 23\n",
      "index = 5 : item = 12\n"
     ]
    }
   ],
   "source": [
    "l = [2, 21, 876, 987, 23, 12]\n",
    "\n",
    "# 2 21 876 987 23 12\n",
    "for item in l:\n",
    "    print(item, end=\" \")\n",
    "\n",
    "# (0, 2) (1, 21) (2, 876) (3, 987) (4, 23) (5, 12)\n",
    "for items in enumerate(l):\n",
    "    print(items, end=\" \")\n",
    "\n",
    "# index = 0 : item = 2\n",
    "# index = 1 : item = 21\n",
    "# ...\n",
    "for index, item in enumerate(l):\n",
    "    print(f\"{index = } : {item = }\")\n"
   ]
  },
  {
   "cell_type": "markdown",
   "metadata": {},
   "source": [
    "copy list\n"
   ]
  },
  {
   "cell_type": "code",
   "execution_count": null,
   "metadata": {},
   "outputs": [],
   "source": [
    "l = [10, 11, 23, 33, 74, 95]\n",
    "\n",
    "l1 = l\n",
    "print(id(l1) == id(l))  # true\n",
    "\n",
    "# copy a list\n",
    "l2 = l.copy()\n",
    "\n",
    "l3 = l[:]\n"
   ]
  },
  {
   "cell_type": "code",
   "execution_count": 10,
   "metadata": {},
   "outputs": [],
   "source": [
    "l = [1, 404, 65, 43, 90]\n"
   ]
  },
  {
   "cell_type": "markdown",
   "metadata": {},
   "source": [
    "access items of list\n"
   ]
  },
  {
   "cell_type": "code",
   "execution_count": 11,
   "metadata": {},
   "outputs": [
    {
     "name": "stdout",
     "output_type": "stream",
     "text": [
      "90\n",
      "90\n"
     ]
    }
   ],
   "source": [
    "print(l[4])\n",
    "print(l[-1])\n"
   ]
  },
  {
   "cell_type": "markdown",
   "metadata": {},
   "source": [
    "update list\n"
   ]
  },
  {
   "cell_type": "code",
   "execution_count": 8,
   "metadata": {},
   "outputs": [
    {
     "data": {
      "text/plain": [
       "[999990, 404, 65, 43, 88888]"
      ]
     },
     "execution_count": 8,
     "metadata": {},
     "output_type": "execute_result"
    }
   ],
   "source": [
    "l[0] = 999990\n",
    "\n",
    "l[-1] = 88888\n",
    "\n",
    "l\n"
   ]
  },
  {
   "cell_type": "markdown",
   "metadata": {},
   "source": [
    "slicing\n"
   ]
  },
  {
   "cell_type": "code",
   "execution_count": 13,
   "metadata": {},
   "outputs": [
    {
     "data": {
      "text/plain": [
       "[95, 74, 33, 23, 11, 10]"
      ]
     },
     "execution_count": 13,
     "metadata": {},
     "output_type": "execute_result"
    }
   ],
   "source": [
    "l = [10, 11, 23, 33, 74, 95]\n",
    "\n",
    "# postive indexing: default start = 0 | end = len(l): [start_index : end_index)\n",
    "l[:]\n",
    "# [10, 11, 23, 33, 74, 95]\n",
    "\n",
    "l[0:2]\n",
    "# [10, 11]\n",
    "\n",
    "l[::2]\n",
    "# [10, 23, 74]\n",
    "\n",
    "# negative indexing:\n",
    "l[-3:-2]\n",
    "# [33]\n",
    "\n",
    "l[:-1]\n",
    "# [10, 11, 23, 33, 74]\n",
    "\n",
    "l[-2:]\n",
    "# [74, 95]\n",
    "\n",
    "l[::-1]\n",
    "# [95, 74, 33, 23, 11, 10] (reverse of a list)\n"
   ]
  },
  {
   "cell_type": "markdown",
   "metadata": {},
   "source": [
    "add items to list\n"
   ]
  },
  {
   "cell_type": "code",
   "execution_count": 36,
   "metadata": {},
   "outputs": [
    {
     "data": {
      "text/plain": [
       "[10, 23, 33, 74, 9302, [1, 2, 3], 1, 2, 3]"
      ]
     },
     "execution_count": 36,
     "metadata": {},
     "output_type": "execute_result"
    }
   ],
   "source": [
    "l = [10, 23, 33, 74]\n",
    "\n",
    "# [10, 23, 33, 74, 9302]\n",
    "l.append(9302)\n",
    "\n",
    "# [10, 23, 33, 74, 9302, [1, 2, 3]]\n",
    "l.append([1, 2, 3])\n",
    "\n",
    "# [10, 23, 33, 74, 80, [1, 2, 3], 1, 2, 3]\n",
    "l.extend([1, 2, 3])"
   ]
  },
  {
   "cell_type": "code",
   "execution_count": 39,
   "metadata": {},
   "outputs": [],
   "source": [
    "l = [10, 23, 33, 74, 80, [1, 2, 3], 1, 2, 3]\n",
    "\n",
    "# 121 is added before the 0 index\n",
    "l.insert(0, 121)\n",
    "\n",
    "# [121, 10, 23, 33, 74, 80, [1, 2, 3], 1, 2, 3]"
   ]
  },
  {
   "cell_type": "markdown",
   "metadata": {},
   "source": [
    "remove an item from list\n"
   ]
  },
  {
   "cell_type": "code",
   "execution_count": 15,
   "metadata": {},
   "outputs": [
    {
     "name": "stdout",
     "output_type": "stream",
     "text": [
      "95\n",
      "11\n",
      "74\n"
     ]
    }
   ],
   "source": [
    "l = [10, 11, 23, 33, 74, 95]\n",
    "\n",
    "# 95 - pops and returns last element\n",
    "print(l.pop())\n",
    "\n",
    "# 11 - pops the element at index 1\n",
    "print(l.pop(1))\n",
    "\n",
    "# 74 - pops the element at index -1\n",
    "print(l.pop(-1))\n",
    "\n",
    "# ERROR is raised if -> index out of range | list is empty\n"
   ]
  },
  {
   "cell_type": "code",
   "execution_count": 44,
   "metadata": {},
   "outputs": [
    {
     "data": {
      "text/plain": [
       "[3, 2, 3]"
      ]
     },
     "execution_count": 44,
     "metadata": {},
     "output_type": "execute_result"
    }
   ],
   "source": [
    "l = [2, 3, 2, 3]\n",
    "\n",
    "# [3, 2, 3]\n",
    "l.remove(2)\n",
    "\n",
    "# ERROR: if item 2 is not present\n"
   ]
  },
  {
   "cell_type": "markdown",
   "metadata": {},
   "source": [
    "count the occ of an list item\n"
   ]
  },
  {
   "cell_type": "code",
   "execution_count": 1,
   "metadata": {},
   "outputs": [
    {
     "name": "stdout",
     "output_type": "stream",
     "text": [
      "2\n",
      "0\n"
     ]
    }
   ],
   "source": [
    "l = [2, 3, 2, 3]\n",
    "\n",
    "# 2\n",
    "print(l.count(3))\n",
    "\n",
    "# 0\n",
    "print(l.count(33))\n"
   ]
  },
  {
   "cell_type": "markdown",
   "metadata": {},
   "source": [
    "sort - reverse list\n"
   ]
  },
  {
   "cell_type": "code",
   "execution_count": 4,
   "metadata": {},
   "outputs": [],
   "source": [
    "l = [1, 2, 3, 4, 5]\n",
    "\n",
    "l.reverse()\n",
    "\n",
    "l.sort()\n",
    "\n",
    "l.sort(reverse=True)"
   ]
  },
  {
   "cell_type": "code",
   "execution_count": 1,
   "metadata": {},
   "outputs": [
    {
     "name": "stdout",
     "output_type": "stream",
     "text": [
      "5 4 3 2 1\n",
      "[5, 4, 3, 2, 1]\n",
      "[5, 4, 3, 2, 1]\n"
     ]
    }
   ],
   "source": [
    "l = [1, 2, 3, 4, 5]\n",
    "\n",
    "# Array is not modified\n",
    "print(*reversed(l))  # 5 4 3 2 1\n",
    "\n",
    "print(list(reversed(l)))  # [5, 4, 3, 2, 1]\n",
    "\n",
    "print(sorted(l, reverse=True))\n"
   ]
  },
  {
   "cell_type": "markdown",
   "metadata": {},
   "source": [
    "# Strings:\n",
    "\n",
    "- are immutable\n",
    "- so the methods return a new string and do not modify the orginal string\n"
   ]
  },
  {
   "cell_type": "markdown",
   "metadata": {},
   "source": [
    "access - slicing\n"
   ]
  },
  {
   "cell_type": "code",
   "execution_count": 33,
   "metadata": {},
   "outputs": [
    {
     "data": {
      "text/plain": [
       "'Ali elTa nsWl'"
      ]
     },
     "execution_count": 33,
     "metadata": {},
     "output_type": "execute_result"
    }
   ],
   "source": [
    "# strings are immutable\n",
    "st = \"All is well That ends Well\"\n",
    "\n",
    "st[0]  # 'A'\n",
    "\n",
    "st[-1]  # 'l'\n",
    "\n",
    "st[:]  # 'All is well That ends Well'\n",
    "\n",
    "st[::-1]  # 'lleW sdne tahT llew si llA'\n",
    "\n",
    "st[:3]  # 'All'\n",
    "\n",
    "st[1:3]  # 'll'\n",
    "\n",
    "st[-3:-1]  # 'el'\n",
    "\n",
    "st[:-1]  # 'All is well That ends Wel'\n",
    "\n",
    "st[-2:]  # 'll'\n",
    "\n",
    "st[::2]  # 'Ali elTa nsWl' (string at even index places)\n"
   ]
  },
  {
   "cell_type": "markdown",
   "metadata": {},
   "source": [
    "string membership operator\n"
   ]
  },
  {
   "cell_type": "code",
   "execution_count": 10,
   "metadata": {},
   "outputs": [
    {
     "data": {
      "text/plain": [
       "False"
      ]
     },
     "execution_count": 10,
     "metadata": {},
     "output_type": "execute_result"
    }
   ],
   "source": [
    "s = \"sammy\"\n",
    "\n",
    "\"s\" in s  # True\n",
    "\"s\" not in s  # False\n",
    "\n",
    "# not possible\n",
    "\"sam\" not in s  # False\n"
   ]
  },
  {
   "cell_type": "markdown",
   "metadata": {},
   "source": [
    "count occ of each and every character in the string: Counter\n"
   ]
  },
  {
   "cell_type": "code",
   "execution_count": 11,
   "metadata": {},
   "outputs": [
    {
     "name": "stdout",
     "output_type": "stream",
     "text": [
      "Counter({'o': 2, 'Y': 1, 'l': 1, ' ': 1, 'L': 1, 'i': 1, 'f': 1, 'e': 1})\n"
     ]
    }
   ],
   "source": [
    "from collections import Counter\n",
    "\n",
    "string = \"Yolo Life\"\n",
    "\n",
    "output = Counter(string)\n",
    "print(output)\n"
   ]
  },
  {
   "cell_type": "markdown",
   "metadata": {},
   "source": [
    "unique characters in string\n"
   ]
  },
  {
   "cell_type": "code",
   "execution_count": 12,
   "metadata": {},
   "outputs": [
    {
     "name": "stdout",
     "output_type": "stream",
     "text": [
      "{'a', 'A', 'b'}\n"
     ]
    }
   ],
   "source": [
    "st = \"Aaaaaabaaa\"\n",
    "\n",
    "print(set(st))"
   ]
  },
  {
   "cell_type": "markdown",
   "metadata": {},
   "source": [
    "split string into an array\n"
   ]
  },
  {
   "cell_type": "code",
   "execution_count": 4,
   "metadata": {},
   "outputs": [
    {
     "name": "stdout",
     "output_type": "stream",
     "text": [
      "['All', 'is', 'well', 'That', 'ends', 'Well']\n",
      "['', 'll is well That ends Well']\n"
     ]
    }
   ],
   "source": [
    "st = \"All is well That ends Well\"\n",
    "\n",
    "# split on space\n",
    "# ['All', 'is', 'well', 'That', 'ends', 'Well']\n",
    "print(st.split())\n",
    "\n",
    "# ['', 'll is well That ends Well']\n",
    "print(st.split(\"A\"))\n"
   ]
  },
  {
   "cell_type": "code",
   "execution_count": 72,
   "metadata": {},
   "outputs": [
    {
     "name": "stdout",
     "output_type": "stream",
     "text": [
      "['All', 'is', 'well', 'That', 'ends', 'Well']\n",
      "['All', 'is', 'well', 'That', 'ends', 'Well']\n",
      "['All ', 's well That ends Well']\n"
     ]
    }
   ],
   "source": [
    "st = \"All is well That ends Well\"\n",
    "\n",
    "# ['All', 'is', 'well', 'That', 'ends', 'Well']\n",
    "print(st.rsplit(sep=\" \"))\n",
    "\n",
    "# ['All', 'is', 'well', 'That', 'ends', 'Well']\n",
    "print(st.split())\n",
    "\n",
    "# ['All ', 's well That ends Well'] (split also works the same)\n",
    "print(st.rsplit(sep=\"i\"))\n"
   ]
  },
  {
   "cell_type": "markdown",
   "metadata": {},
   "source": [
    "operators on string\n"
   ]
  },
  {
   "cell_type": "code",
   "execution_count": 6,
   "metadata": {},
   "outputs": [
    {
     "data": {
      "text/plain": [
       "'fivesix'"
      ]
     },
     "execution_count": 6,
     "metadata": {},
     "output_type": "execute_result"
    }
   ],
   "source": [
    "str = \"five\" * 2\n",
    "str  # 'fivefive'\n",
    "\n",
    "str = \"five\" + \"six\"\n",
    "str  # 'fivesix'\n"
   ]
  },
  {
   "cell_type": "markdown",
   "metadata": {},
   "source": [
    "string functions\n"
   ]
  },
  {
   "cell_type": "code",
   "execution_count": 28,
   "metadata": {},
   "outputs": [
    {
     "name": "stdout",
     "output_type": "stream",
     "text": [
      "all is well that ends well\n",
      "ALL IS WELL THAT ENDS WELL\n",
      "aLL IS WELL tHAT ENDS wELL\n",
      "All is well that ends well\n",
      "All Is Well That Ends Well\n"
     ]
    },
    {
     "data": {
      "text/plain": [
       "'All is well That ends Well'"
      ]
     },
     "execution_count": 28,
     "metadata": {},
     "output_type": "execute_result"
    }
   ],
   "source": [
    "st = \"All is well That ends Well\"\n",
    "\n",
    "print(st.lower())\n",
    "print(st.upper())\n",
    "print(st.swapcase())  # aLL IS WELL tHAT ENDS wELL\n",
    "print(st.capitalize())  # All is well that ends well\n",
    "print(st.title())  # All Is Well That Ends Well\n",
    "st\n"
   ]
  },
  {
   "cell_type": "code",
   "execution_count": 52,
   "metadata": {},
   "outputs": [
    {
     "name": "stdout",
     "output_type": "stream",
     "text": [
      "hello \\n ji \\t me\n"
     ]
    }
   ],
   "source": [
    "# raw string preserves \\n and \\t\n",
    "st = r\"hello \\n ji \\t me\"\n",
    "\n",
    "print(st)\n",
    "# hello \\n ji \\t me"
   ]
  },
  {
   "cell_type": "code",
   "execution_count": 4,
   "metadata": {},
   "outputs": [
    {
     "name": "stdout",
     "output_type": "stream",
     "text": [
      "Hello\n",
      "'Hello'\n",
      "1\n"
     ]
    }
   ],
   "source": [
    "# to print the quotes surrounding the string as it is\n",
    "\n",
    "print(\"Hello\")  # Hello\n",
    "print(repr(\"Hello\"))  # 'Hello'\n",
    "print(repr(1))  # 1"
   ]
  },
  {
   "cell_type": "code",
   "execution_count": 82,
   "metadata": {},
   "outputs": [
    {
     "name": "stdout",
     "output_type": "stream",
     "text": [
      "'All is well That ends Well      '\n",
      "'      All is well That ends Well'\n",
      "'All is well That ends Well'\n",
      "'Oh my wow           '\n",
      "'           Oh my wow'\n",
      "'     Oh my wow      '\n",
      "'*****Oh my wow******'\n"
     ]
    }
   ],
   "source": [
    "st = \"      All is well That ends Well      \"\n",
    "\n",
    "print(repr(st.lstrip()))\n",
    "print(repr(st.rstrip()))\n",
    "print(repr(st.strip()))\n",
    "\n",
    "st = \"Oh my wow\"\n",
    "print(repr(st.ljust(20)))\n",
    "print(repr(st.rjust(20)))\n",
    "print(repr(st.center(20)))\n",
    "print(repr(st.center(20, \"*\")))\n"
   ]
  },
  {
   "cell_type": "code",
   "execution_count": 20,
   "metadata": {},
   "outputs": [
    {
     "name": "stdout",
     "output_type": "stream",
     "text": [
      "True\n",
      "True\n",
      "False\n",
      "True\n",
      "False\n",
      "True\n"
     ]
    }
   ],
   "source": [
    "print(\"12abc\".isalnum())  # True\n",
    "print(\"abc\".isalpha())  # True\n",
    "print(\"ab1c\".isalpha())  # False\n",
    "print(\"12\".isdigit())  # True\n",
    "print(\"ABC\".islower())  # False\n",
    "print(\"   \".isspace())  # True\n"
   ]
  },
  {
   "cell_type": "markdown",
   "metadata": {},
   "source": [
    "join array items to form a string\n"
   ]
  },
  {
   "cell_type": "code",
   "execution_count": 74,
   "metadata": {},
   "outputs": [
    {
     "name": "stdout",
     "output_type": "stream",
     "text": [
      "'applemangograpes'\n",
      "'apple-mango-grapes'\n"
     ]
    }
   ],
   "source": [
    "fruits = [\"apple\", \"mango\", \"grapes\"]\n",
    "\n",
    "# 'applemangograpes'\n",
    "print(repr(\"\".join(fruits)))\n",
    "\n",
    "# 'apple-mango-grapes'\n",
    "print(repr(\"-\".join(fruits)))\n"
   ]
  },
  {
   "cell_type": "markdown",
   "metadata": {},
   "source": [
    "count occ of a character in string\n"
   ]
  },
  {
   "cell_type": "code",
   "execution_count": 1,
   "metadata": {},
   "outputs": [
    {
     "name": "stdout",
     "output_type": "stream",
     "text": [
      "1\n",
      "0\n",
      "1\n",
      "0\n"
     ]
    }
   ],
   "source": [
    "st = \"All is well That ends Well\"\n",
    "\n",
    "print(st.count(\"i\"))  # 1\n",
    "print(st.count(\"o\"))  # 0\n",
    "print(st.count(\"All\"))  # 1\n",
    "print(st.count(\"All0\"))  # 0\n"
   ]
  },
  {
   "cell_type": "code",
   "execution_count": 22,
   "metadata": {},
   "outputs": [
    {
     "name": "stdout",
     "output_type": "stream",
     "text": [
      "He0000o\n",
      "samisagirl\n"
     ]
    }
   ],
   "source": [
    "st = \"Hellllo\"\n",
    "\n",
    "# He0000o\n",
    "print(st.replace(\"l\", \"0\"))\n",
    "\n",
    "\n",
    "# remove space from a string\n",
    "print(\"sam is a girl\".replace(\" \", \"\"))\n"
   ]
  },
  {
   "cell_type": "markdown",
   "metadata": {},
   "source": [
    "iterate over a string\n"
   ]
  },
  {
   "cell_type": "code",
   "execution_count": 23,
   "metadata": {},
   "outputs": [
    {
     "name": "stdout",
     "output_type": "stream",
     "text": [
      "A l l   i s   w e l l \n",
      "(0, 'A') (1, 'l') (2, 'l') (3, ' ') (4, 'i') (5, 's') (6, ' ') (7, 'w') (8, 'e') (9, 'l') (10, 'l') \n",
      "0 A\n",
      "1 l\n",
      "2 l\n",
      "3  \n",
      "4 i\n",
      "5 s\n",
      "6  \n",
      "7 w\n",
      "8 e\n",
      "9 l\n",
      "10 l\n"
     ]
    }
   ],
   "source": [
    "st = \"All is well\"\n",
    "\n",
    "# A l l   i s   w e l l\n",
    "for s in st:\n",
    "    print(s, end=\" \")\n",
    "\n",
    "# (0, 'A') (1, 'l') (2, 'l') (3, ' ') (4, 'i') (5, 's') (6, ' ') (7, 'w') (8, 'e') (9, 'l') (10, 'l')\n",
    "for s in enumerate(st):\n",
    "    print(s, end=\" \")\n",
    "\n",
    "# 0 A\n",
    "# 1 l\n",
    "# ...\n",
    "for key, s in enumerate(st):\n",
    "    print(key, s)"
   ]
  },
  {
   "cell_type": "markdown",
   "metadata": {},
   "source": [
    "# Control structures\n"
   ]
  },
  {
   "cell_type": "code",
   "execution_count": 1,
   "metadata": {},
   "outputs": [
    {
     "name": "stdout",
     "output_type": "stream",
     "text": [
      "0 1 2 \n",
      "1 2 \n",
      "1 3 5 \n",
      "-1 -2 -3 -4 \n",
      "-1 -3 -5 "
     ]
    }
   ],
   "source": [
    "# default-start: 0 and ends: 3 - 1\n",
    "# range(start = 0, end, step)\n",
    "\n",
    "# 0 1 2\n",
    "for i in range(3):\n",
    "    print(i, end=\" \")\n",
    "\n",
    "print()\n",
    "\n",
    "# 1 2\n",
    "for i in range(1, 3):\n",
    "    print(i, end=\" \")\n",
    "\n",
    "print()\n",
    "\n",
    "# 1 3 5\n",
    "for i in range(1, 6, 2):\n",
    "    print(i, end=\" \")\n",
    "\n",
    "print()\n",
    "\n",
    "# -1 -2 -3 -4\n",
    "for i in range(-1, -5, -1):\n",
    "    print(i, end=\" \")\n",
    "\n",
    "print()\n",
    "\n",
    "# -1 -3 -5\n",
    "for i in range(-1, -6, -2):\n",
    "    print(i, end=\" \")"
   ]
  },
  {
   "cell_type": "markdown",
   "metadata": {},
   "source": [
    "# Dictionary : is mutable\n"
   ]
  },
  {
   "cell_type": "markdown",
   "metadata": {},
   "source": [
    "dict()\n"
   ]
  },
  {
   "cell_type": "code",
   "execution_count": 5,
   "metadata": {},
   "outputs": [
    {
     "ename": "SyntaxError",
     "evalue": "expression cannot contain assignment, perhaps you meant \"==\"? (Temp/ipykernel_15088/4218397153.py, line 4)",
     "output_type": "error",
     "traceback": [
      "\u001b[1;36m  File \u001b[1;32m\"C:\\Users\\SAMREEN\\AppData\\Local\\Temp/ipykernel_15088/4218397153.py\"\u001b[1;36m, line \u001b[1;32m4\u001b[0m\n\u001b[1;33m    d = dict('sam'= 12)\u001b[0m\n\u001b[1;37m             ^\u001b[0m\n\u001b[1;31mSyntaxError\u001b[0m\u001b[1;31m:\u001b[0m expression cannot contain assignment, perhaps you meant \"==\"?\n"
     ]
    }
   ],
   "source": [
    "# d = dict(1=2, 3=4) \n",
    "# ERROR => number cannot be used as key in dict()\n",
    "\n",
    "d = dict('sam'= 12, '1' = 2)\n",
    "# ERROR => keys cannot have quotes around"
   ]
  },
  {
   "cell_type": "code",
   "execution_count": 2,
   "metadata": {},
   "outputs": [
    {
     "ename": "SyntaxError",
     "evalue": "expression cannot contain assignment, perhaps you meant \"==\"? (Temp/ipykernel_15088/1126892421.py, line 3)",
     "output_type": "error",
     "traceback": [
      "\u001b[1;36m  File \u001b[1;32m\"C:\\Users\\SAMREEN\\AppData\\Local\\Temp/ipykernel_15088/1126892421.py\"\u001b[1;36m, line \u001b[1;32m3\u001b[0m\n\u001b[1;33m    d = dict(a=1, b=2, c=3, sammmm=12, polo=\"polos\", '1'= 12)\u001b[0m\n\u001b[1;37m                                                     ^\u001b[0m\n\u001b[1;31mSyntaxError\u001b[0m\u001b[1;31m:\u001b[0m expression cannot contain assignment, perhaps you meant \"==\"?\n"
     ]
    }
   ],
   "source": [
    "# dict(1=2, 3=4) => number cannot be used as key in dict()\n",
    "\n",
    "d = dict(a=1, b=2, c=3, sammmm=12, polo=\"polos\")\n",
    "d\n",
    "\n",
    "# {'a': 1, 'b': 2, 'c': 3, 'sammmm': 12, 'polo': 'polos'}\n"
   ]
  },
  {
   "cell_type": "code",
   "execution_count": 12,
   "metadata": {},
   "outputs": [
    {
     "data": {
      "text/plain": [
       "{'a': 1, 'b': 2, 'c': 3, 'sasmmmm': 12, 'polo': 'polos', 1: 9090}"
      ]
     },
     "execution_count": 12,
     "metadata": {},
     "output_type": "execute_result"
    }
   ],
   "source": [
    "d = {\"a\": 1, \"b\": 2, \"c\": 3, \"sasmmmm\": 12, \"polo\": \"polos\", 1: 9090}\n",
    "d\n",
    "# {'a': 1, 'b': 2, 'c': 3, 'sasmmmm': 12, 'polo': 'polos', 1: 9090}"
   ]
  },
  {
   "cell_type": "code",
   "execution_count": 14,
   "metadata": {},
   "outputs": [
    {
     "data": {
      "text/plain": [
       "{'a': 1, 'b': 2, 'c': 3, 'sammmm': 12, 'polo': 'polos', 1: 9090, 'z': 2}"
      ]
     },
     "execution_count": 14,
     "metadata": {},
     "output_type": "execute_result"
    }
   ],
   "source": [
    "d = {\"a\": 1, \"b\": 2, \"c\": 3, \"sammmm\": 12, \"polo\": \"polos\", 1: 9090}\n",
    "d[\"z\"] = 1\n",
    "d[\"z\"] += 1\n",
    "d\n",
    "# {'a': 1, 'b': 2, 'c': 3, 'sammmm': 12, 'polo': 'polos', 1: 9090, 'z': 2}"
   ]
  },
  {
   "cell_type": "code",
   "execution_count": 25,
   "metadata": {},
   "outputs": [],
   "source": [
    "mydict = {\n",
    "    1: \"one\",\n",
    "    2: \"two\",\n",
    "    \"A\": [\"asif\", \"john\", \"Maria\"],\n",
    "    \"B\": (\"Bat\", \"cat\", \"hat\"),\n",
    "}  # dictionary with mixed keys\n"
   ]
  },
  {
   "cell_type": "markdown",
   "metadata": {},
   "source": [
    "access keys\n"
   ]
  },
  {
   "cell_type": "code",
   "execution_count": 54,
   "metadata": {},
   "outputs": [
    {
     "name": "stdout",
     "output_type": "stream",
     "text": [
      "one\n",
      "one\n",
      "None\n",
      "not present\n"
     ]
    },
    {
     "data": {
      "text/plain": [
       "{1: 'one', 2: 'two', 'A': ['asif', 'john', 'Maria']}"
      ]
     },
     "execution_count": 54,
     "metadata": {},
     "output_type": "execute_result"
    }
   ],
   "source": [
    "mydict = {1: \"one\", 2: \"two\", \"A\": [\"asif\", \"john\", \"Maria\"]}\n",
    "\n",
    "# one\n",
    "print(mydict[1])\n",
    "\n",
    "# KeyError\n",
    "print(mydict[4])\n",
    "\n",
    "# one\n",
    "print(mydict.get(1))\n",
    "\n",
    "# None\n",
    "print(mydict.get(400))\n",
    "\n",
    "# not present\n",
    "print(mydict.get(400, \"not present in mydict\"))\n",
    "\n",
    "mydict\n"
   ]
  },
  {
   "cell_type": "markdown",
   "metadata": {},
   "source": [
    "iterate\n"
   ]
  },
  {
   "cell_type": "code",
   "execution_count": 57,
   "metadata": {},
   "outputs": [
    {
     "name": "stdout",
     "output_type": "stream",
     "text": [
      "one\n",
      "two\n",
      "['asif', 'john', 'Maria']\n",
      "('Bat', 'cat', 'hat')\n"
     ]
    }
   ],
   "source": [
    "mydict = {\n",
    "    1: \"one\",\n",
    "    2: \"two\",\n",
    "    \"A\": [\"asif\", \"john\", \"Maria\"],\n",
    "    \"B\": (\"Bat\", \"cat\", \"hat\"),\n",
    "}  # dictionary with mixed keys\n",
    "\n",
    "for key in mydict:\n",
    "    print(mydict[key])\n"
   ]
  },
  {
   "cell_type": "code",
   "execution_count": 66,
   "metadata": {},
   "outputs": [
    {
     "name": "stdout",
     "output_type": "stream",
     "text": [
      "dict_keys([1, 2, 'A', 'B'])\n",
      "1 2 A B\n",
      "1\n",
      "2\n",
      "A\n",
      "B\n"
     ]
    }
   ],
   "source": [
    "# dict_keys([1, 2, 'A', 'B'])\n",
    "print(mydict.keys())\n",
    "\n",
    "# return a generator object\n",
    "\n",
    "# 1 2 A B\n",
    "print(*mydict.keys())\n",
    "\n",
    "# alternate to abv\n",
    "for key in mydict.keys():\n",
    "    print(key)"
   ]
  },
  {
   "cell_type": "code",
   "execution_count": 71,
   "metadata": {},
   "outputs": [
    {
     "name": "stdout",
     "output_type": "stream",
     "text": [
      "dict_values(['one', 'two', ['asif', 'john', 'Maria'], ('Bat', 'cat', 'hat')])\n",
      "one two ['asif', 'john', 'Maria'] ('Bat', 'cat', 'hat')\n",
      "one\n",
      "two\n",
      "['asif', 'john', 'Maria']\n",
      "('Bat', 'cat', 'hat')\n"
     ]
    }
   ],
   "source": [
    "print(mydict.values())\n",
    "# dict_values(['one', 'two', ['asif', 'john', 'Maria'], ('Bat', 'cat', 'hat')])\n",
    "\n",
    "# return a generator object\n",
    "\n",
    "# one two ['asif', 'john', 'Maria'] ('Bat', 'cat', 'hat')\n",
    "print(*mydict.values())\n",
    "\n",
    "# alternate to abv\n",
    "for val in mydict.values():\n",
    "    print(val)"
   ]
  },
  {
   "cell_type": "code",
   "execution_count": 75,
   "metadata": {},
   "outputs": [
    {
     "name": "stdout",
     "output_type": "stream",
     "text": [
      "dict_items([(1, 'one'), (2, 'two'), ('A', ['asif', 'john', 'Maria']), ('B', ('Bat', 'cat', 'hat'))])\n",
      "(1, 'one') (2, 'two') ('A', ['asif', 'john', 'Maria']) ('B', ('Bat', 'cat', 'hat'))\n",
      "1 one\n",
      "2 two\n",
      "A ['asif', 'john', 'Maria']\n",
      "B ('Bat', 'cat', 'hat')\n"
     ]
    }
   ],
   "source": [
    "# dict_items([(1, 'one'), (2, 'two'), ('A', ['asif', 'john', 'Maria']), ('B', ('Bat', 'cat', 'hat'))])\n",
    "print(mydict.items())\n",
    "\n",
    "# return a generator object:\n",
    "# (1, 'one') (2, 'two') ('A', ['asif', 'john', 'Maria']) ('B', ('Bat', 'cat', 'hat'))\n",
    "print(*mydict.items())\n",
    "\n",
    "# alternate to abv\n",
    "for key, val in mydict.items():\n",
    "    print(key, val)"
   ]
  },
  {
   "cell_type": "markdown",
   "metadata": {},
   "source": [
    "# Sets: is unordered\n"
   ]
  },
  {
   "cell_type": "code",
   "execution_count": 76,
   "metadata": {},
   "outputs": [
    {
     "data": {
      "text/plain": [
       "{1, 2, 3, 4, 5}"
      ]
     },
     "execution_count": 76,
     "metadata": {},
     "output_type": "execute_result"
    }
   ],
   "source": [
    "myset = {1, 2, 3, 4, 5}  # Set of numbers\n",
    "myset\n"
   ]
  },
  {
   "cell_type": "code",
   "execution_count": 78,
   "metadata": {},
   "outputs": [
    {
     "data": {
      "text/plain": [
       "5"
      ]
     },
     "execution_count": 78,
     "metadata": {},
     "output_type": "execute_result"
    }
   ],
   "source": [
    "len(myset)  # Length of the set\n"
   ]
  },
  {
   "cell_type": "markdown",
   "metadata": {},
   "source": [
    "Empty set\n"
   ]
  },
  {
   "cell_type": "code",
   "execution_count": 1,
   "metadata": {},
   "outputs": [
    {
     "data": {
      "text/plain": [
       "set()"
      ]
     },
     "execution_count": 1,
     "metadata": {},
     "output_type": "execute_result"
    }
   ],
   "source": [
    "myset = set()  # empty set\n",
    "myset"
   ]
  },
  {
   "cell_type": "markdown",
   "metadata": {},
   "source": [
    "duplicates are not allowed hence get eliminated when included\n"
   ]
  },
  {
   "cell_type": "code",
   "execution_count": 79,
   "metadata": {},
   "outputs": [
    {
     "data": {
      "text/plain": [
       "{1, 2, 3, 4, 5}"
      ]
     },
     "execution_count": 79,
     "metadata": {},
     "output_type": "execute_result"
    }
   ],
   "source": [
    "my_set = {1, 1, 2, 2, 3, 4, 5, 5}\n",
    "my_set  # Duplicate elements are not allowed.\n"
   ]
  },
  {
   "cell_type": "markdown",
   "metadata": {},
   "source": [
    "mixed datatypes - immutable are allowed\n"
   ]
  },
  {
   "cell_type": "code",
   "execution_count": 80,
   "metadata": {},
   "outputs": [
    {
     "data": {
      "text/plain": [
       "{(11, 22, 32), 10, 20, 'Hola'}"
      ]
     },
     "execution_count": 80,
     "metadata": {},
     "output_type": "execute_result"
    }
   ],
   "source": [
    "myset3 = {10, 20, \"Hola\", (11, 22, 32)}  # Mixed datatypes\n",
    "myset3\n"
   ]
  },
  {
   "cell_type": "markdown",
   "metadata": {},
   "source": [
    "mixed datatypes - mutable are not allowed\n"
   ]
  },
  {
   "cell_type": "code",
   "execution_count": 81,
   "metadata": {},
   "outputs": [
    {
     "ename": "TypeError",
     "evalue": "unhashable type: 'list'",
     "output_type": "error",
     "traceback": [
      "\u001b[1;31m---------------------------------------------------------------------------\u001b[0m",
      "\u001b[1;31mTypeError\u001b[0m                                 Traceback (most recent call last)",
      "\u001b[1;32m~\\AppData\\Local\\Temp/ipykernel_24936/2440512091.py\u001b[0m in \u001b[0;36m<module>\u001b[1;34m\u001b[0m\n\u001b[1;32m----> 1\u001b[1;33m \u001b[0mmyset3\u001b[0m \u001b[1;33m=\u001b[0m \u001b[1;33m{\u001b[0m\u001b[1;36m10\u001b[0m\u001b[1;33m,\u001b[0m\u001b[1;36m20\u001b[0m\u001b[1;33m,\u001b[0m \u001b[1;34m\"Hola\"\u001b[0m\u001b[1;33m,\u001b[0m \u001b[1;33m[\u001b[0m\u001b[1;36m11\u001b[0m\u001b[1;33m,\u001b[0m \u001b[1;36m22\u001b[0m\u001b[1;33m,\u001b[0m \u001b[1;36m32\u001b[0m\u001b[1;33m]\u001b[0m\u001b[1;33m}\u001b[0m \u001b[1;31m# set doesn't allow mutable items like lists\u001b[0m\u001b[1;33m\u001b[0m\u001b[1;33m\u001b[0m\u001b[0m\n\u001b[0m\u001b[0;32m      2\u001b[0m \u001b[0mmyset3\u001b[0m\u001b[1;33m\u001b[0m\u001b[1;33m\u001b[0m\u001b[0m\n",
      "\u001b[1;31mTypeError\u001b[0m: unhashable type: 'list'"
     ]
    }
   ],
   "source": [
    "myset3 = {\n",
    "    10,\n",
    "    20,\n",
    "    \"Hola\",\n",
    "    [11, 22, 32],\n",
    "}  # set doesn't allow mutable items like lists, dict\n",
    "myset3\n",
    "# coz mutable items are not hashable"
   ]
  },
  {
   "cell_type": "markdown",
   "metadata": {},
   "source": [
    "iterate over set\n"
   ]
  },
  {
   "cell_type": "code",
   "execution_count": 5,
   "metadata": {},
   "outputs": [
    {
     "name": "stdout",
     "output_type": "stream",
     "text": [
      "two\n",
      "one\n",
      "eight\n",
      "four\n",
      "three\n",
      "six\n",
      "seven\n",
      "five\n",
      "(0, 'two') (1, 'one') (2, 'eight') (3, 'four') (4, 'three') (5, 'six') (6, 'seven') (7, 'five')\n"
     ]
    },
    {
     "ename": "TypeError",
     "evalue": "'set' object is not subscriptable",
     "output_type": "error",
     "traceback": [
      "\u001b[1;31m---------------------------------------------------------------------------\u001b[0m",
      "\u001b[1;31mTypeError\u001b[0m                                 Traceback (most recent call last)",
      "\u001b[1;32m~\\AppData\\Local\\Temp/ipykernel_22248/1043257732.py\u001b[0m in \u001b[0;36m<module>\u001b[1;34m\u001b[0m\n\u001b[0;32m      7\u001b[0m \u001b[0mprint\u001b[0m\u001b[1;33m(\u001b[0m\u001b[1;33m*\u001b[0m\u001b[0menumerate\u001b[0m\u001b[1;33m(\u001b[0m\u001b[0mmyset\u001b[0m\u001b[1;33m)\u001b[0m\u001b[1;33m)\u001b[0m\u001b[1;33m\u001b[0m\u001b[1;33m\u001b[0m\u001b[0m\n\u001b[0;32m      8\u001b[0m \u001b[1;33m\u001b[0m\u001b[0m\n\u001b[1;32m----> 9\u001b[1;33m \u001b[0mprint\u001b[0m\u001b[1;33m(\u001b[0m\u001b[0mmyset\u001b[0m\u001b[1;33m[\u001b[0m\u001b[1;36m0\u001b[0m\u001b[1;33m]\u001b[0m\u001b[1;33m)\u001b[0m\u001b[1;33m\u001b[0m\u001b[1;33m\u001b[0m\u001b[0m\n\u001b[0m",
      "\u001b[1;31mTypeError\u001b[0m: 'set' object is not subscriptable"
     ]
    }
   ],
   "source": [
    "myset = {\"one\", \"two\", \"three\", \"four\", \"five\", \"six\", \"seven\", \"eight\"}\n",
    "\n",
    "for i in myset:\n",
    "    print(i)\n",
    "\n",
    "# simply waste\n",
    "# (0, 'two') (1, 'one') (2, 'eight') (3, 'four') (4, 'three') (5, 'six') (6, 'seven') (7, 'five')\n",
    "print(*enumerate(myset))\n",
    "\n",
    "# error cannot do this\n",
    "print(myset[0])"
   ]
  },
  {
   "cell_type": "markdown",
   "metadata": {},
   "source": [
    "set membership\n"
   ]
  },
  {
   "cell_type": "code",
   "execution_count": null,
   "metadata": {},
   "outputs": [],
   "source": [
    "\"one\" in myset  # Check if 'one' exist in the set\n",
    "\n",
    "\"one\" not in myset  # Check if 'one' doesn't exist in the set\n"
   ]
  },
  {
   "cell_type": "markdown",
   "metadata": {},
   "source": [
    "set add elements\n"
   ]
  },
  {
   "cell_type": "code",
   "execution_count": 45,
   "metadata": {},
   "outputs": [
    {
     "data": {
      "text/plain": [
       "{1, 2, 3, 4}"
      ]
     },
     "execution_count": 45,
     "metadata": {},
     "output_type": "execute_result"
    }
   ],
   "source": [
    "myset = {1, 2, 3}\n",
    "myset.add(4)\n",
    "myset\n"
   ]
  },
  {
   "cell_type": "markdown",
   "metadata": {},
   "source": [
    "remove set elements\n"
   ]
  },
  {
   "cell_type": "code",
   "execution_count": 42,
   "metadata": {},
   "outputs": [
    {
     "data": {
      "text/plain": [
       "2"
      ]
     },
     "execution_count": 42,
     "metadata": {},
     "output_type": "execute_result"
    }
   ],
   "source": [
    "# pops random elemnts from set\n",
    "poped = myset.pop()\n",
    "poped\n"
   ]
  },
  {
   "cell_type": "code",
   "execution_count": 46,
   "metadata": {},
   "outputs": [
    {
     "data": {
      "text/plain": [
       "{1, 2, 3}"
      ]
     },
     "execution_count": 46,
     "metadata": {},
     "output_type": "execute_result"
    }
   ],
   "source": [
    "myset.remove(4)\n",
    "myset\n",
    "\n",
    "# ERROR: if element is not member of the set Key Error\n"
   ]
  },
  {
   "cell_type": "code",
   "execution_count": null,
   "metadata": {},
   "outputs": [],
   "source": []
  }
 ],
 "metadata": {
  "kernelspec": {
   "display_name": "Python 3",
   "language": "python",
   "name": "python3"
  },
  "language_info": {
   "codemirror_mode": {
    "name": "ipython",
    "version": 3
   },
   "file_extension": ".py",
   "mimetype": "text/x-python",
   "name": "python",
   "nbconvert_exporter": "python",
   "pygments_lexer": "ipython3",
   "version": "3.10.1"
  },
  "orig_nbformat": 4
 },
 "nbformat": 4,
 "nbformat_minor": 2
}
