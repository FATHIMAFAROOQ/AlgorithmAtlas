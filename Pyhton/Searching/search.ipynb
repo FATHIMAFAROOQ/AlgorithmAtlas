{
 "cells": [
  {
   "cell_type": "code",
   "execution_count": 68,
   "metadata": {},
   "outputs": [
    {
     "name": "stdout",
     "output_type": "stream",
     "text": [
      "12 found at index 1\n"
     ]
    }
   ],
   "source": [
    "# Linear search\n",
    "\n",
    "def linear_search(array=[101, 12, 390, 4, -5, 26], search=12):\n",
    "    \n",
    "    for index, element in enumerate(array):\n",
    "        if search == element:\n",
    "            print(f\"{search} found at index {index}\")\n",
    "            break\n",
    "    # The else gets executed only if for-loop executes normally(doesn't encounter a break)\n",
    "    else:\n",
    "        print(f\"{search} not found\")\n",
    "\n",
    "linear_search()\n",
    "# TC: O(n)\n",
    "# SC: O(1) - Constant space complexity as only a few variables (like 'search', 'index', and 'element') are used regardless of the array size\n",
    "# Auxiliary space: O(1) - Similar to space complexity, as the extra memory used is constant regardless of the input size"
   ]
  },
  {
   "cell_type": "code",
   "execution_count": 88,
   "metadata": {},
   "outputs": [],
   "source": [
    "# Binary search - only on sorted arrays in asc order\n",
    "\n",
    "# Ascending Order\n",
    "\n",
    "def binary_Search_Asc(array = [101, 12, 390, 4, -5, 26], search = 12):\n",
    "    array.sort()\n",
    "    left, right = 0 , len(array) - 1\n",
    "    \n",
    "    while left <= right:\n",
    "        mid = int(left + right / 2)\n",
    "    \n",
    "        if array[mid] == search:\n",
    "            print(f\"{search} found at index {mid}\")\n",
    "            break\n",
    "    \n",
    "        elif array[mid] < search:\n",
    "            left = mid + 1\n",
    "    \n",
    "        else:\n",
    "            right = mid - 1\n",
    "\n",
    "    # The else gets executed only if while executes normally(doesn't encounter a break)\n",
    "    else:\n",
    "        print(f\"{search} not found\")\n",
    "\n",
    "# TC: O(log n) - Logarithmic time complexity as the search space is halved in each iteration\n",
    "# SC: O(1) - Constant space complexity as only a few variables (like 'search', 'left', 'right', 'mid') are used regardless of the array size\n",
    "# Auxiliary space: O(1) - Similar to space complexity, as the extra memory used is constant regardless of the input size"
   ]
  },
  {
   "cell_type": "code",
   "execution_count": 89,
   "metadata": {},
   "outputs": [
    {
     "name": "stdout",
     "output_type": "stream",
     "text": [
      "8 found at index 2\n"
     ]
    }
   ],
   "source": [
    "# Descending order\n",
    "\n",
    "def binary_search_descending(arr, target):\n",
    "    left, right = 0, len(arr) - 1\n",
    "    \n",
    "    while left <= right:\n",
    "        mid = left + (right - left) // 2\n",
    "        \n",
    "        if arr[mid] == target:\n",
    "            return mid\n",
    "        elif arr[mid] < target:\n",
    "            right = mid - 1\n",
    "        else:\n",
    "            left = mid + 1\n",
    "            \n",
    "    return -1\n",
    "\n",
    "# Example usage\n",
    "sorted_array_desc = [12, 10, 8, 6, 4, 2]\n",
    "target_element = 8\n",
    "index = binary_search_descending(sorted_array_desc, target_element)\n",
    "\n",
    "if index != -1:\n",
    "    print(f\"{target_element} found at index {index}\")\n",
    "else:\n",
    "    print(f\"{target_element} not found in array\")"
   ]
  },
  {
   "cell_type": "code",
   "execution_count": null,
   "metadata": {},
   "outputs": [],
   "source": [
    "#  every row and column is sorted in increasing order\n",
    "matrix = [[1, 3, 5, 7], \n",
    "          [10, 11, 16, 20], \n",
    "          [23, 30, 34, 60]]\n",
    "\n",
    "#  every row and column is sorted in decreasing order\n",
    "rev_matrix = [[23, 30, 34, 60], \n",
    "              [10, 11, 16, 20], \n",
    "              [1, 3, 5, 7]]"
   ]
  },
  {
   "cell_type": "code",
   "execution_count": null,
   "metadata": {},
   "outputs": [
    {
     "name": "stdout",
     "output_type": "stream",
     "text": [
      "60 found at row - 3 col - 4\n"
     ]
    }
   ],
   "source": [
    "# Binary search on 2Dmatrix -  Ascending order\n",
    "\n",
    "row_size = len(matrix)\n",
    "col_size = len(matrix[0])\n",
    "\n",
    "# in 2Dmatrix 2-pointers are required to show a single position(row, col): we station this pointer at the last element in the first array\n",
    "row = 0\n",
    "col = col_size - 1\n",
    "key = 60\n",
    "\n",
    "while (row >= 0 and row <= row_size-1  and col >= 0 and col <= col_size-1):\n",
    "\n",
    "    if(matrix[row][col] == key):\n",
    "        print(f\"{key} found at row - {row+1} col - {col+1}\")\n",
    "        break\n",
    "        \n",
    "    elif(key > matrix[row][col]):\n",
    "        row += 1\n",
    "        \n",
    "    else:\n",
    "        col -= 1\n",
    "        \n",
    "else:\n",
    "    print(f\"{key} not found!\")        "
   ]
  },
  {
   "cell_type": "code",
   "execution_count": null,
   "metadata": {},
   "outputs": [
    {
     "name": "stdout",
     "output_type": "stream",
     "text": [
      "60 found at row - 1 col - 4\n"
     ]
    }
   ],
   "source": [
    "# Binary search on 2Dmatrix - Descending order\n",
    "\n",
    "row_size = len(rev_matrix)\n",
    "col_size = len(rev_matrix[0])\n",
    "\n",
    "# in 2Dmatrix 2-pointers are required to show a single position: we station this pointer at the last element in the first array\n",
    "row = 0\n",
    "col = col_size - 1\n",
    "key = 60\n",
    "\n",
    "while (row >= 0 and row <= row_size-1  and col >= 0 and col <= col_size-1):\n",
    "\n",
    "    if(rev_matrix[row][col] == key):\n",
    "        print(f\"{key} found at row - {row+1} col - {col+1}\")\n",
    "        break\n",
    "        \n",
    "    elif(key > rev_matrix[row][col]):\n",
    "        col -= 1\n",
    "        \n",
    "    else:\n",
    "        row += 1\n",
    "        \n",
    "else:\n",
    "    print(f\"{key} not found!\")\n",
    "        "
   ]
  },
  {
   "cell_type": "code",
   "execution_count": 78,
   "metadata": {},
   "outputs": [
    {
     "name": "stdout",
     "output_type": "stream",
     "text": [
      "First occurrence of 4 is at index 1\n"
     ]
    }
   ],
   "source": [
    "# Find First occurance - Asc order\n",
    "\n",
    "def binary_search_first_occurrence(arr, target):\n",
    "    left, right = 0, len(arr) - 1\n",
    "    result = -1\n",
    "    \n",
    "    while left <= right:\n",
    "        mid = left + (right - left) // 2\n",
    "        \n",
    "        if arr[mid] == target:\n",
    "            result = mid\n",
    "            right = mid - 1  # Move left to find the first occurrence\n",
    "        elif arr[mid] < target:\n",
    "            left = mid + 1\n",
    "        else:\n",
    "            right = mid - 1\n",
    "            \n",
    "    return result\n",
    "\n",
    "# Example usage\n",
    "key = 4\n",
    "first_occurrence = binary_search_first_occurrence([2, 4, 4, 4, 6, 8, 10, 10, 12], key)\n",
    "\n",
    "if first_occurrence != -1:\n",
    "    print(f\"First occurrence of {key} is at index {first_occurrence}\")\n",
    "else:\n",
    "    print(f\"{key} not found in the list\")"
   ]
  },
  {
   "cell_type": "code",
   "execution_count": 94,
   "metadata": {},
   "outputs": [
    {
     "name": "stdout",
     "output_type": "stream",
     "text": [
      "3 not found in the list\n"
     ]
    }
   ],
   "source": [
    "\n",
    "# Find Last occurance - Asc order\n",
    "\n",
    "def binary_search_last_occurrence(arr, target):\n",
    "    left, right = 0, len(arr) - 1\n",
    "    result = -1\n",
    "    \n",
    "    while left <= right:\n",
    "        mid = left + (right - left) // 2\n",
    "        \n",
    "        if arr[mid] == target:\n",
    "            result = mid\n",
    "            left = mid + 1  # Move right to find the last occurrence\n",
    "        elif arr[mid] < target:\n",
    "            left = mid + 1\n",
    "        else:\n",
    "            right = mid - 1\n",
    "            \n",
    "    return result\n",
    "\n",
    "# Example usage\n",
    "sorted_array = [2, 4, 4, 4, 6, 8, 10, 10, 12]\n",
    "key = 3\n",
    "last_occurrence = binary_search_last_occurrence(sorted_array, key)\n",
    "\n",
    "if last_occurrence != -1:\n",
    "    print(f\"Last occurrence of {key} is at index {last_occurrence}\")\n",
    "else:\n",
    "    print(f\"{key} not found in the list\")"
   ]
  },
  {
   "cell_type": "code",
   "execution_count": 104,
   "metadata": {},
   "outputs": [
    {
     "name": "stdout",
     "output_type": "stream",
     "text": [
      "The floor of 11 is 10\n"
     ]
    }
   ],
   "source": [
    "# Find floor of a number ->  <=\n",
    "\n",
    "def floor_of_number(arr, target):\n",
    "    left, right = 0, len(arr) - 1\n",
    "    floor_value = -1\n",
    "    \n",
    "    while left <= right:\n",
    "        mid = left + (right - left) // 2\n",
    "        \n",
    "        if arr[mid] <= target:\n",
    "            floor_value = arr[mid]\n",
    "            left = mid + 1  # Move right to find a larger candidate\n",
    "        else:\n",
    "            right = mid - 1\n",
    "            \n",
    "    print\n",
    "    return floor_value\n",
    "\n",
    "# Example usage\n",
    "sorted_array = [2, 4, 6, 8, 10, 12]\n",
    "target_number = 11\n",
    "floor = floor_of_number(sorted_array, target_number)\n",
    "\n",
    "if floor != -1:\n",
    "    print(f\"The floor of {target_number} is {floor}\")\n",
    "else:\n",
    "    print(f\"There is no floor for {target_number} in the array\")\n"
   ]
  },
  {
   "cell_type": "code",
   "execution_count": 83,
   "metadata": {},
   "outputs": [
    {
     "name": "stdout",
     "output_type": "stream",
     "text": [
      "The ceil of 7 is 8\n"
     ]
    }
   ],
   "source": [
    "# Find ceil of a number -> >=\n",
    "\n",
    "def ceil_of_number(arr, target):\n",
    "    left, right = 0, len(arr) - 1\n",
    "    ceil_value = -1\n",
    "    \n",
    "    while left <= right:\n",
    "        mid = left + (right - left) // 2\n",
    "        \n",
    "        if arr[mid] >= target:\n",
    "            ceil_value = arr[mid]\n",
    "            right = mid - 1  # Move left to find a smaller candidate\n",
    "        else:\n",
    "            left = mid + 1\n",
    "            \n",
    "    return ceil_value\n",
    "\n",
    "# Example usage\n",
    "sorted_array = [2, 4, 6, 8, 10, 12]\n",
    "target_number = 7\n",
    "ceil = ceil_of_number(sorted_array, target_number)\n",
    "\n",
    "if ceil != -1:\n",
    "    print(f\"The ceil of {target_number} is {ceil}\")\n",
    "else:\n",
    "    print(f\"There is no ceil for {target_number} in the array\")"
   ]
  },
  {
   "cell_type": "code",
   "execution_count": null,
   "metadata": {},
   "outputs": [
    {
     "name": "stdout",
     "output_type": "stream",
     "text": [
      "8\n"
     ]
    }
   ],
   "source": [
    "# Count Negative Numbers in a Sorted Matrix - leetcode\n",
    "\n",
    "def countNegatives(grid: list[list[int]]) -> int:\n",
    "    ans = 0\n",
    "    for row in grid:\n",
    "        if row[0] < 0:  # if starts with negative number [-1, -1, -2, -3]\n",
    "            ans += len(row)\n",
    "\n",
    "        else:\n",
    "            left, right = 0, len(row) - 1\n",
    "            while left <= right:\n",
    "                mid = left + (right - left) // 2\n",
    "                if row[mid] < 0:\n",
    "                    ans += right - mid + 1 \n",
    "                    right = mid - 1\n",
    "                else:\n",
    "                    left = mid + 1\n",
    "    return ans\n",
    "\n",
    "\n",
    "print(countNegatives([[4, 3, 2, -1], [3, 2, 1, -1], [1, 1, -1, -2], [-1, -1, -2, -3]]))"
   ]
  },
  {
   "cell_type": "code",
   "execution_count": 7,
   "metadata": {},
   "outputs": [
    {
     "name": "stdout",
     "output_type": "stream",
     "text": [
      "0\n"
     ]
    }
   ],
   "source": [
    "# Maximum Count of Positive Integer and Negative Integer - leetcode (First and last occurance of 0)\n",
    "\n",
    "def maximumCount(nums: list[int]) -> int:\n",
    "    n = len(nums)\n",
    "\n",
    "    # corner case 1\n",
    "    if nums[0] > 0 or nums[-1] < 0:\n",
    "        return n\n",
    "\n",
    "    # corner case 2\n",
    "    if nums[0] == nums[-1] and nums[0] == 0:\n",
    "        return 0\n",
    "\n",
    "    # try to find the index of -0.5\n",
    "    left, right = 0, n-1\n",
    "    while left < right:\n",
    "        mid = (left + right) // 2\n",
    "        if nums[mid] < -0.5:\n",
    "            left = mid + 1\n",
    "        else:\n",
    "            right = mid\n",
    "\n",
    "    n_neg = left\n",
    "\n",
    "    # try to find the index of 0.5\n",
    "    left, right = 0, n-1\n",
    "    while left < right:\n",
    "        mid = (left + right + 1) // 2\n",
    "        if nums[mid] > 0.5:\n",
    "            right = mid - 1\n",
    "        else:\n",
    "            left = mid\n",
    "\n",
    "    n_pos = n - right - 1\n",
    "\n",
    "    return max(n_pos, n_neg)\n",
    "\n",
    "print(maximumCount([-3,-2,-1,0,0,1,2]))"
   ]
  },
  {
   "cell_type": "code",
   "execution_count": null,
   "metadata": {},
   "outputs": [],
   "source": [
    "# Longest Subsequence With Limited Sum\n",
    "\n"
   ]
  }
 ],
 "metadata": {
  "kernelspec": {
   "display_name": "Python 3",
   "language": "python",
   "name": "python3"
  },
  "language_info": {
   "codemirror_mode": {
    "name": "ipython",
    "version": 3
   },
   "file_extension": ".py",
   "mimetype": "text/x-python",
   "name": "python",
   "nbconvert_exporter": "python",
   "pygments_lexer": "ipython3",
   "version": "3.10.1"
  },
  "orig_nbformat": 4
 },
 "nbformat": 4,
 "nbformat_minor": 2
}
