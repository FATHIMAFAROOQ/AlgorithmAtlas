{
 "cells": [
  {
   "cell_type": "code",
   "execution_count": 17,
   "metadata": {},
   "outputs": [],
   "source": [
    "array = [124, 89, 32, 1, 909, -2, 67]"
   ]
  },
  {
   "cell_type": "code",
   "execution_count": 19,
   "metadata": {},
   "outputs": [
    {
     "name": "stdout",
     "output_type": "stream",
     "text": [
      "Sorted array: [-2, 1, 32, 67, 89, 124, 909]\n"
     ]
    }
   ],
   "source": [
    "# Selection Sort: \n",
    "#  0    1   2  3   4    5   6\n",
    "# 124, 89, 32, 1, 909, -2, 67\n",
    "# im    j\n",
    "\n",
    "def selection_sort(arr):\n",
    "    n = len(arr)\n",
    "    \n",
    "    for i in range(n-1):   # by default the last element gets sorted\n",
    "        min_index = i\n",
    "        for j in range(i+1, n):\n",
    "            if (arr[j] < arr[min_index]):\n",
    "                min_index = j\n",
    "                \n",
    "        # Swap the minimum element with the current element\n",
    "        arr[i], arr[min_index] = arr[min_index], arr[i]\n",
    "\n",
    "selection_sort(array)\n",
    "print(\"Sorted array:\", array)"
   ]
  },
  {
   "cell_type": "code",
   "execution_count": null,
   "metadata": {},
   "outputs": [],
   "source": [
    "# Bubble Sort"
   ]
  },
  {
   "cell_type": "code",
   "execution_count": null,
   "metadata": {},
   "outputs": [],
   "source": [
    "# Insertion Sort"
   ]
  }
 ],
 "metadata": {
  "kernelspec": {
   "display_name": "Python 3",
   "language": "python",
   "name": "python3"
  },
  "language_info": {
   "codemirror_mode": {
    "name": "ipython",
    "version": 3
   },
   "file_extension": ".py",
   "mimetype": "text/x-python",
   "name": "python",
   "nbconvert_exporter": "python",
   "pygments_lexer": "ipython3",
   "version": "3.10.1"
  },
  "orig_nbformat": 4
 },
 "nbformat": 4,
 "nbformat_minor": 2
}
